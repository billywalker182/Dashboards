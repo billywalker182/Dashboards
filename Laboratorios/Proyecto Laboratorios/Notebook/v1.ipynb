{
 "cells": [
  {
   "cell_type": "code",
   "execution_count": 47,
   "id": "89c01dc1",
   "metadata": {},
   "outputs": [],
   "source": [
    "import pandas as pd\n",
    "import numpy as np"
   ]
  },
  {
   "cell_type": "markdown",
   "id": "f52ea4fe",
   "metadata": {},
   "source": [
    "# Lectura de Archivos\n",
    "Se llaman los archivos de profesores de pregrado y posgrado, además el documento que se arroja el formulario de reservas"
   ]
  },
  {
   "cell_type": "code",
   "execution_count": 6,
   "id": "23c160c4",
   "metadata": {},
   "outputs": [],
   "source": [
    "df_pre = pd.read_excel(\"../Data/DIRECTORIO DOCENTES PREG ACTUALIZADO.xlsx\")\n",
    "df_pos = pd.read_excel(\"../Data/DIRECTORIO DOCENTES POSG ACTUALIZADO.xlsx\")\n",
    "df_reserv = pd.read_excel(\"../Data/results-survey725781.xlsx\")"
   ]
  },
  {
   "cell_type": "code",
   "execution_count": 42,
   "id": "dc1e9105",
   "metadata": {},
   "outputs": [
    {
     "data": {
      "text/plain": [
       "(109, 6)"
      ]
     },
     "execution_count": 42,
     "metadata": {},
     "output_type": "execute_result"
    }
   ],
   "source": [
    "#df_pre.columns\n",
    "df_pre.shape"
   ]
  },
  {
   "cell_type": "code",
   "execution_count": 44,
   "id": "2bec72d9",
   "metadata": {},
   "outputs": [
    {
     "data": {
      "text/plain": [
       "(729, 25)"
      ]
     },
     "execution_count": 44,
     "metadata": {},
     "output_type": "execute_result"
    }
   ],
   "source": [
    "#df_pos.columns\n",
    "df_pos.shape"
   ]
  },
  {
   "cell_type": "code",
   "execution_count": 48,
   "id": "248d5735",
   "metadata": {},
   "outputs": [],
   "source": [
    "#df_reserv.columns"
   ]
  },
  {
   "cell_type": "markdown",
   "id": "79596dc1",
   "metadata": {},
   "source": [
    "# Conjunto de Datos Pregrado\n",
    "Se escogen las columnas con las que se quieren trabajar y se identifica la clase a donde va dirigido."
   ]
  },
  {
   "cell_type": "code",
   "execution_count": 58,
   "id": "a97e265a",
   "metadata": {},
   "outputs": [
    {
     "data": {
      "text/html": [
       "<div>\n",
       "<style scoped>\n",
       "    .dataframe tbody tr th:only-of-type {\n",
       "        vertical-align: middle;\n",
       "    }\n",
       "\n",
       "    .dataframe tbody tr th {\n",
       "        vertical-align: top;\n",
       "    }\n",
       "\n",
       "    .dataframe thead th {\n",
       "        text-align: right;\n",
       "    }\n",
       "</style>\n",
       "<table border=\"1\" class=\"dataframe\">\n",
       "  <thead>\n",
       "    <tr style=\"text-align: right;\">\n",
       "      <th></th>\n",
       "      <th>NOMBRE DEL DOCENTE</th>\n",
       "      <th>CONTRATO</th>\n",
       "      <th>CORREO INSTITUCIONAL</th>\n",
       "      <th>CLASES</th>\n",
       "    </tr>\n",
       "  </thead>\n",
       "  <tbody>\n",
       "    <tr>\n",
       "      <th>0</th>\n",
       "      <td>CASTELBLANCO OMAR EDUARDO</td>\n",
       "      <td>HORA CATEDRA</td>\n",
       "      <td>omare.castelblanco@urosario.edu.co</td>\n",
       "      <td>Pregrado</td>\n",
       "    </tr>\n",
       "    <tr>\n",
       "      <th>1</th>\n",
       "      <td>MANZONI MASSIMO</td>\n",
       "      <td>HORA CATEDRA</td>\n",
       "      <td>massimo.manzoni@urosario.edu.co</td>\n",
       "      <td>Pregrado</td>\n",
       "    </tr>\n",
       "  </tbody>\n",
       "</table>\n",
       "</div>"
      ],
      "text/plain": [
       "         NOMBRE DEL DOCENTE      CONTRATO   \\\n",
       "0  CASTELBLANCO OMAR EDUARDO  HORA CATEDRA   \n",
       "1            MANZONI MASSIMO  HORA CATEDRA   \n",
       "\n",
       "                CORREO INSTITUCIONAL     CLASES  \n",
       "0  omare.castelblanco@urosario.edu.co  Pregrado  \n",
       "1     massimo.manzoni@urosario.edu.co  Pregrado  "
      ]
     },
     "execution_count": 58,
     "metadata": {},
     "output_type": "execute_result"
    }
   ],
   "source": [
    "pre = df_pre.loc[:,['NOMBRE DEL DOCENTE ','CONTRATO ','CORREO INSTITUCIONAL ']]\n",
    "pre[\"CLASES\"] = [\"Pregrado\"]*len(pre)\n",
    "pre.head(2)"
   ]
  },
  {
   "cell_type": "markdown",
   "id": "cc178193",
   "metadata": {},
   "source": [
    "# Conjunto de Datos Posgrado\n",
    "Se escogen las columnas con las que se quieren trabajar y se le inditifica la clase a donde va dirigido"
   ]
  },
  {
   "cell_type": "code",
   "execution_count": 59,
   "id": "bc1d293a",
   "metadata": {},
   "outputs": [
    {
     "data": {
      "text/html": [
       "<div>\n",
       "<style scoped>\n",
       "    .dataframe tbody tr th:only-of-type {\n",
       "        vertical-align: middle;\n",
       "    }\n",
       "\n",
       "    .dataframe tbody tr th {\n",
       "        vertical-align: top;\n",
       "    }\n",
       "\n",
       "    .dataframe thead th {\n",
       "        text-align: right;\n",
       "    }\n",
       "</style>\n",
       "<table border=\"1\" class=\"dataframe\">\n",
       "  <thead>\n",
       "    <tr style=\"text-align: right;\">\n",
       "      <th></th>\n",
       "      <th>NOMBRE \\nPROFESOR</th>\n",
       "      <th>VINCULACION</th>\n",
       "      <th>CORREO UROSARIO</th>\n",
       "      <th>CLASES</th>\n",
       "    </tr>\n",
       "  </thead>\n",
       "  <tbody>\n",
       "    <tr>\n",
       "      <th>0</th>\n",
       "      <td>ACOSTA RODRIGUEZ FERNANDO</td>\n",
       "      <td>CES</td>\n",
       "      <td>fernando.acosta@urosario.edu.co</td>\n",
       "      <td>Posgrado</td>\n",
       "    </tr>\n",
       "    <tr>\n",
       "      <th>1</th>\n",
       "      <td>ACOSTA TRUJILLO DORA  LEONOR</td>\n",
       "      <td>HC</td>\n",
       "      <td>dora.acosta@urosario.edu.co</td>\n",
       "      <td>Posgrado</td>\n",
       "    </tr>\n",
       "  </tbody>\n",
       "</table>\n",
       "</div>"
      ],
      "text/plain": [
       "              NOMBRE \\nPROFESOR VINCULACION                   CORREO UROSARIO  \\\n",
       "0     ACOSTA RODRIGUEZ FERNANDO         CES  fernando.acosta@urosario.edu.co    \n",
       "1  ACOSTA TRUJILLO DORA  LEONOR          HC       dora.acosta@urosario.edu.co   \n",
       "\n",
       "     CLASES  \n",
       "0  Posgrado  \n",
       "1  Posgrado  "
      ]
     },
     "execution_count": 59,
     "metadata": {},
     "output_type": "execute_result"
    }
   ],
   "source": [
    "pos = df_pos.loc[:,['NOMBRE \\nPROFESOR','VINCULACION','CORREO UROSARIO']]\n",
    "pos[\"CLASES\"] = [\"Posgrado\"]*len(pos)\n",
    "pos.head(2)"
   ]
  },
  {
   "cell_type": "markdown",
   "id": "e1093375",
   "metadata": {},
   "source": [
    "###### Se Cambia el nombre de las columnas de Posgrado para hacerlos coincidir con pregrado"
   ]
  },
  {
   "cell_type": "code",
   "execution_count": 60,
   "id": "58a50f5c",
   "metadata": {},
   "outputs": [
    {
     "data": {
      "text/html": [
       "<div>\n",
       "<style scoped>\n",
       "    .dataframe tbody tr th:only-of-type {\n",
       "        vertical-align: middle;\n",
       "    }\n",
       "\n",
       "    .dataframe tbody tr th {\n",
       "        vertical-align: top;\n",
       "    }\n",
       "\n",
       "    .dataframe thead th {\n",
       "        text-align: right;\n",
       "    }\n",
       "</style>\n",
       "<table border=\"1\" class=\"dataframe\">\n",
       "  <thead>\n",
       "    <tr style=\"text-align: right;\">\n",
       "      <th></th>\n",
       "      <th>NOMBRE DEL DOCENTE</th>\n",
       "      <th>CONTRATO</th>\n",
       "      <th>CORREO INSTITUCIONAL</th>\n",
       "      <th>CLASES</th>\n",
       "    </tr>\n",
       "  </thead>\n",
       "  <tbody>\n",
       "    <tr>\n",
       "      <th>0</th>\n",
       "      <td>ACOSTA RODRIGUEZ FERNANDO</td>\n",
       "      <td>CES</td>\n",
       "      <td>fernando.acosta@urosario.edu.co</td>\n",
       "      <td>Posgrado</td>\n",
       "    </tr>\n",
       "    <tr>\n",
       "      <th>1</th>\n",
       "      <td>ACOSTA TRUJILLO DORA  LEONOR</td>\n",
       "      <td>HC</td>\n",
       "      <td>dora.acosta@urosario.edu.co</td>\n",
       "      <td>Posgrado</td>\n",
       "    </tr>\n",
       "  </tbody>\n",
       "</table>\n",
       "</div>"
      ],
      "text/plain": [
       "            NOMBRE DEL DOCENTE  CONTRATO              CORREO INSTITUCIONAL   \\\n",
       "0     ACOSTA RODRIGUEZ FERNANDO       CES  fernando.acosta@urosario.edu.co    \n",
       "1  ACOSTA TRUJILLO DORA  LEONOR        HC       dora.acosta@urosario.edu.co   \n",
       "\n",
       "     CLASES  \n",
       "0  Posgrado  \n",
       "1  Posgrado  "
      ]
     },
     "execution_count": 60,
     "metadata": {},
     "output_type": "execute_result"
    }
   ],
   "source": [
    "pos.rename(columns={\"VINCULACION\":'CONTRATO ',\"CORREO UROSARIO\":'CORREO INSTITUCIONAL ',\n",
    "                   \"NOMBRE \\nPROFESOR\":'NOMBRE DEL DOCENTE '},inplace=True)\n",
    "pos.head(2)"
   ]
  },
  {
   "cell_type": "markdown",
   "id": "d76f8ea0",
   "metadata": {},
   "source": [
    "# BD Profesores\n",
    "Se concatenan las dos bases de datos para un solo registro"
   ]
  },
  {
   "cell_type": "code",
   "execution_count": 61,
   "id": "f94ec5dc",
   "metadata": {},
   "outputs": [
    {
     "data": {
      "text/plain": [
       "(838, 4)"
      ]
     },
     "execution_count": 61,
     "metadata": {},
     "output_type": "execute_result"
    }
   ],
   "source": [
    "bd_profesores = pd.concat([pre,pos])\n",
    "bd_profesores.shape"
   ]
  },
  {
   "cell_type": "code",
   "execution_count": 63,
   "id": "4f9627ac",
   "metadata": {},
   "outputs": [
    {
     "data": {
      "text/plain": [
       "Index(['NOMBRE DEL DOCENTE', 'CONTRATO', 'CORREO INSTITUCIONAL', 'CLASES'], dtype='object')"
      ]
     },
     "execution_count": 63,
     "metadata": {},
     "output_type": "execute_result"
    }
   ],
   "source": [
    "bd_profesores.columns = bd_profesores.columns.str.strip()\n",
    "bd_profesores.columns"
   ]
  },
  {
   "cell_type": "code",
   "execution_count": 71,
   "id": "958735ed",
   "metadata": {},
   "outputs": [
    {
     "data": {
      "text/plain": [
       "array(['HORA CATEDRA', 'CARRERA', 'PLANTA', 'PROFESOR ADJUNTO',\n",
       "       'ADMINISTRATIVA', 'PROFESOR DE DOCENCIA', 'ASISTENTE GRADUADO',\n",
       "       'CES', 'HC', 'TC', 'DMU', 'E-LEARNING', 'CRAI', 'N.A',\n",
       "       'HC UR - CES', 'ADMTVO', 'CONFERENCISTA INT.', 'U.L.', nan, 'TF',\n",
       "       'PENDIENTE', 'SIT ORIAN', 'IAB'], dtype=object)"
      ]
     },
     "execution_count": 71,
     "metadata": {},
     "output_type": "execute_result"
    }
   ],
   "source": [
    "bd_profesores.CONTRATO = bd_profesores.CONTRATO.str.strip()\n",
    "bd_profesores.CONTRATO.unique()"
   ]
  },
  {
   "cell_type": "code",
   "execution_count": null,
   "id": "7f69f7a4",
   "metadata": {},
   "outputs": [],
   "source": [
    "bd_profesores.CONTRATO.replace({'HC':'HORA CATEDRA','ADMTVO':'ADMINISTRATIVA'})"
   ]
  }
 ],
 "metadata": {
  "kernelspec": {
   "display_name": "Python 3",
   "language": "python",
   "name": "python3"
  },
  "language_info": {
   "codemirror_mode": {
    "name": "ipython",
    "version": 3
   },
   "file_extension": ".py",
   "mimetype": "text/x-python",
   "name": "python",
   "nbconvert_exporter": "python",
   "pygments_lexer": "ipython3",
   "version": "3.8.8"
  }
 },
 "nbformat": 4,
 "nbformat_minor": 5
}
