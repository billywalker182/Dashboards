{
 "cells": [
  {
   "cell_type": "markdown",
   "metadata": {},
   "source": [
    "# 1. Instalación Librerias"
   ]
  },
  {
   "cell_type": "code",
   "execution_count": 1,
   "metadata": {
    "cell_id": "00000-41d9d54d-9eae-4c94-a207-5852ee6fd930",
    "deepnote_cell_type": "code",
    "deepnote_to_be_reexecuted": false,
    "execution_millis": 5648,
    "execution_start": 1630344612330,
    "source_hash": "186ac3c0",
    "tags": []
   },
   "outputs": [],
   "source": [
    "#!pip install xlrd\n",
    "#!pip install openpyxl"
   ]
  },
  {
   "cell_type": "markdown",
   "metadata": {},
   "source": [
    "# 2. Importar Librerias"
   ]
  },
  {
   "cell_type": "code",
   "execution_count": 2,
   "metadata": {},
   "outputs": [],
   "source": [
    "import pandas as pd\n",
    "from datetime import date, time, datetime\n",
    "import numpy as np"
   ]
  },
  {
   "cell_type": "markdown",
   "metadata": {},
   "source": [
    "# 3. Cargar Registro Actividades URSTeam"
   ]
  },
  {
   "cell_type": "code",
   "execution_count": 3,
   "metadata": {
    "cell_id": "00001-e4799119-7c66-402a-9870-4d1c353aed16",
    "deepnote_cell_type": "code",
    "deepnote_to_be_reexecuted": false,
    "execution_millis": 1094,
    "execution_start": 1630344617985,
    "source_hash": "57a0cbb",
    "tags": []
   },
   "outputs": [
    {
     "name": "stderr",
     "output_type": "stream",
     "text": [
      "C:\\ProgramData\\Anaconda3\\lib\\site-packages\\openpyxl\\worksheet\\_reader.py:312: UserWarning: Data Validation extension is not supported and will be removed\n",
      "  warn(msg)\n"
     ]
    },
    {
     "data": {
      "text/plain": [
       "(307, 36)"
      ]
     },
     "execution_count": 3,
     "metadata": {},
     "output_type": "execute_result"
    }
   ],
   "source": [
    "df_ursteam = pd.read_excel(\"../../../Data/Laboratorios/Registro de Actividades BLAB 2021.xlsx\")\n",
    "df_ursteam.shape"
   ]
  },
  {
   "cell_type": "code",
   "execution_count": 4,
   "metadata": {},
   "outputs": [
    {
     "data": {
      "text/plain": [
       "Index(['Semestre', 'Estado de la actividad', 'Nombres y Apellidos',\n",
       "       'Correo electronico', 'Tipo de usuario (GENERAL)',\n",
       "       'Tipo de usuario (ESPECÍFICO)', 'Area/Cargo (Funcionarios)',\n",
       "       'Escuela/Facultad/Dependencia', 'Programa académico',\n",
       "       'Tipo de actividad (GENERAL)', 'Tipo de actividad (ESPECIFICA)',\n",
       "       'Tipo de ocupación', 'Area (Asignaturas Pregrado)',\n",
       "       'Asignatura (Pregrado/Posgrado)', 'Tipo de Asignatura',\n",
       "       'Grupo (Asignatura)', 'Nombre de la actividad',\n",
       "       'Descripción de la actividad', 'Nombre de Invitado',\n",
       "       'Modalidad de la actividad',\n",
       "       'Lugar donde se realizará (Virtual/Presencial)', 'GTE', 'Laboratorio',\n",
       "       'Recurso específico', 'Recurso general', '# Licencias (Bloomberg)',\n",
       "       'Grabar Sesion (Camara Gesell)', 'Acompañamiento', 'Otro requerimiento',\n",
       "       '# Participantes', 'Fecha de la actividad', 'Día', 'Horario de Inicio',\n",
       "       'Horario de Finalizacion', 'Cantidad \\nde hrs', 'Motivo cancelación'],\n",
       "      dtype='object')"
      ]
     },
     "execution_count": 4,
     "metadata": {},
     "output_type": "execute_result"
    }
   ],
   "source": [
    "df_ursteam.columns"
   ]
  },
  {
   "cell_type": "markdown",
   "metadata": {},
   "source": [
    "# 4. Cargar Registro Actividades UREmprende"
   ]
  },
  {
   "cell_type": "code",
   "execution_count": 5,
   "metadata": {
    "cell_id": "00002-25606bdc-1a71-41b8-a839-61bbd658925f",
    "deepnote_cell_type": "code",
    "deepnote_to_be_reexecuted": false,
    "execution_millis": 783,
    "execution_start": 1630344619073,
    "source_hash": "7b2c0db5",
    "tags": []
   },
   "outputs": [
    {
     "data": {
      "text/plain": [
       "(92, 31)"
      ]
     },
     "execution_count": 5,
     "metadata": {},
     "output_type": "execute_result"
    }
   ],
   "source": [
    "df_uremprende = pd.read_excel(\"../../../Data/Laboratorios/Registro de Actividades UR EMPRENDE.xlsx\")\n",
    "df_uremprende.shape"
   ]
  },
  {
   "cell_type": "code",
   "execution_count": 6,
   "metadata": {},
   "outputs": [],
   "source": [
    "df_uremprende.rename(columns={'Cantidad \\nhoras':'Cantidad \\nde hrs'},inplace=True)"
   ]
  },
  {
   "cell_type": "code",
   "execution_count": 7,
   "metadata": {},
   "outputs": [
    {
     "data": {
      "text/plain": [
       "Index(['Semestre', 'Estado de la actividad', 'Nombres y Apellidos',\n",
       "       'Correo electronico', 'Tipo de usuario (GENERAL)',\n",
       "       'Escuela/Facultad/Dependencia', 'Programa académico',\n",
       "       'Tipo de actividad (GENERAL)', 'Tipo de actividad (ESPECIFICA)',\n",
       "       'Area (Asignaturas Pregrado)', 'Asignatura (Pregrado/Posgrado)',\n",
       "       'Tipo de Asignatura', 'Grupo (Asignatura)', 'Nombre de la actividad',\n",
       "       'Descripción de la actividad', 'Nombre de Invitado',\n",
       "       'Tipo de ocupación', 'Modalidad de la actividad',\n",
       "       'Lugar donde se realizará (Virtual/Presencial)', 'Laboratorio',\n",
       "       'Recurso específico', 'Recurso general', 'Acompañamiento',\n",
       "       'Otro requerimiento', '# Participantes', 'Fecha de la actividad', 'Día',\n",
       "       'Horario de Inicio', 'Horario de Finalizacion', 'Cantidad \\nde hrs',\n",
       "       'Motivo cancelación'],\n",
       "      dtype='object')"
      ]
     },
     "execution_count": 7,
     "metadata": {},
     "output_type": "execute_result"
    }
   ],
   "source": [
    "df_uremprende.columns"
   ]
  },
  {
   "cell_type": "markdown",
   "metadata": {},
   "source": [
    "# 5. Limpieza de Datos y Preparación de Datos\n",
    "\n",
    "* Concatenar URSteam y UREmprende\n",
    "* Borar Las Filas vacias\n",
    "* Eliminar index para generar un nuevo archivo excel\n",
    "* Rellenar con 00:00:00 las columnas de Horario de Finalización y Horario de Inicio\n",
    "* Rellenar los campos vacios con \"Sin Información\"\n",
    "* Colocar en minuscula todo la columna de Estado de la Actividad\n",
    "* Limpiar columna de Tipo de Ocupación\n",
    "* Limpiar columna de Laboratorios"
   ]
  },
  {
   "cell_type": "code",
   "execution_count": 8,
   "metadata": {
    "cell_id": "00002-b6ab8900-649c-43b5-83ad-91df84b9dfeb",
    "deepnote_cell_type": "code",
    "deepnote_to_be_reexecuted": false,
    "execution_millis": 319,
    "execution_start": 1630355372110,
    "source_hash": "a56e893d",
    "tags": []
   },
   "outputs": [],
   "source": [
    "Laboratorios = pd.concat([df_ursteam,df_uremprende])\n",
    "Laboratorios = Laboratorios.dropna(how=\"all\")\n",
    "Laboratorios = Laboratorios.reset_index(drop=True)\n",
    "Laboratorios[\"Horario de Finalizacion\"].fillna(\"00:00:00\",inplace=True)\n",
    "Laboratorios[\"Horario de Inicio\"].fillna(\"00:00:00\",inplace=True)\n",
    "Laboratorios = Laboratorios.fillna(\"Sin Información\")\n",
    "Laboratorios['Estado de la actividad'] = Laboratorios['Estado de la actividad'].str.lower()\n",
    "#Laboratorios['Tipo de ocupación'] = Laboratorios['Tipo de ocupación'].str.lower()"
   ]
  },
  {
   "cell_type": "markdown",
   "metadata": {},
   "source": [
    "## Limpieza Columna -> Tipo de Ocupación"
   ]
  },
  {
   "cell_type": "code",
   "execution_count": 9,
   "metadata": {},
   "outputs": [],
   "source": [
    "Laboratorios['Tipo de ocupación'].replace({\"ACADÉMICA\":\"Academico\",\"EMPRESARIAL\":\"Empresarial\",\"OTRO\":\"Otro\",\n",
    "                                          'EMPRESARIAL ':\"Empresarial\",'OTRO ':\"Otro\"},inplace=True)"
   ]
  },
  {
   "cell_type": "markdown",
   "metadata": {},
   "source": [
    "## Limpieza Columna -> Laboratorios"
   ]
  },
  {
   "cell_type": "code",
   "execution_count": 10,
   "metadata": {},
   "outputs": [],
   "source": [
    "Laboratorios['Laboratorio'] = Laboratorios['Laboratorio'].str.rstrip()\n",
    "Laboratorios['Laboratorio'] = Laboratorios['Laboratorio'].str.lower()"
   ]
  },
  {
   "cell_type": "markdown",
   "metadata": {},
   "source": [
    "## Cambio de Horas a Formato 24"
   ]
  },
  {
   "cell_type": "code",
   "execution_count": 11,
   "metadata": {},
   "outputs": [],
   "source": [
    "#dato = Laboratorios[\"Horario de Finalizacion\"].astype(str)\n",
    "#dato = pd.to_datetime(dato)\n",
    "#dato = dato.dt\n",
    "#dato = dato.to_pydatetime()\n",
    "#Laboratorios[\"Horario de Finalizacion\"]=pd.to_datetime(dato)"
   ]
  },
  {
   "cell_type": "code",
   "execution_count": 12,
   "metadata": {},
   "outputs": [],
   "source": [
    "#dato = Laboratorios[\"Horario de Inicio\"].astype(str)\n",
    "#dato = pd.to_datetime(dato)\n",
    "#dato = dato.dt\n",
    "#dato = dato.to_pydatetime()\n",
    "#Laboratorios[\"Horario de Inicio\"]=pd.to_datetime(dato)#"
   ]
  },
  {
   "cell_type": "code",
   "execution_count": 13,
   "metadata": {},
   "outputs": [
    {
     "data": {
      "text/html": [
       "<div>\n",
       "<style scoped>\n",
       "    .dataframe tbody tr th:only-of-type {\n",
       "        vertical-align: middle;\n",
       "    }\n",
       "\n",
       "    .dataframe tbody tr th {\n",
       "        vertical-align: top;\n",
       "    }\n",
       "\n",
       "    .dataframe thead th {\n",
       "        text-align: right;\n",
       "    }\n",
       "</style>\n",
       "<table border=\"1\" class=\"dataframe\">\n",
       "  <thead>\n",
       "    <tr style=\"text-align: right;\">\n",
       "      <th></th>\n",
       "      <th>Semestre</th>\n",
       "      <th>Estado de la actividad</th>\n",
       "      <th>Nombres y Apellidos</th>\n",
       "      <th>Correo electronico</th>\n",
       "      <th>Tipo de usuario (GENERAL)</th>\n",
       "      <th>Tipo de usuario (ESPECÍFICO)</th>\n",
       "      <th>Area/Cargo (Funcionarios)</th>\n",
       "      <th>Escuela/Facultad/Dependencia</th>\n",
       "      <th>Programa académico</th>\n",
       "      <th>Tipo de actividad (GENERAL)</th>\n",
       "      <th>...</th>\n",
       "      <th>Grabar Sesion (Camara Gesell)</th>\n",
       "      <th>Acompañamiento</th>\n",
       "      <th>Otro requerimiento</th>\n",
       "      <th># Participantes</th>\n",
       "      <th>Fecha de la actividad</th>\n",
       "      <th>Día</th>\n",
       "      <th>Horario de Inicio</th>\n",
       "      <th>Horario de Finalizacion</th>\n",
       "      <th>Cantidad \\nde hrs</th>\n",
       "      <th>Motivo cancelación</th>\n",
       "    </tr>\n",
       "  </thead>\n",
       "  <tbody>\n",
       "    <tr>\n",
       "      <th>0</th>\n",
       "      <td>2021-1</td>\n",
       "      <td>realizada</td>\n",
       "      <td>Andres Fernando Montaña Fernandez</td>\n",
       "      <td>andresfe.montana@urosario.edu.co</td>\n",
       "      <td>Docente de Planta</td>\n",
       "      <td>Profesor de Docencia</td>\n",
       "      <td>Director B+LAB</td>\n",
       "      <td>Escuela de Administracion</td>\n",
       "      <td>NO APLICA</td>\n",
       "      <td>Actividades B+lab</td>\n",
       "      <td>...</td>\n",
       "      <td>NO</td>\n",
       "      <td>NO</td>\n",
       "      <td>NO</td>\n",
       "      <td>1.0</td>\n",
       "      <td>2021-01-20 00:00:00</td>\n",
       "      <td>miércoles</td>\n",
       "      <td>14:00:00</td>\n",
       "      <td>14:30:00</td>\n",
       "      <td>0.5</td>\n",
       "      <td>Sin Información</td>\n",
       "    </tr>\n",
       "    <tr>\n",
       "      <th>1</th>\n",
       "      <td>2021-1</td>\n",
       "      <td>realizada</td>\n",
       "      <td>Andres Fernando Montaña Fernandez</td>\n",
       "      <td>andresfe.montana@urosario.edu.co</td>\n",
       "      <td>Docente de Planta</td>\n",
       "      <td>Profesor de Docencia</td>\n",
       "      <td>Director B+LAB</td>\n",
       "      <td>Escuela de Administracion</td>\n",
       "      <td>NO APLICA</td>\n",
       "      <td>Actividades B+lab</td>\n",
       "      <td>...</td>\n",
       "      <td>NO</td>\n",
       "      <td>NO</td>\n",
       "      <td>NO</td>\n",
       "      <td>1.0</td>\n",
       "      <td>2021-01-20 00:00:00</td>\n",
       "      <td>miércoles</td>\n",
       "      <td>10:00:00</td>\n",
       "      <td>11:00:00</td>\n",
       "      <td>1.0</td>\n",
       "      <td>Sin Información</td>\n",
       "    </tr>\n",
       "    <tr>\n",
       "      <th>2</th>\n",
       "      <td>2021-1</td>\n",
       "      <td>realizada</td>\n",
       "      <td>Andres Fernando Montaña Fernandez</td>\n",
       "      <td>andresfe.montana@urosario.edu.co</td>\n",
       "      <td>Docente de Planta</td>\n",
       "      <td>Profesor de Docencia</td>\n",
       "      <td>Director B+LAB</td>\n",
       "      <td>Escuela de Administracion</td>\n",
       "      <td>NO APLICA</td>\n",
       "      <td>Actividades B+lab</td>\n",
       "      <td>...</td>\n",
       "      <td>NO</td>\n",
       "      <td>NO</td>\n",
       "      <td>NO</td>\n",
       "      <td>1.0</td>\n",
       "      <td>2021-01-21 00:00:00</td>\n",
       "      <td>jueves</td>\n",
       "      <td>17:00:00</td>\n",
       "      <td>17:30:00</td>\n",
       "      <td>0.5</td>\n",
       "      <td>Sin Información</td>\n",
       "    </tr>\n",
       "    <tr>\n",
       "      <th>3</th>\n",
       "      <td>2021-1</td>\n",
       "      <td>realizada</td>\n",
       "      <td>Andres Fernando Montaña Fernandez</td>\n",
       "      <td>andresfe.montana@urosario.edu.co</td>\n",
       "      <td>Docente de Planta</td>\n",
       "      <td>Profesor de Docencia</td>\n",
       "      <td>Director B+LAB</td>\n",
       "      <td>Escuela de Administracion</td>\n",
       "      <td>NO APLICA</td>\n",
       "      <td>Actividades B+lab</td>\n",
       "      <td>...</td>\n",
       "      <td>NO</td>\n",
       "      <td>NO</td>\n",
       "      <td>NO</td>\n",
       "      <td>1.0</td>\n",
       "      <td>2021-01-21 00:00:00</td>\n",
       "      <td>jueves</td>\n",
       "      <td>14:00:00</td>\n",
       "      <td>14:30:00</td>\n",
       "      <td>0.5</td>\n",
       "      <td>Sin Información</td>\n",
       "    </tr>\n",
       "    <tr>\n",
       "      <th>4</th>\n",
       "      <td>2021-1</td>\n",
       "      <td>realizada</td>\n",
       "      <td>Andres Fernando Montaña Fernandez</td>\n",
       "      <td>andresfe.montana@urosario.edu.co</td>\n",
       "      <td>Docente de Planta</td>\n",
       "      <td>Profesor de Docencia</td>\n",
       "      <td>Director B+LAB</td>\n",
       "      <td>Escuela de Administracion</td>\n",
       "      <td>NO APLICA</td>\n",
       "      <td>Actividades B+lab</td>\n",
       "      <td>...</td>\n",
       "      <td>NO</td>\n",
       "      <td>NO</td>\n",
       "      <td>NO</td>\n",
       "      <td>1.0</td>\n",
       "      <td>2021-01-21 00:00:00</td>\n",
       "      <td>jueves</td>\n",
       "      <td>12:00:00</td>\n",
       "      <td>13:00:00</td>\n",
       "      <td>1.0</td>\n",
       "      <td>Sin Información</td>\n",
       "    </tr>\n",
       "    <tr>\n",
       "      <th>...</th>\n",
       "      <td>...</td>\n",
       "      <td>...</td>\n",
       "      <td>...</td>\n",
       "      <td>...</td>\n",
       "      <td>...</td>\n",
       "      <td>...</td>\n",
       "      <td>...</td>\n",
       "      <td>...</td>\n",
       "      <td>...</td>\n",
       "      <td>...</td>\n",
       "      <td>...</td>\n",
       "      <td>...</td>\n",
       "      <td>...</td>\n",
       "      <td>...</td>\n",
       "      <td>...</td>\n",
       "      <td>...</td>\n",
       "      <td>...</td>\n",
       "      <td>...</td>\n",
       "      <td>...</td>\n",
       "      <td>...</td>\n",
       "      <td>...</td>\n",
       "    </tr>\n",
       "    <tr>\n",
       "      <th>394</th>\n",
       "      <td>2021-2</td>\n",
       "      <td>realizada</td>\n",
       "      <td>Luz Andrea Pinzon Aleman</td>\n",
       "      <td>luzand.pinzon@urosario.edu.co</td>\n",
       "      <td>Docente UR</td>\n",
       "      <td>Sin Información</td>\n",
       "      <td>Sin Información</td>\n",
       "      <td>Escuela de Administración</td>\n",
       "      <td>Administración de Negocios Internacionales</td>\n",
       "      <td>Pregrado</td>\n",
       "      <td>...</td>\n",
       "      <td>Sin Información</td>\n",
       "      <td>UR EMPRENDE</td>\n",
       "      <td>NO APLICA</td>\n",
       "      <td>20.0</td>\n",
       "      <td>2021-08-27 00:00:00</td>\n",
       "      <td>Sin Información</td>\n",
       "      <td>16:00:00</td>\n",
       "      <td>19:00:00</td>\n",
       "      <td>2.0</td>\n",
       "      <td>Sin Información</td>\n",
       "    </tr>\n",
       "    <tr>\n",
       "      <th>395</th>\n",
       "      <td>2021-2</td>\n",
       "      <td>realizada</td>\n",
       "      <td>Luz Andrea Pinzon Aleman</td>\n",
       "      <td>luzand.pinzon@urosario.edu.co</td>\n",
       "      <td>Docente UR</td>\n",
       "      <td>Sin Información</td>\n",
       "      <td>Sin Información</td>\n",
       "      <td>Escuela de Administración</td>\n",
       "      <td>Administración de Negocios Internacionales</td>\n",
       "      <td>Pregrado</td>\n",
       "      <td>...</td>\n",
       "      <td>Sin Información</td>\n",
       "      <td>UR EMPRENDE</td>\n",
       "      <td>NO APLICA</td>\n",
       "      <td>5.0</td>\n",
       "      <td>2021-08-28 00:00:00</td>\n",
       "      <td>Sin Información</td>\n",
       "      <td>07:00:00</td>\n",
       "      <td>10:00:00</td>\n",
       "      <td>2.0</td>\n",
       "      <td>Sin Información</td>\n",
       "    </tr>\n",
       "    <tr>\n",
       "      <th>396</th>\n",
       "      <td>2021-2</td>\n",
       "      <td>realizada</td>\n",
       "      <td>Julian Gutierrez</td>\n",
       "      <td>julian.jegr@gmail.com</td>\n",
       "      <td>Docente UR</td>\n",
       "      <td>Sin Información</td>\n",
       "      <td>Sin Información</td>\n",
       "      <td>UR Emprende</td>\n",
       "      <td>NO APLICA</td>\n",
       "      <td>Pregrado</td>\n",
       "      <td>...</td>\n",
       "      <td>Sin Información</td>\n",
       "      <td>UR EMPRENDE</td>\n",
       "      <td>NO APLICA</td>\n",
       "      <td>28.0</td>\n",
       "      <td>2021-08-23 00:00:00</td>\n",
       "      <td>Sin Información</td>\n",
       "      <td>10:00:00</td>\n",
       "      <td>12:00:00</td>\n",
       "      <td>2.0</td>\n",
       "      <td>Sin Información</td>\n",
       "    </tr>\n",
       "    <tr>\n",
       "      <th>397</th>\n",
       "      <td>2021-2</td>\n",
       "      <td>realizada</td>\n",
       "      <td>Julian Gutierrez</td>\n",
       "      <td>julian.jegr@gmail.com</td>\n",
       "      <td>Docente UR</td>\n",
       "      <td>Sin Información</td>\n",
       "      <td>Sin Información</td>\n",
       "      <td>UR Emprende</td>\n",
       "      <td>NO APLICA</td>\n",
       "      <td>Pregrado</td>\n",
       "      <td>...</td>\n",
       "      <td>Sin Información</td>\n",
       "      <td>UR EMPRENDE</td>\n",
       "      <td>NO APLICA</td>\n",
       "      <td>25.0</td>\n",
       "      <td>2021-08-27 00:00:00</td>\n",
       "      <td>Sin Información</td>\n",
       "      <td>12:00:00</td>\n",
       "      <td>14:00:00</td>\n",
       "      <td>2.0</td>\n",
       "      <td>Sin Información</td>\n",
       "    </tr>\n",
       "    <tr>\n",
       "      <th>398</th>\n",
       "      <td>2021-2</td>\n",
       "      <td>realizada</td>\n",
       "      <td>Julian Gutierrez</td>\n",
       "      <td>julian.jegr@gmail.com</td>\n",
       "      <td>Docente UR</td>\n",
       "      <td>Sin Información</td>\n",
       "      <td>Sin Información</td>\n",
       "      <td>UR Emprende</td>\n",
       "      <td>NO APLICA</td>\n",
       "      <td>Pregrado</td>\n",
       "      <td>...</td>\n",
       "      <td>Sin Información</td>\n",
       "      <td>UR EMPRENDE</td>\n",
       "      <td>NO APLICA</td>\n",
       "      <td>28.0</td>\n",
       "      <td>2021-08-30 00:00:00</td>\n",
       "      <td>Sin Información</td>\n",
       "      <td>10:00:00</td>\n",
       "      <td>12:00:00</td>\n",
       "      <td>2.0</td>\n",
       "      <td>Sin Información</td>\n",
       "    </tr>\n",
       "  </tbody>\n",
       "</table>\n",
       "<p>399 rows × 36 columns</p>\n",
       "</div>"
      ],
      "text/plain": [
       "    Semestre Estado de la actividad                Nombres y Apellidos  \\\n",
       "0     2021-1              realizada  Andres Fernando Montaña Fernandez   \n",
       "1     2021-1              realizada  Andres Fernando Montaña Fernandez   \n",
       "2     2021-1              realizada  Andres Fernando Montaña Fernandez   \n",
       "3     2021-1              realizada  Andres Fernando Montaña Fernandez   \n",
       "4     2021-1              realizada  Andres Fernando Montaña Fernandez   \n",
       "..       ...                    ...                                ...   \n",
       "394   2021-2              realizada           Luz Andrea Pinzon Aleman   \n",
       "395   2021-2              realizada           Luz Andrea Pinzon Aleman   \n",
       "396   2021-2              realizada                   Julian Gutierrez   \n",
       "397   2021-2              realizada                   Julian Gutierrez   \n",
       "398   2021-2              realizada                   Julian Gutierrez   \n",
       "\n",
       "                   Correo electronico Tipo de usuario (GENERAL)  \\\n",
       "0    andresfe.montana@urosario.edu.co         Docente de Planta   \n",
       "1    andresfe.montana@urosario.edu.co         Docente de Planta   \n",
       "2    andresfe.montana@urosario.edu.co         Docente de Planta   \n",
       "3    andresfe.montana@urosario.edu.co         Docente de Planta   \n",
       "4    andresfe.montana@urosario.edu.co         Docente de Planta   \n",
       "..                                ...                       ...   \n",
       "394     luzand.pinzon@urosario.edu.co                Docente UR   \n",
       "395     luzand.pinzon@urosario.edu.co                Docente UR   \n",
       "396             julian.jegr@gmail.com                Docente UR   \n",
       "397             julian.jegr@gmail.com                Docente UR   \n",
       "398             julian.jegr@gmail.com                Docente UR   \n",
       "\n",
       "    Tipo de usuario (ESPECÍFICO) Area/Cargo (Funcionarios)  \\\n",
       "0           Profesor de Docencia            Director B+LAB   \n",
       "1           Profesor de Docencia            Director B+LAB   \n",
       "2           Profesor de Docencia            Director B+LAB   \n",
       "3           Profesor de Docencia            Director B+LAB   \n",
       "4           Profesor de Docencia            Director B+LAB   \n",
       "..                           ...                       ...   \n",
       "394              Sin Información           Sin Información   \n",
       "395              Sin Información           Sin Información   \n",
       "396              Sin Información           Sin Información   \n",
       "397              Sin Información           Sin Información   \n",
       "398              Sin Información           Sin Información   \n",
       "\n",
       "    Escuela/Facultad/Dependencia                          Programa académico  \\\n",
       "0      Escuela de Administracion                                   NO APLICA   \n",
       "1      Escuela de Administracion                                   NO APLICA   \n",
       "2      Escuela de Administracion                                   NO APLICA   \n",
       "3      Escuela de Administracion                                   NO APLICA   \n",
       "4      Escuela de Administracion                                   NO APLICA   \n",
       "..                           ...                                         ...   \n",
       "394    Escuela de Administración  Administración de Negocios Internacionales   \n",
       "395    Escuela de Administración  Administración de Negocios Internacionales   \n",
       "396                  UR Emprende                                  NO APLICA    \n",
       "397                  UR Emprende                                  NO APLICA    \n",
       "398                  UR Emprende                                  NO APLICA    \n",
       "\n",
       "    Tipo de actividad (GENERAL)  ... Grabar Sesion (Camara Gesell)  \\\n",
       "0             Actividades B+lab  ...                            NO   \n",
       "1             Actividades B+lab  ...                            NO   \n",
       "2             Actividades B+lab  ...                            NO   \n",
       "3             Actividades B+lab  ...                            NO   \n",
       "4             Actividades B+lab  ...                            NO   \n",
       "..                          ...  ...                           ...   \n",
       "394                    Pregrado  ...               Sin Información   \n",
       "395                    Pregrado  ...               Sin Información   \n",
       "396                    Pregrado  ...               Sin Información   \n",
       "397                    Pregrado  ...               Sin Información   \n",
       "398                    Pregrado  ...               Sin Información   \n",
       "\n",
       "    Acompañamiento Otro requerimiento # Participantes Fecha de la actividad  \\\n",
       "0               NO                 NO             1.0   2021-01-20 00:00:00   \n",
       "1               NO                 NO             1.0   2021-01-20 00:00:00   \n",
       "2               NO                 NO             1.0   2021-01-21 00:00:00   \n",
       "3               NO                 NO             1.0   2021-01-21 00:00:00   \n",
       "4               NO                 NO             1.0   2021-01-21 00:00:00   \n",
       "..             ...                ...             ...                   ...   \n",
       "394   UR EMPRENDE           NO APLICA            20.0   2021-08-27 00:00:00   \n",
       "395   UR EMPRENDE           NO APLICA             5.0   2021-08-28 00:00:00   \n",
       "396   UR EMPRENDE           NO APLICA            28.0   2021-08-23 00:00:00   \n",
       "397   UR EMPRENDE           NO APLICA            25.0   2021-08-27 00:00:00   \n",
       "398   UR EMPRENDE           NO APLICA            28.0   2021-08-30 00:00:00   \n",
       "\n",
       "                 Día Horario de Inicio Horario de Finalizacion  \\\n",
       "0          miércoles          14:00:00                14:30:00   \n",
       "1          miércoles          10:00:00                11:00:00   \n",
       "2             jueves          17:00:00                17:30:00   \n",
       "3             jueves          14:00:00                14:30:00   \n",
       "4             jueves          12:00:00                13:00:00   \n",
       "..               ...               ...                     ...   \n",
       "394  Sin Información          16:00:00                19:00:00   \n",
       "395  Sin Información          07:00:00                10:00:00   \n",
       "396  Sin Información          10:00:00                12:00:00   \n",
       "397  Sin Información          12:00:00                14:00:00   \n",
       "398  Sin Información          10:00:00                12:00:00   \n",
       "\n",
       "    Cantidad \\nde hrs Motivo cancelación  \n",
       "0                 0.5    Sin Información  \n",
       "1                 1.0    Sin Información  \n",
       "2                 0.5    Sin Información  \n",
       "3                 0.5    Sin Información  \n",
       "4                 1.0    Sin Información  \n",
       "..                ...                ...  \n",
       "394               2.0    Sin Información  \n",
       "395               2.0    Sin Información  \n",
       "396               2.0    Sin Información  \n",
       "397               2.0    Sin Información  \n",
       "398               2.0    Sin Información  \n",
       "\n",
       "[399 rows x 36 columns]"
      ]
     },
     "execution_count": 13,
     "metadata": {},
     "output_type": "execute_result"
    }
   ],
   "source": [
    "#Horas = []\n",
    "#for i in range(len(Laboratorios)):\n",
    "#    valor = Laboratorios[\"Horario de Finalizacion\"][i] - Laboratorios[\"Horario de Inicio\"][i]\n",
    "#    valor = valor.seconds//60\n",
    "#    valor = valor / 60\n",
    "#    Horas.append(valor)\n",
    "#Laboratorios[\"Cantidad \\nde hrs\"] = Horas\n",
    "Laboratorios"
   ]
  },
  {
   "cell_type": "code",
   "execution_count": 14,
   "metadata": {},
   "outputs": [
    {
     "data": {
      "text/plain": [
       "(399, 36)"
      ]
     },
     "execution_count": 14,
     "metadata": {},
     "output_type": "execute_result"
    }
   ],
   "source": [
    "Laboratorios.shape"
   ]
  },
  {
   "cell_type": "code",
   "execution_count": 15,
   "metadata": {},
   "outputs": [
    {
     "data": {
      "text/plain": [
       "Index(['Semestre', 'Estado de la actividad', 'Nombres y Apellidos',\n",
       "       'Correo electronico', 'Tipo de usuario (GENERAL)',\n",
       "       'Tipo de usuario (ESPECÍFICO)', 'Area/Cargo (Funcionarios)',\n",
       "       'Escuela/Facultad/Dependencia', 'Programa académico',\n",
       "       'Tipo de actividad (GENERAL)', 'Tipo de actividad (ESPECIFICA)',\n",
       "       'Tipo de ocupación', 'Area (Asignaturas Pregrado)',\n",
       "       'Asignatura (Pregrado/Posgrado)', 'Tipo de Asignatura',\n",
       "       'Grupo (Asignatura)', 'Nombre de la actividad',\n",
       "       'Descripción de la actividad', 'Nombre de Invitado',\n",
       "       'Modalidad de la actividad',\n",
       "       'Lugar donde se realizará (Virtual/Presencial)', 'GTE', 'Laboratorio',\n",
       "       'Recurso específico', 'Recurso general', '# Licencias (Bloomberg)',\n",
       "       'Grabar Sesion (Camara Gesell)', 'Acompañamiento', 'Otro requerimiento',\n",
       "       '# Participantes', 'Fecha de la actividad', 'Día', 'Horario de Inicio',\n",
       "       'Horario de Finalizacion', 'Cantidad \\nde hrs', 'Motivo cancelación'],\n",
       "      dtype='object')"
      ]
     },
     "execution_count": 15,
     "metadata": {},
     "output_type": "execute_result"
    }
   ],
   "source": [
    "Laboratorios.columns"
   ]
  },
  {
   "cell_type": "code",
   "execution_count": 16,
   "metadata": {},
   "outputs": [
    {
     "data": {
      "text/plain": [
       "array(['neuromarketing & comportamiento organizacional',\n",
       "       'smart logistics', 'genius space', 'maker space', 'team space',\n",
       "       'sin información'], dtype=object)"
      ]
     },
     "execution_count": 16,
     "metadata": {},
     "output_type": "execute_result"
    }
   ],
   "source": [
    "Laboratorios['Laboratorio'].unique()"
   ]
  },
  {
   "cell_type": "markdown",
   "metadata": {},
   "source": [
    "# 5. Generar nuestra nueva Base de Datos"
   ]
  },
  {
   "cell_type": "code",
   "execution_count": 18,
   "metadata": {},
   "outputs": [],
   "source": [
    "Laboratorios.to_excel(\"../../../Data/Laboratorios/Laboratorios.xlsx\",index=False,sheet_name=\"CONSOLIDADO\")"
   ]
  },
  {
   "cell_type": "markdown",
   "metadata": {
    "created_in_deepnote_cell": true,
    "deepnote_cell_type": "markdown",
    "tags": []
   },
   "source": [
    "<a style='text-decoration:none;line-height:16px;display:flex;color:#5B5B62;padding:10px;justify-content:end;' href='https://deepnote.com?utm_source=created-in-deepnote-cell&projectId=74770035-0491-47c2-a0bb-f647b639bf32' target=\"_blank\">\n",
    "<img alt='Created in deepnote.com' style='display:inline;max-height:16px;margin:0px;margin-right:7.5px;' src='data:image/svg+xml;base64,PD94bWwgdmVyc2lvbj0iMS4wIiBlbmNvZGluZz0iVVRGLTgiPz4KPHN2ZyB3aWR0aD0iODBweCIgaGVpZ2h0PSI4MHB4IiB2aWV3Qm94PSIwIDAgODAgODAiIHZlcnNpb249IjEuMSIgeG1sbnM9Imh0dHA6Ly93d3cudzMub3JnLzIwMDAvc3ZnIiB4bWxuczp4bGluaz0iaHR0cDovL3d3dy53My5vcmcvMTk5OS94bGluayI+CiAgICA8IS0tIEdlbmVyYXRvcjogU2tldGNoIDU0LjEgKDc2NDkwKSAtIGh0dHBzOi8vc2tldGNoYXBwLmNvbSAtLT4KICAgIDx0aXRsZT5Hcm91cCAzPC90aXRsZT4KICAgIDxkZXNjPkNyZWF0ZWQgd2l0aCBTa2V0Y2guPC9kZXNjPgogICAgPGcgaWQ9IkxhbmRpbmciIHN0cm9rZT0ibm9uZSIgc3Ryb2tlLXdpZHRoPSIxIiBmaWxsPSJub25lIiBmaWxsLXJ1bGU9ImV2ZW5vZGQiPgogICAgICAgIDxnIGlkPSJBcnRib2FyZCIgdHJhbnNmb3JtPSJ0cmFuc2xhdGUoLTEyMzUuMDAwMDAwLCAtNzkuMDAwMDAwKSI+CiAgICAgICAgICAgIDxnIGlkPSJHcm91cC0zIiB0cmFuc2Zvcm09InRyYW5zbGF0ZSgxMjM1LjAwMDAwMCwgNzkuMDAwMDAwKSI+CiAgICAgICAgICAgICAgICA8cG9seWdvbiBpZD0iUGF0aC0yMCIgZmlsbD0iIzAyNjVCNCIgcG9pbnRzPSIyLjM3NjIzNzYyIDgwIDM4LjA0NzY2NjcgODAgNTcuODIxNzgyMiA3My44MDU3NTkyIDU3LjgyMTc4MjIgMzIuNzU5MjczOSAzOS4xNDAyMjc4IDMxLjY4MzE2ODMiPjwvcG9seWdvbj4KICAgICAgICAgICAgICAgIDxwYXRoIGQ9Ik0zNS4wMDc3MTgsODAgQzQyLjkwNjIwMDcsNzYuNDU0OTM1OCA0Ny41NjQ5MTY3LDcxLjU0MjI2NzEgNDguOTgzODY2LDY1LjI2MTk5MzkgQzUxLjExMjI4OTksNTUuODQxNTg0MiA0MS42NzcxNzk1LDQ5LjIxMjIyODQgMjUuNjIzOTg0Niw0OS4yMTIyMjg0IEMyNS40ODQ5Mjg5LDQ5LjEyNjg0NDggMjkuODI2MTI5Niw0My4yODM4MjQ4IDM4LjY0NzU4NjksMzEuNjgzMTY4MyBMNzIuODcxMjg3MSwzMi41NTQ0MjUgTDY1LjI4MDk3Myw2Ny42NzYzNDIxIEw1MS4xMTIyODk5LDc3LjM3NjE0NCBMMzUuMDA3NzE4LDgwIFoiIGlkPSJQYXRoLTIyIiBmaWxsPSIjMDAyODY4Ij48L3BhdGg+CiAgICAgICAgICAgICAgICA8cGF0aCBkPSJNMCwzNy43MzA0NDA1IEwyNy4xMTQ1MzcsMC4yNTcxMTE0MzYgQzYyLjM3MTUxMjMsLTEuOTkwNzE3MDEgODAsMTAuNTAwMzkyNyA4MCwzNy43MzA0NDA1IEM4MCw2NC45NjA0ODgyIDY0Ljc3NjUwMzgsNzkuMDUwMzQxNCAzNC4zMjk1MTEzLDgwIEM0Ny4wNTUzNDg5LDc3LjU2NzA4MDggNTMuNDE4MjY3Nyw3MC4zMTM2MTAzIDUzLjQxODI2NzcsNTguMjM5NTg4NSBDNTMuNDE4MjY3Nyw0MC4xMjg1NTU3IDM2LjMwMzk1NDQsMzcuNzMwNDQwNSAyNS4yMjc0MTcsMzcuNzMwNDQwNSBDMTcuODQzMDU4NiwzNy43MzA0NDA1IDkuNDMzOTE5NjYsMzcuNzMwNDQwNSAwLDM3LjczMDQ0MDUgWiIgaWQ9IlBhdGgtMTkiIGZpbGw9IiMzNzkzRUYiPjwvcGF0aD4KICAgICAgICAgICAgPC9nPgogICAgICAgIDwvZz4KICAgIDwvZz4KPC9zdmc+' > </img>\n",
    "Created in <span style='font-weight:600;margin-left:4px;'>Deepnote</span></a>"
   ]
  }
 ],
 "metadata": {
  "deepnote": {
   "is_reactive": false
  },
  "deepnote_execution_queue": [],
  "deepnote_notebook_id": "35bfd3de-b264-4aae-b545-3c95a07eb79a",
  "kernelspec": {
   "display_name": "Python 3",
   "language": "python",
   "name": "python3"
  },
  "language_info": {
   "codemirror_mode": {
    "name": "ipython",
    "version": 3
   },
   "file_extension": ".py",
   "mimetype": "text/x-python",
   "name": "python",
   "nbconvert_exporter": "python",
   "pygments_lexer": "ipython3",
   "version": "3.8.8"
  }
 },
 "nbformat": 4,
 "nbformat_minor": 2
}
