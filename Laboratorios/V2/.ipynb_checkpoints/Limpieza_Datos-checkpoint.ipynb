{
 "cells": [
  {
   "cell_type": "markdown",
   "metadata": {},
   "source": [
    "# 1. Instalación Librerias"
   ]
  },
  {
   "cell_type": "code",
   "execution_count": null,
   "metadata": {
    "cell_id": "00000-41d9d54d-9eae-4c94-a207-5852ee6fd930",
    "deepnote_cell_type": "code",
    "deepnote_to_be_reexecuted": false,
    "execution_millis": 5648,
    "execution_start": 1630344612330,
    "source_hash": "186ac3c0",
    "tags": []
   },
   "outputs": [],
   "source": [
    "#!pip install xlrd\n",
    "#!pip install openpyxl"
   ]
  },
  {
   "cell_type": "markdown",
   "metadata": {},
   "source": [
    "# 2. Importar Librerias"
   ]
  },
  {
   "cell_type": "code",
   "execution_count": 1,
   "metadata": {},
   "outputs": [],
   "source": [
    "import pandas as pd\n",
    "from datetime import date, time, datetime\n",
    "import numpy as np"
   ]
  },
  {
   "cell_type": "markdown",
   "metadata": {},
   "source": [
    "# 3. Cargar Registro Actividades URSTeam"
   ]
  },
  {
   "cell_type": "code",
   "execution_count": 2,
   "metadata": {},
   "outputs": [],
   "source": [
    "Ruta_pc_ursteam = \"C:/Users/jhone.cruz/Universidad del rosario/Cristian David Martinez Cuervo - idea blab/Gestión Laboratorios/Registros de Actividades/\"\n",
    "Ruta_cris_ursteam = \"//ntf91746/Users/cristianda.martinez/OneDrive - Universidad del rosario/idea blab/Gestión Laboratorios/Registros de Actividades/\"\n",
    "Ruta_casa_ursteam = \"../../../Data/Laboratorios/\""
   ]
  },
  {
   "cell_type": "code",
   "execution_count": 3,
   "metadata": {
    "cell_id": "00001-e4799119-7c66-402a-9870-4d1c353aed16",
    "deepnote_cell_type": "code",
    "deepnote_to_be_reexecuted": false,
    "execution_millis": 1094,
    "execution_start": 1630344617985,
    "source_hash": "57a0cbb",
    "tags": []
   },
   "outputs": [
    {
     "name": "stderr",
     "output_type": "stream",
     "text": [
      "C:\\ProgramData\\Anaconda3\\lib\\site-packages\\openpyxl\\worksheet\\_reader.py:312: UserWarning: Data Validation extension is not supported and will be removed\n",
      "  warn(msg)\n"
     ]
    },
    {
     "data": {
      "text/plain": [
       "(542, 31)"
      ]
     },
     "execution_count": 3,
     "metadata": {},
     "output_type": "execute_result"
    }
   ],
   "source": [
    "# Desde La Casa\n",
    "df_ursteam = pd.read_excel(Ruta_casa_ursteam+\"Registro de Actividades BLAB 2021.xlsx\")\n",
    "\n",
    "# Desde la Universidad - Cristian\n",
    "#df_ursteam = pd.read_excel(Ruta_cris_ursteam+\"Registro de Actividades BLAB 2021.xlsx\")\n",
    "\n",
    "# Desde La universidad - Pc\n",
    "#df_ursteam = pd.read_excel(Ruta_pc_ursteam+\"Registro de Actividades BLAB 2021.xlsx\")\n",
    "\n",
    "df_ursteam.shape"
   ]
  },
  {
   "cell_type": "code",
   "execution_count": 5,
   "metadata": {},
   "outputs": [],
   "source": [
    "#busqueda = df_ursteam[df_ursteam['Nombres y Apellidos'].str.contains(\"Oscar\")]\n",
    "#busqueda[busqueda.Semestre==\"2021-2\"]"
   ]
  },
  {
   "cell_type": "code",
   "execution_count": 4,
   "metadata": {},
   "outputs": [
    {
     "data": {
      "text/plain": [
       "['Semestre',\n",
       " 'Estado de la actividad',\n",
       " 'Nombres y Apellidos',\n",
       " 'Correo electrónico',\n",
       " 'Tipo de usuario (GENERAL)',\n",
       " 'Tipo de usuario (ESPECÍFICO)',\n",
       " 'Escuela/Facultad/Dependencia',\n",
       " 'Programa académico',\n",
       " 'Tipo de actividad (GENERAL)',\n",
       " 'Tipo de actividad (ESPECIFICA)',\n",
       " 'Area (Asignaturas Pregrado)',\n",
       " 'Asignatura (Pregrado/Posgrado)',\n",
       " 'Tipo de Asignatura',\n",
       " 'Grupo (Asignatura)',\n",
       " 'Nombre de la actividad',\n",
       " 'Nombre de Invitado',\n",
       " 'Modalidad de la actividad',\n",
       " 'Lugar donde se realizará (Virtual/Presencial)',\n",
       " 'GTE',\n",
       " 'Laboratorio',\n",
       " 'Recurso específico',\n",
       " 'Recurso general',\n",
       " '# Licencias (Bloomberg)',\n",
       " 'Grabar Sesión (Camara Gesell)',\n",
       " '# Participantes',\n",
       " 'Fecha de la actividad',\n",
       " 'Día',\n",
       " 'Horario de Inicio',\n",
       " 'Horario de Finalización',\n",
       " 'Cantidad de horas',\n",
       " 'Motivo cancelación']"
      ]
     },
     "execution_count": 4,
     "metadata": {},
     "output_type": "execute_result"
    }
   ],
   "source": [
    "df_ursteam.columns.tolist()"
   ]
  },
  {
   "cell_type": "markdown",
   "metadata": {},
   "source": [
    "# 4. Cargar Registro Actividades UREmprende"
   ]
  },
  {
   "cell_type": "code",
   "execution_count": 5,
   "metadata": {},
   "outputs": [],
   "source": [
    "Ruta_pc_uremprende = \"C:/Users/jhone.cruz/Universidad del rosario/Maria Camila Alvarez Celis - LABS/\"\n",
    "Ruta_casa_uremprende = \"../../../Data/Laboratorios/\""
   ]
  },
  {
   "cell_type": "code",
   "execution_count": 6,
   "metadata": {
    "cell_id": "00002-25606bdc-1a71-41b8-a839-61bbd658925f",
    "deepnote_cell_type": "code",
    "deepnote_to_be_reexecuted": false,
    "execution_millis": 783,
    "execution_start": 1630344619073,
    "source_hash": "7b2c0db5",
    "tags": []
   },
   "outputs": [
    {
     "data": {
      "text/plain": [
       "(224, 28)"
      ]
     },
     "execution_count": 6,
     "metadata": {},
     "output_type": "execute_result"
    }
   ],
   "source": [
    "#df_uremprende = pd.read_excel(Ruta_pc_uremprende+\"Registro de Actividades UR EMPRENDE FIN.xlsx\")\n",
    "df_uremprende = pd.read_excel(Ruta_casa_uremprende+\"Registro de Actividades UR EMPRENDE FIN.xlsx\")\n",
    "df_uremprende.shape"
   ]
  },
  {
   "cell_type": "code",
   "execution_count": 7,
   "metadata": {},
   "outputs": [
    {
     "data": {
      "text/plain": [
       "Index(['Semetre', 'Estado de la actividad', 'Nombres y Apellidos',\n",
       "       'Correo electrónico', 'Tipo de usuario (GENERAL)',\n",
       "       'Tipo de usuario (ESPECÍFICO)', 'Escuela/Facultad/Dependencia',\n",
       "       'Programa académico', 'Tipo de actividad (GENERAL)',\n",
       "       'Tipo de actividad (ESPECIFICA)', 'Area (Asignaturas Pregrado)',\n",
       "       'Asignatura (Pregrado/Posgrado)', 'Tipo de Asignatura',\n",
       "       'Grupo (Asignatura)', 'Nombre de la actividad', 'Nombre de Invitado',\n",
       "       'Modalidad de la actividad',\n",
       "       'Lugar donde se realizará (Virtual/Presencial)', 'Laboratorio',\n",
       "       'Recurso específico', 'Recurso general', 'Otro requerimiento',\n",
       "       '# Participantes', 'Fecha de la actividad', 'Horario de Inicio',\n",
       "       'Horario de Finalizacion', 'Cantidad de horas', 'Motivo cancelación'],\n",
       "      dtype='object')"
      ]
     },
     "execution_count": 7,
     "metadata": {},
     "output_type": "execute_result"
    }
   ],
   "source": [
    "df_uremprende.columns"
   ]
  },
  {
   "cell_type": "code",
   "execution_count": 8,
   "metadata": {},
   "outputs": [
    {
     "data": {
      "text/plain": [
       "Index(['Semestre', 'Estado de la actividad', 'Nombres y Apellidos',\n",
       "       'Correo electrónico', 'Tipo de usuario (GENERAL)',\n",
       "       'Tipo de usuario (ESPECÍFICO)', 'Escuela/Facultad/Dependencia',\n",
       "       'Programa académico', 'Tipo de actividad (GENERAL)',\n",
       "       'Tipo de actividad (ESPECIFICA)', 'Area (Asignaturas Pregrado)',\n",
       "       'Asignatura (Pregrado/Posgrado)', 'Tipo de Asignatura',\n",
       "       'Grupo (Asignatura)', 'Nombre de la actividad', 'Nombre de Invitado',\n",
       "       'Modalidad de la actividad',\n",
       "       'Lugar donde se realizará (Virtual/Presencial)', 'Laboratorio',\n",
       "       'Recurso específico', 'Recurso general', 'Otro requerimiento',\n",
       "       '# Participantes', 'Fecha de la actividad', 'Horario de Inicio',\n",
       "       'Horario de Finalización', 'Cantidad de horas', 'Motivo cancelación'],\n",
       "      dtype='object')"
      ]
     },
     "execution_count": 8,
     "metadata": {},
     "output_type": "execute_result"
    }
   ],
   "source": [
    "df_uremprende.rename(columns={ 'Semetre': 'Semestre',\n",
    "                              'Horario de Finalizacion': 'Horario de Finalización'},\n",
    "                     inplace = True)\n",
    "\n",
    "df_uremprende.columns"
   ]
  },
  {
   "cell_type": "code",
   "execution_count": null,
   "metadata": {},
   "outputs": [],
   "source": [
    "#df_uremprende.drop(['Unnamed: 17'], axis=1, inplace=True)"
   ]
  },
  {
   "cell_type": "code",
   "execution_count": null,
   "metadata": {},
   "outputs": [],
   "source": [
    "#df_uremprende.columns"
   ]
  },
  {
   "cell_type": "code",
   "execution_count": 9,
   "metadata": {},
   "outputs": [
    {
     "data": {
      "text/plain": [
       "(224, 28)"
      ]
     },
     "execution_count": 9,
     "metadata": {},
     "output_type": "execute_result"
    }
   ],
   "source": [
    "df_uremprende.shape"
   ]
  },
  {
   "cell_type": "markdown",
   "metadata": {},
   "source": [
    "# 5. Limpieza de Datos y Preparación de Datos\n",
    "\n",
    "* Concatenar URSteam y UREmprende\n",
    "* Borar Las Filas vacias\n",
    "* Eliminar index para generar un nuevo archivo excel\n",
    "* Rellenar con 00:00:00 las columnas de Horario de Finalización y Horario de Inicio\n",
    "* Rellenar los campos vacios con \"Sin Información\"\n",
    "* Colocar en minuscula todo la columna de Estado de la Actividad\n",
    "* Limpiar columna de Tipo de Ocupación\n",
    "* Limpiar columna de Laboratorios"
   ]
  },
  {
   "cell_type": "code",
   "execution_count": 10,
   "metadata": {
    "cell_id": "00002-b6ab8900-649c-43b5-83ad-91df84b9dfeb",
    "deepnote_cell_type": "code",
    "deepnote_to_be_reexecuted": false,
    "execution_millis": 319,
    "execution_start": 1630355372110,
    "source_hash": "a56e893d",
    "tags": []
   },
   "outputs": [],
   "source": [
    "Laboratorios_a = pd.concat([df_ursteam,df_uremprende])"
   ]
  },
  {
   "cell_type": "code",
   "execution_count": 11,
   "metadata": {},
   "outputs": [
    {
     "data": {
      "text/plain": [
       "(766, 32)"
      ]
     },
     "execution_count": 11,
     "metadata": {},
     "output_type": "execute_result"
    }
   ],
   "source": [
    "Laboratorios_a.shape"
   ]
  },
  {
   "cell_type": "code",
   "execution_count": 12,
   "metadata": {},
   "outputs": [
    {
     "data": {
      "text/plain": [
       "Index(['Semestre', 'Estado de la actividad', 'Nombres y Apellidos',\n",
       "       'Correo electrónico', 'Tipo de usuario (GENERAL)',\n",
       "       'Tipo de usuario (ESPECÍFICO)', 'Escuela/Facultad/Dependencia',\n",
       "       'Programa académico', 'Tipo de actividad (GENERAL)',\n",
       "       'Tipo de actividad (ESPECIFICA)', 'Area (Asignaturas Pregrado)',\n",
       "       'Asignatura (Pregrado/Posgrado)', 'Tipo de Asignatura',\n",
       "       'Grupo (Asignatura)', 'Nombre de la actividad', 'Nombre de Invitado',\n",
       "       'Modalidad de la actividad',\n",
       "       'Lugar donde se realizará (Virtual/Presencial)', 'GTE', 'Laboratorio',\n",
       "       'Recurso específico', 'Recurso general', '# Licencias (Bloomberg)',\n",
       "       'Grabar Sesión (Camara Gesell)', '# Participantes',\n",
       "       'Fecha de la actividad', 'Día', 'Horario de Inicio',\n",
       "       'Horario de Finalización', 'Cantidad de horas', 'Motivo cancelación',\n",
       "       'Otro requerimiento'],\n",
       "      dtype='object')"
      ]
     },
     "execution_count": 12,
     "metadata": {},
     "output_type": "execute_result"
    }
   ],
   "source": [
    "Laboratorios_a.columns"
   ]
  },
  {
   "cell_type": "code",
   "execution_count": null,
   "metadata": {},
   "outputs": [],
   "source": [
    "#Laboratorios.to_csv(\"../../../Data/Laboratorios/Temporal.xlsx\",index=False,sheet_name=\"CONSOLIDADO\")"
   ]
  },
  {
   "cell_type": "markdown",
   "metadata": {},
   "source": [
    "# Limpiar Columna Semestre"
   ]
  },
  {
   "cell_type": "code",
   "execution_count": 13,
   "metadata": {},
   "outputs": [
    {
     "data": {
      "text/plain": [
       "array(['2021-1', '2021-2'], dtype=object)"
      ]
     },
     "execution_count": 13,
     "metadata": {},
     "output_type": "execute_result"
    }
   ],
   "source": [
    "Laboratorios_a[\"Semestre\"].unique()"
   ]
  },
  {
   "cell_type": "code",
   "execution_count": 14,
   "metadata": {},
   "outputs": [],
   "source": [
    "Laboratorios = Laboratorios_a.copy()"
   ]
  },
  {
   "cell_type": "code",
   "execution_count": null,
   "metadata": {},
   "outputs": [],
   "source": [
    "#Laboratorios[\"Semestre\"].replace({2.0:\"2021-2\"},inplace=True)\n",
    "#Laboratorios[\"Semestre\"].fillna(\"2021-2\",inplace=True)"
   ]
  },
  {
   "cell_type": "code",
   "execution_count": null,
   "metadata": {},
   "outputs": [],
   "source": [
    "#Laboratorios_a[Laboratorios_a['Semestre'].isnull()]"
   ]
  },
  {
   "cell_type": "code",
   "execution_count": null,
   "metadata": {},
   "outputs": [],
   "source": [
    "#Laboratorios = Laboratorios_a.drop(Laboratorios_a.index[[186,187,188,189,190]]).copy()"
   ]
  },
  {
   "cell_type": "code",
   "execution_count": null,
   "metadata": {},
   "outputs": [],
   "source": [
    "#Laboratorios[Laboratorios['Semestre'].isnull()]"
   ]
  },
  {
   "cell_type": "markdown",
   "metadata": {},
   "source": [
    "# Limpiar Columna Estado de la Actividad"
   ]
  },
  {
   "cell_type": "code",
   "execution_count": 15,
   "metadata": {},
   "outputs": [
    {
     "data": {
      "text/plain": [
       "array(['realizada', 'cancelada', 'no realizada', 'agendada', 'Realizada'],\n",
       "      dtype=object)"
      ]
     },
     "execution_count": 15,
     "metadata": {},
     "output_type": "execute_result"
    }
   ],
   "source": [
    "Laboratorios['Estado de la actividad'].unique()"
   ]
  },
  {
   "cell_type": "code",
   "execution_count": 16,
   "metadata": {},
   "outputs": [],
   "source": [
    "Laboratorios[\"Estado de la actividad\"] = Laboratorios[\"Estado de la actividad\"].str.capitalize()"
   ]
  },
  {
   "cell_type": "code",
   "execution_count": 17,
   "metadata": {},
   "outputs": [
    {
     "data": {
      "text/plain": [
       "array(['Realizada', 'Cancelada', 'No realizada', 'Agendada'], dtype=object)"
      ]
     },
     "execution_count": 17,
     "metadata": {},
     "output_type": "execute_result"
    }
   ],
   "source": [
    "Laboratorios['Estado de la actividad'].unique()"
   ]
  },
  {
   "cell_type": "code",
   "execution_count": 18,
   "metadata": {},
   "outputs": [],
   "source": [
    "Laboratorios_1 = Laboratorios.copy()"
   ]
  },
  {
   "cell_type": "code",
   "execution_count": null,
   "metadata": {},
   "outputs": [],
   "source": [
    "#Laboratorios[Laboratorios[\"Estado de la actividad\"].isnull()]"
   ]
  },
  {
   "cell_type": "code",
   "execution_count": null,
   "metadata": {},
   "outputs": [],
   "source": [
    "#Laboratorios_1 = Laboratorios.drop(Laboratorios.index[[92,93,94]]).copy()"
   ]
  },
  {
   "cell_type": "markdown",
   "metadata": {},
   "source": [
    "# Limpiar Columna -> Tipo de Usuario General"
   ]
  },
  {
   "cell_type": "code",
   "execution_count": 19,
   "metadata": {},
   "outputs": [
    {
     "data": {
      "text/plain": [
       "array(['Docente', 'Funcionario', 'Estudiante', 'Estudiante ', 'Egresado '],\n",
       "      dtype=object)"
      ]
     },
     "execution_count": 19,
     "metadata": {},
     "output_type": "execute_result"
    }
   ],
   "source": [
    "Laboratorios_1['Tipo de usuario (GENERAL)'].unique()"
   ]
  },
  {
   "cell_type": "code",
   "execution_count": 20,
   "metadata": {},
   "outputs": [],
   "source": [
    "Laboratorios_1['Tipo de usuario (GENERAL)'] = Laboratorios_1['Tipo de usuario (GENERAL)'].str.rstrip()"
   ]
  },
  {
   "cell_type": "code",
   "execution_count": 27,
   "metadata": {},
   "outputs": [
    {
     "data": {
      "text/plain": [
       "array(['Docente', 'Funcionario', 'Estudiante', 'Egresado'], dtype=object)"
      ]
     },
     "execution_count": 27,
     "metadata": {},
     "output_type": "execute_result"
    }
   ],
   "source": [
    "Laboratorios_1['Tipo de usuario (GENERAL)'].unique()"
   ]
  },
  {
   "cell_type": "code",
   "execution_count": 28,
   "metadata": {},
   "outputs": [],
   "source": [
    "Laboratorios_2 = Laboratorios_1.copy()"
   ]
  },
  {
   "cell_type": "code",
   "execution_count": 23,
   "metadata": {},
   "outputs": [],
   "source": [
    "#Laboratorios_1[Laboratorios_1['Tipo de usuario (GENERAL)'].isnull()]"
   ]
  },
  {
   "cell_type": "code",
   "execution_count": 24,
   "metadata": {},
   "outputs": [],
   "source": [
    "#Laboratorios_2 = Laboratorios_1.drop(Laboratorios.index[[221]]).copy()"
   ]
  },
  {
   "cell_type": "code",
   "execution_count": 25,
   "metadata": {},
   "outputs": [],
   "source": [
    "#Laboratorios_2['Tipo de usuario (GENERAL)'].unique()"
   ]
  },
  {
   "cell_type": "code",
   "execution_count": null,
   "metadata": {},
   "outputs": [],
   "source": [
    "#Laboratorios_2['Tipo de usuario (GENERAL)'].replace({'Funcionario UR':'Funcionario','Docente de Planta':\"Docente\",\n",
    "                                                  #'Docente H. Catedra':\"Docente\",'Docente UR':\"Docente\"},inplace=True)"
   ]
  },
  {
   "cell_type": "code",
   "execution_count": null,
   "metadata": {},
   "outputs": [],
   "source": [
    "#Laboratorios_2['Tipo de usuario (GENERAL)'].unique()"
   ]
  },
  {
   "cell_type": "markdown",
   "metadata": {},
   "source": [
    "# Limpiar Columna -> Tipo de actividad (GENERAL)"
   ]
  },
  {
   "cell_type": "code",
   "execution_count": 29,
   "metadata": {},
   "outputs": [
    {
     "data": {
      "text/plain": [
       "array(['Aprendizaje experiencial', 'Experiencia empresarios',\n",
       "       'Master Class B+LAB', 'Otras actividades', 'Experiencia internos',\n",
       "       'Investigación', 'Funcionarios', 'Experiencia internos ',\n",
       "       'Emprendedores ', 'Aprendizaje experiencial ', 'UR Emprende '],\n",
       "      dtype=object)"
      ]
     },
     "execution_count": 29,
     "metadata": {},
     "output_type": "execute_result"
    }
   ],
   "source": [
    "Laboratorios_2['Tipo de actividad (GENERAL)'].unique()"
   ]
  },
  {
   "cell_type": "code",
   "execution_count": 30,
   "metadata": {},
   "outputs": [],
   "source": [
    "Laboratorios_2['Tipo de actividad (GENERAL)'] = Laboratorios_2['Tipo de actividad (GENERAL)'].str.rstrip()\n",
    "Laboratorios_2['Tipo de actividad (GENERAL)'] = Laboratorios_2['Tipo de actividad (GENERAL)'].str.capitalize()"
   ]
  },
  {
   "cell_type": "code",
   "execution_count": 31,
   "metadata": {},
   "outputs": [
    {
     "data": {
      "text/plain": [
       "array(['Aprendizaje experiencial', 'Experiencia empresarios',\n",
       "       'Master class b+lab', 'Otras actividades', 'Experiencia internos',\n",
       "       'Investigación', 'Funcionarios', 'Emprendedores', 'Ur emprende'],\n",
       "      dtype=object)"
      ]
     },
     "execution_count": 31,
     "metadata": {},
     "output_type": "execute_result"
    }
   ],
   "source": [
    "Laboratorios_2['Tipo de actividad (GENERAL)'].unique()"
   ]
  },
  {
   "cell_type": "code",
   "execution_count": 32,
   "metadata": {},
   "outputs": [],
   "source": [
    "Laboratorios_3 = Laboratorios_2.copy()"
   ]
  },
  {
   "cell_type": "code",
   "execution_count": null,
   "metadata": {},
   "outputs": [],
   "source": [
    "#Laboratorios_2[Laboratorios_2['Tipo de actividad (GENERAL)'].isnull()]"
   ]
  },
  {
   "cell_type": "code",
   "execution_count": null,
   "metadata": {},
   "outputs": [],
   "source": [
    "#Laboratorios_Limpio3 = Laboratorios_Limpio.drop(Laboratorios_Limpio.index[[63]]).copy()"
   ]
  },
  {
   "cell_type": "code",
   "execution_count": null,
   "metadata": {},
   "outputs": [],
   "source": [
    "#Laboratorios_3['Tipo de actividad (GENERAL)'].replace({'Recorridos b+lab':\"Recorridos\",\n",
    "                                                       #'Recorridos ur steam ':\"Recorridos\"},inplace=True)"
   ]
  },
  {
   "cell_type": "code",
   "execution_count": null,
   "metadata": {},
   "outputs": [],
   "source": [
    "#Laboratorios_3['Tipo de actividad (GENERAL)'].unique()"
   ]
  },
  {
   "cell_type": "markdown",
   "metadata": {},
   "source": [
    "# Limpiar Columna -> Tipo de actividad (ESPECIFICA)"
   ]
  },
  {
   "cell_type": "code",
   "execution_count": 33,
   "metadata": {},
   "outputs": [
    {
     "data": {
      "text/plain": [
       "array(['Asesoría/Capacitación', 'POSG - Classroom LAB', 'Open lab',\n",
       "       'PREG - Classroom LAB', 'B+lab- Virtual idea b+lab',\n",
       "       'Recorrido lab', 'Reunión', 'Experience lab',\n",
       "       'PREG - aprendizaje autónomo', 'UR B+lab Business Week',\n",
       "       'Investigación- Actividad investigación', 'Otras actividades',\n",
       "       'Living lab', 'Funcionarios- Actividad LAB', 'Living Lab',\n",
       "       'Open Lab', 'Experience Lab', 'PREG - Aprendizaje autónomo',\n",
       "       'Asesorias/Capacitación Herramientas', 'Incubadora UR ', 'Sofá ',\n",
       "       'Talleres Labs UR Emprende', 'Prototipado '], dtype=object)"
      ]
     },
     "execution_count": 33,
     "metadata": {},
     "output_type": "execute_result"
    }
   ],
   "source": [
    "Laboratorios_3[\"Tipo de actividad (ESPECIFICA)\"].unique()"
   ]
  },
  {
   "cell_type": "code",
   "execution_count": 34,
   "metadata": {},
   "outputs": [],
   "source": [
    "Laboratorios_3[\"Tipo de actividad (ESPECIFICA)\"] = Laboratorios_3[\"Tipo de actividad (ESPECIFICA)\"].str.rstrip()\n",
    "Laboratorios_3[\"Tipo de actividad (ESPECIFICA)\"] = Laboratorios_3[\"Tipo de actividad (ESPECIFICA)\"].str.capitalize()"
   ]
  },
  {
   "cell_type": "code",
   "execution_count": 35,
   "metadata": {},
   "outputs": [
    {
     "data": {
      "text/plain": [
       "array(['Asesoría/capacitación', 'Posg - classroom lab', 'Open lab',\n",
       "       'Preg - classroom lab', 'B+lab- virtual idea b+lab',\n",
       "       'Recorrido lab', 'Reunión', 'Experience lab',\n",
       "       'Preg - aprendizaje autónomo', 'Ur b+lab business week',\n",
       "       'Investigación- actividad investigación', 'Otras actividades',\n",
       "       'Living lab', 'Funcionarios- actividad lab',\n",
       "       'Asesorias/capacitación herramientas', 'Incubadora ur', 'Sofá',\n",
       "       'Talleres labs ur emprende', 'Prototipado'], dtype=object)"
      ]
     },
     "execution_count": 35,
     "metadata": {},
     "output_type": "execute_result"
    }
   ],
   "source": [
    "Laboratorios_3[\"Tipo de actividad (ESPECIFICA)\"].unique()"
   ]
  },
  {
   "cell_type": "code",
   "execution_count": 36,
   "metadata": {},
   "outputs": [],
   "source": [
    "Laboratorios_3[\"Tipo de actividad (ESPECIFICA)\"].replace({'Asesorias/capacitación herramientas':'Asesoría/capacitación'},\n",
    "                                          #'EMPRESARIAL ':\"Empresarial\",'OTRO ':\"Otro\"},\n",
    "                                                          inplace=True)"
   ]
  },
  {
   "cell_type": "code",
   "execution_count": 37,
   "metadata": {},
   "outputs": [
    {
     "data": {
      "text/plain": [
       "array(['Asesoría/capacitación', 'Posg - classroom lab', 'Open lab',\n",
       "       'Preg - classroom lab', 'B+lab- virtual idea b+lab',\n",
       "       'Recorrido lab', 'Reunión', 'Experience lab',\n",
       "       'Preg - aprendizaje autónomo', 'Ur b+lab business week',\n",
       "       'Investigación- actividad investigación', 'Otras actividades',\n",
       "       'Living lab', 'Funcionarios- actividad lab', 'Incubadora ur',\n",
       "       'Sofá', 'Talleres labs ur emprende', 'Prototipado'], dtype=object)"
      ]
     },
     "execution_count": 37,
     "metadata": {},
     "output_type": "execute_result"
    }
   ],
   "source": [
    "Laboratorios_3[\"Tipo de actividad (ESPECIFICA)\"].unique()"
   ]
  },
  {
   "cell_type": "code",
   "execution_count": null,
   "metadata": {},
   "outputs": [],
   "source": [
    "#Laboratorios_3[Laboratorios_3[\"Tipo de actividad (ESPECIFICA)\"].isnull()]"
   ]
  },
  {
   "cell_type": "markdown",
   "metadata": {},
   "source": [
    "# Limpieza Columna -> Tipo de Ocupación"
   ]
  },
  {
   "cell_type": "code",
   "execution_count": null,
   "metadata": {},
   "outputs": [],
   "source": [
    "#Laboratorios_3['Tipo de ocupación'].replace({\"ACADÉMICA\":\"Academico\",\"EMPRESARIAL\":\"Empresarial\",\"OTRO\":\"Otro\",\n",
    "                                          #'EMPRESARIAL ':\"Empresarial\",'OTRO ':\"Otro\"},inplace=True)"
   ]
  },
  {
   "cell_type": "code",
   "execution_count": null,
   "metadata": {},
   "outputs": [],
   "source": [
    "#Laboratorios_3['Tipo de ocupación'].unique()"
   ]
  },
  {
   "cell_type": "markdown",
   "metadata": {},
   "source": [
    "# Limpieza Columna -> Nombre del Invitado"
   ]
  },
  {
   "cell_type": "code",
   "execution_count": 38,
   "metadata": {},
   "outputs": [
    {
     "data": {
      "text/plain": [
       "array(['Universidad del Rosario', 'Informese', 'Super Ricas',\n",
       "       'Universidad San Francisco de Quito', 'Cámara de Comercio Huila',\n",
       "       'Universidad de Ibagué', 'Blu 4.0, Fedesoft', 'ASOCAPITALES',\n",
       "       'Corporación Universitaria Empresarial CUE- Alexander Von Humboldt',\n",
       "       'Cámara de Comercio de Bogotá', 'MINCIENCIAS', 'MINISO',\n",
       "       'COLSUBSIDIO', 'TELEPERFORMANCE', 'ANDI', 'A su Mesa',\n",
       "       'Universidad San Francisco de Quito ', 'Cámara de Comercio Huila ',\n",
       "       'Universidad de Ibague', 'Blu Radio',\n",
       "       'City University of New York', 'Asocapitales',\n",
       "       'CUE- Alexander Von Humboldt', 'Equipo Diego Camargo ',\n",
       "       'Estudiantes de clase ', 'INDUCCION ESCUELA DOCTORAL ', 'DPEI',\n",
       "       'Camara de Comercio Bogota', 'Egresados (Especializaciones)',\n",
       "       'FACREA', 'Estudiantes pregrado',\n",
       "       'Investigación e Innovación de la UR', 'Directivos medicina ',\n",
       "       'DMU ', 'Dirección de Egresados ',\n",
       "       'EQUIPO PRODUCTIVIDAD COLSUBSIDIO ', 'Thomas Rojas ', 'Fabrilab',\n",
       "       'Teleperformance ', 'Estudiantes UR', 'Colegiales ',\n",
       "       'Gestión humana ', 'Colsubsidio', 'Consejo Superior '],\n",
       "      dtype=object)"
      ]
     },
     "execution_count": 38,
     "metadata": {},
     "output_type": "execute_result"
    }
   ],
   "source": [
    "Laboratorios_3['Nombre de Invitado'].unique()"
   ]
  },
  {
   "cell_type": "code",
   "execution_count": 39,
   "metadata": {},
   "outputs": [
    {
     "data": {
      "text/plain": [
       "array(['Universidad del Rosario', 'Informese', 'Super Ricas',\n",
       "       'Universidad San Francisco de Quito', 'Cámara de Comercio Huila',\n",
       "       'Universidad de Ibagué', 'Blu 4.0, Fedesoft', 'ASOCAPITALES',\n",
       "       'Corporación Universitaria Empresarial CUE- Alexander Von Humboldt',\n",
       "       'Cámara de Comercio de Bogotá', 'MINCIENCIAS', 'MINISO',\n",
       "       'COLSUBSIDIO', 'TELEPERFORMANCE', 'ANDI', 'A su Mesa',\n",
       "       'Universidad de Ibague', 'Blu Radio',\n",
       "       'City University of New York', 'Asocapitales',\n",
       "       'CUE- Alexander Von Humboldt', 'Equipo Diego Camargo',\n",
       "       'Estudiantes de clase', 'INDUCCION ESCUELA DOCTORAL', 'DPEI',\n",
       "       'Camara de Comercio Bogota', 'Egresados (Especializaciones)',\n",
       "       'FACREA', 'Estudiantes pregrado',\n",
       "       'Investigación e Innovación de la UR', 'Directivos medicina',\n",
       "       'DMU', 'Dirección de Egresados',\n",
       "       'EQUIPO PRODUCTIVIDAD COLSUBSIDIO', 'Thomas Rojas', 'Fabrilab',\n",
       "       'Teleperformance', 'Estudiantes UR', 'Colegiales',\n",
       "       'Gestión humana', 'Colsubsidio', 'Consejo Superior'], dtype=object)"
      ]
     },
     "execution_count": 39,
     "metadata": {},
     "output_type": "execute_result"
    }
   ],
   "source": [
    "Laboratorios_3['Nombre de Invitado'] = Laboratorios_3['Nombre de Invitado'].str.rstrip()\n",
    "Laboratorios_3['Nombre de Invitado'].unique()"
   ]
  },
  {
   "cell_type": "code",
   "execution_count": 41,
   "metadata": {},
   "outputs": [],
   "source": [
    "Laboratorios_3['Nombre de Invitado'].replace({'Corporación Universitaria Empresarial CUE- Alexander Von Humboldt':\"CUE - Alexander Von Humboldt\",\n",
    "                                             'CUE- Alexander Von Humboldt':\"CUE - Alexander Von Humboldt\",\n",
    "                                             'Camara de Comercio Bogota':'Cámara de Comercio de Bogotá',},inplace=True)"
   ]
  },
  {
   "cell_type": "code",
   "execution_count": null,
   "metadata": {},
   "outputs": [],
   "source": [
    "#Laboratorios_3[Laboratorios_3['Nombre de Invitado'].isnull()]"
   ]
  },
  {
   "cell_type": "markdown",
   "metadata": {},
   "source": [
    "## Limpíeza Columna - Recurso Especifico"
   ]
  },
  {
   "cell_type": "code",
   "execution_count": 45,
   "metadata": {},
   "outputs": [
    {
     "data": {
      "text/plain": [
       "array(['Información LAB', 'Equipo Eye tracker (ETG)',\n",
       "       'Software Face Reader', 'Licencias Bloomberg', 'Cámara de Gesell',\n",
       "       'BeGaze (Análisis Eye Tracker)', 'Shopper Lab',\n",
       "       'Juego de la Cerveza', 'Smart Logistics- Salón',\n",
       "       'Smart Logistics-Fábrica', 'Sala Eye tracker (Fase I)',\n",
       "       'Equipo Eye tracker (REDn)', 'Planeación & Toma de Decisiones',\n",
       "       'Smart Logistics-Impresora 3D', 'Space ', 'Maker Space material ',\n",
       "       'Cocina Studio ', 'Maker Space digital ', 'Sala de trabajo ',\n",
       "       'Gafas AV'], dtype=object)"
      ]
     },
     "execution_count": 45,
     "metadata": {},
     "output_type": "execute_result"
    }
   ],
   "source": [
    "Laboratorios_3['Recurso específico'].unique()"
   ]
  },
  {
   "cell_type": "code",
   "execution_count": 47,
   "metadata": {},
   "outputs": [],
   "source": [
    "Laboratorios_3['Recurso específico'] = Laboratorios_3['Recurso específico'].str.rstrip()\n",
    "Laboratorios_3['Recurso específico'] = Laboratorios_3['Recurso específico'].str.capitalize()"
   ]
  },
  {
   "cell_type": "code",
   "execution_count": 48,
   "metadata": {},
   "outputs": [
    {
     "data": {
      "text/plain": [
       "array(['Información lab', 'Equipo eye tracker (etg)',\n",
       "       'Software face reader', 'Licencias bloomberg', 'Cámara de gesell',\n",
       "       'Begaze (análisis eye tracker)', 'Shopper lab',\n",
       "       'Juego de la cerveza', 'Smart logistics- salón',\n",
       "       'Smart logistics-fábrica', 'Sala eye tracker (fase i)',\n",
       "       'Equipo eye tracker (redn)', 'Planeación & toma de decisiones',\n",
       "       'Smart logistics-impresora 3d', 'Space', 'Maker space material',\n",
       "       'Cocina studio', 'Maker space digital', 'Sala de trabajo',\n",
       "       'Gafas av'], dtype=object)"
      ]
     },
     "execution_count": 48,
     "metadata": {},
     "output_type": "execute_result"
    }
   ],
   "source": [
    "Laboratorios_3['Recurso específico'].unique()"
   ]
  },
  {
   "cell_type": "markdown",
   "metadata": {},
   "source": [
    "## Limpieza Columna -> Laboratorios"
   ]
  },
  {
   "cell_type": "code",
   "execution_count": 49,
   "metadata": {},
   "outputs": [],
   "source": [
    "Laboratorios_3['Laboratorio'] = Laboratorios_3['Laboratorio'].str.rstrip()\n",
    "Laboratorios_3['Laboratorio'] = Laboratorios_3['Laboratorio'].str.capitalize()"
   ]
  },
  {
   "cell_type": "code",
   "execution_count": 50,
   "metadata": {},
   "outputs": [
    {
     "data": {
      "text/plain": [
       "array(['Neuromarketing & comportamiento organizacional',\n",
       "       'Smart logistics', 'Planeación & toma de decisiones',\n",
       "       'Genius space', 'Maker space', 'Team space'], dtype=object)"
      ]
     },
     "execution_count": 50,
     "metadata": {},
     "output_type": "execute_result"
    }
   ],
   "source": [
    "Laboratorios_3['Laboratorio'].unique()"
   ]
  },
  {
   "cell_type": "code",
   "execution_count": null,
   "metadata": {},
   "outputs": [],
   "source": [
    "#Laboratorios_3[Laboratorios_3['Laboratorio'].isnull()]"
   ]
  },
  {
   "cell_type": "markdown",
   "metadata": {},
   "source": [
    "# Limpieza general"
   ]
  },
  {
   "cell_type": "code",
   "execution_count": 51,
   "metadata": {},
   "outputs": [
    {
     "data": {
      "text/plain": [
       "Index(['Semestre', 'Estado de la actividad', 'Nombres y Apellidos',\n",
       "       'Correo electrónico', 'Tipo de usuario (GENERAL)',\n",
       "       'Tipo de usuario (ESPECÍFICO)', 'Escuela/Facultad/Dependencia',\n",
       "       'Programa académico', 'Tipo de actividad (GENERAL)',\n",
       "       'Tipo de actividad (ESPECIFICA)', 'Area (Asignaturas Pregrado)',\n",
       "       'Asignatura (Pregrado/Posgrado)', 'Tipo de Asignatura',\n",
       "       'Grupo (Asignatura)', 'Nombre de la actividad', 'Nombre de Invitado',\n",
       "       'Modalidad de la actividad',\n",
       "       'Lugar donde se realizará (Virtual/Presencial)', 'GTE', 'Laboratorio',\n",
       "       'Recurso específico', 'Recurso general', '# Licencias (Bloomberg)',\n",
       "       'Grabar Sesión (Camara Gesell)', '# Participantes',\n",
       "       'Fecha de la actividad', 'Día', 'Horario de Inicio',\n",
       "       'Horario de Finalización', 'Cantidad de horas', 'Motivo cancelación',\n",
       "       'Otro requerimiento'],\n",
       "      dtype='object')"
      ]
     },
     "execution_count": 51,
     "metadata": {},
     "output_type": "execute_result"
    }
   ],
   "source": [
    "Laboratorios_3.columns"
   ]
  },
  {
   "cell_type": "code",
   "execution_count": 52,
   "metadata": {},
   "outputs": [],
   "source": [
    "#Laboratorios_3 = Laboratorios_3.dropna(how=\"all\")\n",
    "Laboratorios_3 = Laboratorios_3.reset_index(drop=True)\n",
    "#Laboratorios_3[\"Horario de Finalización\"].fillna(\"00:00:00\",inplace=True)\n",
    "#Laboratorios_3[\"Horario de Inicio\"].fillna(\"00:00:00\",inplace=True)\n",
    "Laboratorios_3 = Laboratorios_3.fillna(\"Sin Información\")"
   ]
  },
  {
   "cell_type": "code",
   "execution_count": null,
   "metadata": {},
   "outputs": [],
   "source": []
  },
  {
   "cell_type": "markdown",
   "metadata": {},
   "source": [
    "## Cambio de Horas a Formato 24"
   ]
  },
  {
   "cell_type": "code",
   "execution_count": null,
   "metadata": {},
   "outputs": [],
   "source": [
    "#dato = Laboratorios[\"Horario de Finalizacion\"].astype(str)\n",
    "#dato = pd.to_datetime(dato)\n",
    "#dato = dato.dt\n",
    "#dato = dato.to_pydatetime()\n",
    "#Laboratorios[\"Horario de Finalizacion\"]=pd.to_datetime(dato)"
   ]
  },
  {
   "cell_type": "code",
   "execution_count": null,
   "metadata": {},
   "outputs": [],
   "source": [
    "#dato = Laboratorios[\"Horario de Inicio\"].astype(str)\n",
    "#dato = pd.to_datetime(dato)\n",
    "#dato = dato.dt\n",
    "#dato = dato.to_pydatetime()\n",
    "#Laboratorios[\"Horario de Inicio\"]=pd.to_datetime(dato)#"
   ]
  },
  {
   "cell_type": "code",
   "execution_count": 53,
   "metadata": {},
   "outputs": [
    {
     "data": {
      "text/html": [
       "<div>\n",
       "<style scoped>\n",
       "    .dataframe tbody tr th:only-of-type {\n",
       "        vertical-align: middle;\n",
       "    }\n",
       "\n",
       "    .dataframe tbody tr th {\n",
       "        vertical-align: top;\n",
       "    }\n",
       "\n",
       "    .dataframe thead th {\n",
       "        text-align: right;\n",
       "    }\n",
       "</style>\n",
       "<table border=\"1\" class=\"dataframe\">\n",
       "  <thead>\n",
       "    <tr style=\"text-align: right;\">\n",
       "      <th></th>\n",
       "      <th>Semestre</th>\n",
       "      <th>Estado de la actividad</th>\n",
       "      <th>Nombres y Apellidos</th>\n",
       "      <th>Correo electrónico</th>\n",
       "      <th>Tipo de usuario (GENERAL)</th>\n",
       "      <th>Tipo de usuario (ESPECÍFICO)</th>\n",
       "      <th>Escuela/Facultad/Dependencia</th>\n",
       "      <th>Programa académico</th>\n",
       "      <th>Tipo de actividad (GENERAL)</th>\n",
       "      <th>Tipo de actividad (ESPECIFICA)</th>\n",
       "      <th>...</th>\n",
       "      <th># Licencias (Bloomberg)</th>\n",
       "      <th>Grabar Sesión (Camara Gesell)</th>\n",
       "      <th># Participantes</th>\n",
       "      <th>Fecha de la actividad</th>\n",
       "      <th>Día</th>\n",
       "      <th>Horario de Inicio</th>\n",
       "      <th>Horario de Finalización</th>\n",
       "      <th>Cantidad de horas</th>\n",
       "      <th>Motivo cancelación</th>\n",
       "      <th>Otro requerimiento</th>\n",
       "    </tr>\n",
       "  </thead>\n",
       "  <tbody>\n",
       "    <tr>\n",
       "      <th>0</th>\n",
       "      <td>2021-1</td>\n",
       "      <td>Realizada</td>\n",
       "      <td>Andres Fernando Montaña Fernandez</td>\n",
       "      <td>andresfe.montana@urosario.edu.co</td>\n",
       "      <td>Docente</td>\n",
       "      <td>Docente de Planta</td>\n",
       "      <td>Escuela de Administración</td>\n",
       "      <td>NO APLICA</td>\n",
       "      <td>Aprendizaje experiencial</td>\n",
       "      <td>Asesoría/Capacitación</td>\n",
       "      <td>...</td>\n",
       "      <td>NO APLICA</td>\n",
       "      <td>NO</td>\n",
       "      <td>1</td>\n",
       "      <td>2021-01-20 00:00:00</td>\n",
       "      <td>miércoles</td>\n",
       "      <td>14:00:00</td>\n",
       "      <td>14:30:00</td>\n",
       "      <td>0.5</td>\n",
       "      <td>NaN</td>\n",
       "      <td>NaN</td>\n",
       "    </tr>\n",
       "    <tr>\n",
       "      <th>1</th>\n",
       "      <td>2021-1</td>\n",
       "      <td>Realizada</td>\n",
       "      <td>Andres Fernando Montaña Fernandez</td>\n",
       "      <td>andresfe.montana@urosario.edu.co</td>\n",
       "      <td>Docente</td>\n",
       "      <td>Docente de Planta</td>\n",
       "      <td>Escuela de Administración</td>\n",
       "      <td>NO APLICA</td>\n",
       "      <td>Aprendizaje experiencial</td>\n",
       "      <td>Asesoría/Capacitación</td>\n",
       "      <td>...</td>\n",
       "      <td>NO APLICA</td>\n",
       "      <td>NO</td>\n",
       "      <td>1</td>\n",
       "      <td>2021-01-20 00:00:00</td>\n",
       "      <td>miércoles</td>\n",
       "      <td>10:00:00</td>\n",
       "      <td>11:00:00</td>\n",
       "      <td>1.0</td>\n",
       "      <td>NaN</td>\n",
       "      <td>NaN</td>\n",
       "    </tr>\n",
       "  </tbody>\n",
       "</table>\n",
       "<p>2 rows × 32 columns</p>\n",
       "</div>"
      ],
      "text/plain": [
       "  Semestre Estado de la actividad                Nombres y Apellidos  \\\n",
       "0   2021-1              Realizada  Andres Fernando Montaña Fernandez   \n",
       "1   2021-1              Realizada  Andres Fernando Montaña Fernandez   \n",
       "\n",
       "                 Correo electrónico Tipo de usuario (GENERAL)  \\\n",
       "0  andresfe.montana@urosario.edu.co                   Docente   \n",
       "1  andresfe.montana@urosario.edu.co                   Docente   \n",
       "\n",
       "  Tipo de usuario (ESPECÍFICO) Escuela/Facultad/Dependencia  \\\n",
       "0            Docente de Planta    Escuela de Administración   \n",
       "1            Docente de Planta    Escuela de Administración   \n",
       "\n",
       "  Programa académico Tipo de actividad (GENERAL)  \\\n",
       "0          NO APLICA    Aprendizaje experiencial   \n",
       "1          NO APLICA    Aprendizaje experiencial   \n",
       "\n",
       "  Tipo de actividad (ESPECIFICA)  ... # Licencias (Bloomberg)  \\\n",
       "0          Asesoría/Capacitación  ...               NO APLICA   \n",
       "1          Asesoría/Capacitación  ...               NO APLICA   \n",
       "\n",
       "  Grabar Sesión (Camara Gesell) # Participantes Fecha de la actividad  \\\n",
       "0                            NO               1   2021-01-20 00:00:00   \n",
       "1                            NO               1   2021-01-20 00:00:00   \n",
       "\n",
       "         Día Horario de Inicio Horario de Finalización Cantidad de horas  \\\n",
       "0  miércoles          14:00:00                14:30:00               0.5   \n",
       "1  miércoles          10:00:00                11:00:00               1.0   \n",
       "\n",
       "  Motivo cancelación Otro requerimiento  \n",
       "0                NaN                NaN  \n",
       "1                NaN                NaN  \n",
       "\n",
       "[2 rows x 32 columns]"
      ]
     },
     "execution_count": 53,
     "metadata": {},
     "output_type": "execute_result"
    }
   ],
   "source": [
    "#Horas = []\n",
    "#for i in range(len(Laboratorios)):\n",
    "#    valor = Laboratorios[\"Horario de Finalizacion\"][i] - Laboratorios[\"Horario de Inicio\"][i]\n",
    "#    valor = valor.seconds//60\n",
    "#    valor = valor / 60\n",
    "#    Horas.append(valor)\n",
    "#Laboratorios[\"Cantidad \\nde hrs\"] = Horas\n",
    "Laboratorios.head(2)"
   ]
  },
  {
   "cell_type": "code",
   "execution_count": 54,
   "metadata": {},
   "outputs": [
    {
     "data": {
      "text/plain": [
       "(766, 32)"
      ]
     },
     "execution_count": 54,
     "metadata": {},
     "output_type": "execute_result"
    }
   ],
   "source": [
    "Laboratorios_3.shape"
   ]
  },
  {
   "cell_type": "code",
   "execution_count": 55,
   "metadata": {},
   "outputs": [
    {
     "data": {
      "text/html": [
       "<div>\n",
       "<style scoped>\n",
       "    .dataframe tbody tr th:only-of-type {\n",
       "        vertical-align: middle;\n",
       "    }\n",
       "\n",
       "    .dataframe tbody tr th {\n",
       "        vertical-align: top;\n",
       "    }\n",
       "\n",
       "    .dataframe thead th {\n",
       "        text-align: right;\n",
       "    }\n",
       "</style>\n",
       "<table border=\"1\" class=\"dataframe\">\n",
       "  <thead>\n",
       "    <tr style=\"text-align: right;\">\n",
       "      <th></th>\n",
       "      <th>Semestre</th>\n",
       "      <th>Estado de la actividad</th>\n",
       "      <th>Nombres y Apellidos</th>\n",
       "      <th>Correo electrónico</th>\n",
       "      <th>Tipo de usuario (GENERAL)</th>\n",
       "      <th>Tipo de usuario (ESPECÍFICO)</th>\n",
       "      <th>Escuela/Facultad/Dependencia</th>\n",
       "      <th>Programa académico</th>\n",
       "      <th>Tipo de actividad (GENERAL)</th>\n",
       "      <th>Tipo de actividad (ESPECIFICA)</th>\n",
       "      <th>...</th>\n",
       "      <th># Licencias (Bloomberg)</th>\n",
       "      <th>Grabar Sesión (Camara Gesell)</th>\n",
       "      <th># Participantes</th>\n",
       "      <th>Fecha de la actividad</th>\n",
       "      <th>Día</th>\n",
       "      <th>Horario de Inicio</th>\n",
       "      <th>Horario de Finalización</th>\n",
       "      <th>Cantidad de horas</th>\n",
       "      <th>Motivo cancelación</th>\n",
       "      <th>Otro requerimiento</th>\n",
       "    </tr>\n",
       "  </thead>\n",
       "  <tbody>\n",
       "    <tr>\n",
       "      <th>0</th>\n",
       "      <td>2021-1</td>\n",
       "      <td>Realizada</td>\n",
       "      <td>Andres Fernando Montaña Fernandez</td>\n",
       "      <td>andresfe.montana@urosario.edu.co</td>\n",
       "      <td>Docente</td>\n",
       "      <td>Docente de Planta</td>\n",
       "      <td>Escuela de Administración</td>\n",
       "      <td>NO APLICA</td>\n",
       "      <td>Aprendizaje experiencial</td>\n",
       "      <td>Asesoría/capacitación</td>\n",
       "      <td>...</td>\n",
       "      <td>NO APLICA</td>\n",
       "      <td>NO</td>\n",
       "      <td>1</td>\n",
       "      <td>2021-01-20 00:00:00</td>\n",
       "      <td>miércoles</td>\n",
       "      <td>14:00:00</td>\n",
       "      <td>14:30:00</td>\n",
       "      <td>0.5</td>\n",
       "      <td>Sin Información</td>\n",
       "      <td>Sin Información</td>\n",
       "    </tr>\n",
       "    <tr>\n",
       "      <th>1</th>\n",
       "      <td>2021-1</td>\n",
       "      <td>Realizada</td>\n",
       "      <td>Andres Fernando Montaña Fernandez</td>\n",
       "      <td>andresfe.montana@urosario.edu.co</td>\n",
       "      <td>Docente</td>\n",
       "      <td>Docente de Planta</td>\n",
       "      <td>Escuela de Administración</td>\n",
       "      <td>NO APLICA</td>\n",
       "      <td>Aprendizaje experiencial</td>\n",
       "      <td>Asesoría/capacitación</td>\n",
       "      <td>...</td>\n",
       "      <td>NO APLICA</td>\n",
       "      <td>NO</td>\n",
       "      <td>1</td>\n",
       "      <td>2021-01-20 00:00:00</td>\n",
       "      <td>miércoles</td>\n",
       "      <td>10:00:00</td>\n",
       "      <td>11:00:00</td>\n",
       "      <td>1.0</td>\n",
       "      <td>Sin Información</td>\n",
       "      <td>Sin Información</td>\n",
       "    </tr>\n",
       "    <tr>\n",
       "      <th>2</th>\n",
       "      <td>2021-1</td>\n",
       "      <td>Realizada</td>\n",
       "      <td>Andres Fernando Montaña Fernandez</td>\n",
       "      <td>andresfe.montana@urosario.edu.co</td>\n",
       "      <td>Docente</td>\n",
       "      <td>Docente de Planta</td>\n",
       "      <td>Escuela de Administración</td>\n",
       "      <td>NO APLICA</td>\n",
       "      <td>Aprendizaje experiencial</td>\n",
       "      <td>Asesoría/capacitación</td>\n",
       "      <td>...</td>\n",
       "      <td>NO APLICA</td>\n",
       "      <td>NO</td>\n",
       "      <td>1</td>\n",
       "      <td>2021-01-21 00:00:00</td>\n",
       "      <td>jueves</td>\n",
       "      <td>17:00:00</td>\n",
       "      <td>17:30:00</td>\n",
       "      <td>0.5</td>\n",
       "      <td>Sin Información</td>\n",
       "      <td>Sin Información</td>\n",
       "    </tr>\n",
       "    <tr>\n",
       "      <th>3</th>\n",
       "      <td>2021-1</td>\n",
       "      <td>Realizada</td>\n",
       "      <td>Andres Fernando Montaña Fernandez</td>\n",
       "      <td>andresfe.montana@urosario.edu.co</td>\n",
       "      <td>Docente</td>\n",
       "      <td>Docente de Planta</td>\n",
       "      <td>Escuela de Administración</td>\n",
       "      <td>NO APLICA</td>\n",
       "      <td>Aprendizaje experiencial</td>\n",
       "      <td>Asesoría/capacitación</td>\n",
       "      <td>...</td>\n",
       "      <td>NO APLICA</td>\n",
       "      <td>NO</td>\n",
       "      <td>1</td>\n",
       "      <td>2021-01-21 00:00:00</td>\n",
       "      <td>jueves</td>\n",
       "      <td>14:00:00</td>\n",
       "      <td>14:30:00</td>\n",
       "      <td>0.5</td>\n",
       "      <td>Sin Información</td>\n",
       "      <td>Sin Información</td>\n",
       "    </tr>\n",
       "    <tr>\n",
       "      <th>4</th>\n",
       "      <td>2021-1</td>\n",
       "      <td>Realizada</td>\n",
       "      <td>Andres Fernando Montaña Fernandez</td>\n",
       "      <td>andresfe.montana@urosario.edu.co</td>\n",
       "      <td>Docente</td>\n",
       "      <td>Docente de Planta</td>\n",
       "      <td>Escuela de Administración</td>\n",
       "      <td>NO APLICA</td>\n",
       "      <td>Aprendizaje experiencial</td>\n",
       "      <td>Asesoría/capacitación</td>\n",
       "      <td>...</td>\n",
       "      <td>NO APLICA</td>\n",
       "      <td>NO</td>\n",
       "      <td>1</td>\n",
       "      <td>2021-01-21 00:00:00</td>\n",
       "      <td>jueves</td>\n",
       "      <td>12:00:00</td>\n",
       "      <td>13:00:00</td>\n",
       "      <td>1.0</td>\n",
       "      <td>Sin Información</td>\n",
       "      <td>Sin Información</td>\n",
       "    </tr>\n",
       "    <tr>\n",
       "      <th>...</th>\n",
       "      <td>...</td>\n",
       "      <td>...</td>\n",
       "      <td>...</td>\n",
       "      <td>...</td>\n",
       "      <td>...</td>\n",
       "      <td>...</td>\n",
       "      <td>...</td>\n",
       "      <td>...</td>\n",
       "      <td>...</td>\n",
       "      <td>...</td>\n",
       "      <td>...</td>\n",
       "      <td>...</td>\n",
       "      <td>...</td>\n",
       "      <td>...</td>\n",
       "      <td>...</td>\n",
       "      <td>...</td>\n",
       "      <td>...</td>\n",
       "      <td>...</td>\n",
       "      <td>...</td>\n",
       "      <td>...</td>\n",
       "      <td>...</td>\n",
       "    </tr>\n",
       "    <tr>\n",
       "      <th>761</th>\n",
       "      <td>2021-2</td>\n",
       "      <td>Realizada</td>\n",
       "      <td>Andrea Carolina Hurtado</td>\n",
       "      <td>andrea.hurtado@urosario.edu.co</td>\n",
       "      <td>Funcionario</td>\n",
       "      <td>Funcionario UR</td>\n",
       "      <td>UR STEAM</td>\n",
       "      <td>NO APLICA</td>\n",
       "      <td>Experiencia empresarios</td>\n",
       "      <td>Living lab</td>\n",
       "      <td>...</td>\n",
       "      <td>Sin Información</td>\n",
       "      <td>Sin Información</td>\n",
       "      <td>2</td>\n",
       "      <td>2021-09-13 00:00:00</td>\n",
       "      <td>Sin Información</td>\n",
       "      <td>14:30:00</td>\n",
       "      <td>16:00:00</td>\n",
       "      <td>1.5</td>\n",
       "      <td>Sin Información</td>\n",
       "      <td>NO APLICA</td>\n",
       "    </tr>\n",
       "    <tr>\n",
       "      <th>762</th>\n",
       "      <td>2021-2</td>\n",
       "      <td>Realizada</td>\n",
       "      <td>María Camila Alvarez</td>\n",
       "      <td>mariaca.alvarez@urosario.edu.co</td>\n",
       "      <td>Funcionario</td>\n",
       "      <td>Funcionario UR</td>\n",
       "      <td>UR Emprende</td>\n",
       "      <td>NO APLICA</td>\n",
       "      <td>Otras actividades</td>\n",
       "      <td>Open lab</td>\n",
       "      <td>...</td>\n",
       "      <td>Sin Información</td>\n",
       "      <td>Sin Información</td>\n",
       "      <td>2</td>\n",
       "      <td>2021-09-13 00:00:00</td>\n",
       "      <td>Sin Información</td>\n",
       "      <td>16:00:00</td>\n",
       "      <td>17:00:00</td>\n",
       "      <td>1.0</td>\n",
       "      <td>Sin Información</td>\n",
       "      <td>NO APLICA</td>\n",
       "    </tr>\n",
       "    <tr>\n",
       "      <th>763</th>\n",
       "      <td>2021-2</td>\n",
       "      <td>Realizada</td>\n",
       "      <td>Santiago Paez</td>\n",
       "      <td>santiago.paezg@urosario.edu.co</td>\n",
       "      <td>Docente</td>\n",
       "      <td>Docente Hora Cátedra</td>\n",
       "      <td>UR Emprende</td>\n",
       "      <td>UR Emprende</td>\n",
       "      <td>Aprendizaje experiencial</td>\n",
       "      <td>Preg - classroom lab</td>\n",
       "      <td>...</td>\n",
       "      <td>Sin Información</td>\n",
       "      <td>Sin Información</td>\n",
       "      <td>12</td>\n",
       "      <td>2021-09-14 00:00:00</td>\n",
       "      <td>Sin Información</td>\n",
       "      <td>13:00:00</td>\n",
       "      <td>15:00:00</td>\n",
       "      <td>2.0</td>\n",
       "      <td>Sin Información</td>\n",
       "      <td>NO APLICA</td>\n",
       "    </tr>\n",
       "    <tr>\n",
       "      <th>764</th>\n",
       "      <td>2021-2</td>\n",
       "      <td>Realizada</td>\n",
       "      <td>Jose Velazco</td>\n",
       "      <td>josemi.velasco@urosario.edu.co</td>\n",
       "      <td>Docente</td>\n",
       "      <td>Docente Hora Cátedra</td>\n",
       "      <td>UR Emprende</td>\n",
       "      <td>UR Emprende</td>\n",
       "      <td>Aprendizaje experiencial</td>\n",
       "      <td>Preg - classroom lab</td>\n",
       "      <td>...</td>\n",
       "      <td>Sin Información</td>\n",
       "      <td>Sin Información</td>\n",
       "      <td>12</td>\n",
       "      <td>2021-09-14 00:00:00</td>\n",
       "      <td>Sin Información</td>\n",
       "      <td>15:00:00</td>\n",
       "      <td>17:00:00</td>\n",
       "      <td>2.0</td>\n",
       "      <td>Sin Información</td>\n",
       "      <td>NO APLICA</td>\n",
       "    </tr>\n",
       "    <tr>\n",
       "      <th>765</th>\n",
       "      <td>2021-2</td>\n",
       "      <td>Realizada</td>\n",
       "      <td>Julian Gutierrez</td>\n",
       "      <td>julian.jegr@gmail.com</td>\n",
       "      <td>Docente</td>\n",
       "      <td>Docente Hora Cátedra</td>\n",
       "      <td>UR Emprende</td>\n",
       "      <td>UR Emprende</td>\n",
       "      <td>Aprendizaje experiencial</td>\n",
       "      <td>Preg - classroom lab</td>\n",
       "      <td>...</td>\n",
       "      <td>Sin Información</td>\n",
       "      <td>Sin Información</td>\n",
       "      <td>25</td>\n",
       "      <td>2021-09-15 00:00:00</td>\n",
       "      <td>Sin Información</td>\n",
       "      <td>12:00:00</td>\n",
       "      <td>14:00:00</td>\n",
       "      <td>2.0</td>\n",
       "      <td>Sin Información</td>\n",
       "      <td>NO APLICA</td>\n",
       "    </tr>\n",
       "  </tbody>\n",
       "</table>\n",
       "<p>766 rows × 32 columns</p>\n",
       "</div>"
      ],
      "text/plain": [
       "    Semestre Estado de la actividad                Nombres y Apellidos  \\\n",
       "0     2021-1              Realizada  Andres Fernando Montaña Fernandez   \n",
       "1     2021-1              Realizada  Andres Fernando Montaña Fernandez   \n",
       "2     2021-1              Realizada  Andres Fernando Montaña Fernandez   \n",
       "3     2021-1              Realizada  Andres Fernando Montaña Fernandez   \n",
       "4     2021-1              Realizada  Andres Fernando Montaña Fernandez   \n",
       "..       ...                    ...                                ...   \n",
       "761   2021-2              Realizada           Andrea Carolina Hurtado    \n",
       "762   2021-2              Realizada              María Camila Alvarez    \n",
       "763   2021-2              Realizada                     Santiago Paez    \n",
       "764   2021-2              Realizada                      Jose Velazco    \n",
       "765   2021-2              Realizada                   Julian Gutierrez   \n",
       "\n",
       "                   Correo electrónico Tipo de usuario (GENERAL)  \\\n",
       "0    andresfe.montana@urosario.edu.co                   Docente   \n",
       "1    andresfe.montana@urosario.edu.co                   Docente   \n",
       "2    andresfe.montana@urosario.edu.co                   Docente   \n",
       "3    andresfe.montana@urosario.edu.co                   Docente   \n",
       "4    andresfe.montana@urosario.edu.co                   Docente   \n",
       "..                                ...                       ...   \n",
       "761    andrea.hurtado@urosario.edu.co               Funcionario   \n",
       "762  mariaca.alvarez@urosario.edu.co                Funcionario   \n",
       "763    santiago.paezg@urosario.edu.co                   Docente   \n",
       "764    josemi.velasco@urosario.edu.co                   Docente   \n",
       "765             julian.jegr@gmail.com                   Docente   \n",
       "\n",
       "    Tipo de usuario (ESPECÍFICO) Escuela/Facultad/Dependencia  \\\n",
       "0              Docente de Planta    Escuela de Administración   \n",
       "1              Docente de Planta    Escuela de Administración   \n",
       "2              Docente de Planta    Escuela de Administración   \n",
       "3              Docente de Planta    Escuela de Administración   \n",
       "4              Docente de Planta    Escuela de Administración   \n",
       "..                           ...                          ...   \n",
       "761              Funcionario UR                     UR STEAM    \n",
       "762              Funcionario UR                   UR Emprende   \n",
       "763        Docente Hora Cátedra                  UR Emprende    \n",
       "764        Docente Hora Cátedra                  UR Emprende    \n",
       "765        Docente Hora Cátedra                   UR Emprende   \n",
       "\n",
       "    Programa académico Tipo de actividad (GENERAL)  \\\n",
       "0            NO APLICA    Aprendizaje experiencial   \n",
       "1            NO APLICA    Aprendizaje experiencial   \n",
       "2            NO APLICA    Aprendizaje experiencial   \n",
       "3            NO APLICA    Aprendizaje experiencial   \n",
       "4            NO APLICA    Aprendizaje experiencial   \n",
       "..                 ...                         ...   \n",
       "761         NO APLICA      Experiencia empresarios   \n",
       "762         NO APLICA            Otras actividades   \n",
       "763       UR Emprende     Aprendizaje experiencial   \n",
       "764       UR Emprende     Aprendizaje experiencial   \n",
       "765       UR Emprende     Aprendizaje experiencial   \n",
       "\n",
       "    Tipo de actividad (ESPECIFICA)  ... # Licencias (Bloomberg)  \\\n",
       "0            Asesoría/capacitación  ...               NO APLICA   \n",
       "1            Asesoría/capacitación  ...               NO APLICA   \n",
       "2            Asesoría/capacitación  ...               NO APLICA   \n",
       "3            Asesoría/capacitación  ...               NO APLICA   \n",
       "4            Asesoría/capacitación  ...               NO APLICA   \n",
       "..                             ...  ...                     ...   \n",
       "761                     Living lab  ...         Sin Información   \n",
       "762                       Open lab  ...         Sin Información   \n",
       "763           Preg - classroom lab  ...         Sin Información   \n",
       "764           Preg - classroom lab  ...         Sin Información   \n",
       "765           Preg - classroom lab  ...         Sin Información   \n",
       "\n",
       "    Grabar Sesión (Camara Gesell) # Participantes Fecha de la actividad  \\\n",
       "0                              NO               1   2021-01-20 00:00:00   \n",
       "1                              NO               1   2021-01-20 00:00:00   \n",
       "2                              NO               1   2021-01-21 00:00:00   \n",
       "3                              NO               1   2021-01-21 00:00:00   \n",
       "4                              NO               1   2021-01-21 00:00:00   \n",
       "..                            ...             ...                   ...   \n",
       "761               Sin Información               2   2021-09-13 00:00:00   \n",
       "762               Sin Información               2   2021-09-13 00:00:00   \n",
       "763               Sin Información              12   2021-09-14 00:00:00   \n",
       "764               Sin Información              12   2021-09-14 00:00:00   \n",
       "765               Sin Información              25   2021-09-15 00:00:00   \n",
       "\n",
       "                 Día Horario de Inicio Horario de Finalización  \\\n",
       "0          miércoles          14:00:00                14:30:00   \n",
       "1          miércoles          10:00:00                11:00:00   \n",
       "2             jueves          17:00:00                17:30:00   \n",
       "3             jueves          14:00:00                14:30:00   \n",
       "4             jueves          12:00:00                13:00:00   \n",
       "..               ...               ...                     ...   \n",
       "761  Sin Información          14:30:00                16:00:00   \n",
       "762  Sin Información          16:00:00                17:00:00   \n",
       "763  Sin Información          13:00:00                15:00:00   \n",
       "764  Sin Información          15:00:00                17:00:00   \n",
       "765  Sin Información          12:00:00                14:00:00   \n",
       "\n",
       "    Cantidad de horas Motivo cancelación Otro requerimiento  \n",
       "0                 0.5    Sin Información    Sin Información  \n",
       "1                 1.0    Sin Información    Sin Información  \n",
       "2                 0.5    Sin Información    Sin Información  \n",
       "3                 0.5    Sin Información    Sin Información  \n",
       "4                 1.0    Sin Información    Sin Información  \n",
       "..                ...                ...                ...  \n",
       "761               1.5    Sin Información          NO APLICA  \n",
       "762               1.0    Sin Información          NO APLICA  \n",
       "763               2.0    Sin Información          NO APLICA  \n",
       "764               2.0    Sin Información          NO APLICA  \n",
       "765               2.0    Sin Información          NO APLICA  \n",
       "\n",
       "[766 rows x 32 columns]"
      ]
     },
     "execution_count": 55,
     "metadata": {},
     "output_type": "execute_result"
    }
   ],
   "source": [
    "Laboratorios_3"
   ]
  },
  {
   "cell_type": "markdown",
   "metadata": {},
   "source": [
    "# 5. Generar nuestra nueva Base de Datos"
   ]
  },
  {
   "cell_type": "code",
   "execution_count": 56,
   "metadata": {},
   "outputs": [],
   "source": [
    "Laboratorios_3.to_excel(\"../../../Data/Laboratorios/Laboratorios.xlsx\",index=False,sheet_name=\"CONSOLIDADO\")"
   ]
  }
 ],
 "metadata": {
  "deepnote": {
   "is_reactive": false
  },
  "deepnote_execution_queue": [],
  "deepnote_notebook_id": "35bfd3de-b264-4aae-b545-3c95a07eb79a",
  "kernelspec": {
   "display_name": "Python 3",
   "language": "python",
   "name": "python3"
  },
  "language_info": {
   "codemirror_mode": {
    "name": "ipython",
    "version": 3
   },
   "file_extension": ".py",
   "mimetype": "text/x-python",
   "name": "python",
   "nbconvert_exporter": "python",
   "pygments_lexer": "ipython3",
   "version": "3.8.8"
  }
 },
 "nbformat": 4,
 "nbformat_minor": 2
}
