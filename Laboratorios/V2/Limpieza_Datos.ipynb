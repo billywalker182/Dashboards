{
 "cells": [
  {
   "cell_type": "markdown",
   "metadata": {},
   "source": [
    "# 1. Instalación Librerias"
   ]
  },
  {
   "cell_type": "code",
   "execution_count": null,
   "metadata": {
    "cell_id": "00000-41d9d54d-9eae-4c94-a207-5852ee6fd930",
    "deepnote_cell_type": "code",
    "deepnote_to_be_reexecuted": false,
    "execution_millis": 5648,
    "execution_start": 1630344612330,
    "source_hash": "186ac3c0",
    "tags": []
   },
   "outputs": [],
   "source": [
    "#!pip install xlrd\n",
    "#!pip install openpyxl"
   ]
  },
  {
   "cell_type": "markdown",
   "metadata": {},
   "source": [
    "# 2. Importar Librerias"
   ]
  },
  {
   "cell_type": "code",
   "execution_count": 1,
   "metadata": {},
   "outputs": [],
   "source": [
    "import pandas as pd\n",
    "from datetime import date, time, datetime\n",
    "import numpy as np"
   ]
  },
  {
   "cell_type": "markdown",
   "metadata": {},
   "source": [
    "# 3. Cargar Registro Actividades URSTeam"
   ]
  },
  {
   "cell_type": "code",
   "execution_count": 2,
   "metadata": {
    "cell_id": "00001-e4799119-7c66-402a-9870-4d1c353aed16",
    "deepnote_cell_type": "code",
    "deepnote_to_be_reexecuted": false,
    "execution_millis": 1094,
    "execution_start": 1630344617985,
    "source_hash": "57a0cbb",
    "tags": []
   },
   "outputs": [
    {
     "name": "stderr",
     "output_type": "stream",
     "text": [
      "C:\\ProgramData\\Anaconda3\\lib\\site-packages\\openpyxl\\worksheet\\_reader.py:312: UserWarning: Data Validation extension is not supported and will be removed\n",
      "  warn(msg)\n"
     ]
    },
    {
     "data": {
      "text/plain": [
       "(368, 31)"
      ]
     },
     "execution_count": 2,
     "metadata": {},
     "output_type": "execute_result"
    }
   ],
   "source": [
    "df_ursteam = pd.read_excel(\"../../../Data/Laboratorios/Registro de Actividades BLAB 2021.xlsx\")\n",
    "df_ursteam.shape"
   ]
  },
  {
   "cell_type": "code",
   "execution_count": 3,
   "metadata": {},
   "outputs": [
    {
     "data": {
      "text/plain": [
       "['Semestre',\n",
       " 'Estado de la actividad',\n",
       " 'Nombres y Apellidos',\n",
       " 'Correo electrónico',\n",
       " 'Tipo de usuario (GENERAL)',\n",
       " 'Tipo de usuario (ESPECÍFICO)',\n",
       " 'Escuela/Facultad/Dependencia',\n",
       " 'Programa académico',\n",
       " 'Tipo de actividad (GENERAL)',\n",
       " 'Tipo de actividad (ESPECIFICA)',\n",
       " 'Area (Asignaturas Pregrado)',\n",
       " 'Asignatura (Pregrado/Posgrado)',\n",
       " 'Tipo de Asignatura',\n",
       " 'Grupo (Asignatura)',\n",
       " 'Nombre de la actividad',\n",
       " 'Nombre de Invitado',\n",
       " 'Modalidad de la actividad',\n",
       " 'Lugar donde se realizará (Virtual/Presencial)',\n",
       " 'GTE',\n",
       " 'Laboratorio',\n",
       " 'Recurso específico',\n",
       " 'Recurso general',\n",
       " '# Licencias (Bloomberg)',\n",
       " 'Grabar Sesión (Camara Gesell)',\n",
       " '# Participantes',\n",
       " 'Fecha de la actividad',\n",
       " 'Día',\n",
       " 'Horario de Inicio',\n",
       " 'Horario de Finalización',\n",
       " 'Cantidad de horas',\n",
       " 'Motivo cancelación']"
      ]
     },
     "execution_count": 3,
     "metadata": {},
     "output_type": "execute_result"
    }
   ],
   "source": [
    "df_ursteam.columns.tolist()"
   ]
  },
  {
   "cell_type": "markdown",
   "metadata": {},
   "source": [
    "# 4. Cargar Registro Actividades UREmprende"
   ]
  },
  {
   "cell_type": "code",
   "execution_count": 4,
   "metadata": {
    "cell_id": "00002-25606bdc-1a71-41b8-a839-61bbd658925f",
    "deepnote_cell_type": "code",
    "deepnote_to_be_reexecuted": false,
    "execution_millis": 783,
    "execution_start": 1630344619073,
    "source_hash": "7b2c0db5",
    "tags": []
   },
   "outputs": [
    {
     "data": {
      "text/plain": [
       "(194, 28)"
      ]
     },
     "execution_count": 4,
     "metadata": {},
     "output_type": "execute_result"
    }
   ],
   "source": [
    "df_uremprende = pd.read_excel(\"../../../Data/Laboratorios/Registro de Actividades UR EMPRENDE FIN.xlsx\")\n",
    "df_uremprende.shape"
   ]
  },
  {
   "cell_type": "code",
   "execution_count": 5,
   "metadata": {},
   "outputs": [
    {
     "data": {
      "text/plain": [
       "Index(['Semetre', 'Estado de la actividad', 'Nombres y Apellidos',\n",
       "       'Correo electrónico', 'Tipo de usuario (GENERAL)',\n",
       "       'Tipo de usuario (ESPECÍFICO)', 'Escuela/Facultad/Dependencia',\n",
       "       'Programa académico', 'Tipo de actividad (GENERAL)',\n",
       "       'Tipo de actividad (ESPECIFICA)', 'Area (Asignaturas Pregrado)',\n",
       "       'Asignatura (Pregrado/Posgrado)', 'Tipo de Asignatura',\n",
       "       'Grupo (Asignatura)', 'Nombre de la actividad', 'Nombre de Invitado',\n",
       "       'Modalidad de la actividad',\n",
       "       'Lugar donde se realizará (Virtual/Presencial)', 'Laboratorio',\n",
       "       'Recurso específico', 'Recurso general', 'Otro requerimiento',\n",
       "       '# Participantes', 'Fecha de la actividad', 'Horario de Inicio',\n",
       "       'Horario de Finalizacion', 'Cantidad de horas', 'Motivo cancelación'],\n",
       "      dtype='object')"
      ]
     },
     "execution_count": 5,
     "metadata": {},
     "output_type": "execute_result"
    }
   ],
   "source": [
    "df_uremprende.columns"
   ]
  },
  {
   "cell_type": "code",
   "execution_count": 6,
   "metadata": {},
   "outputs": [
    {
     "data": {
      "text/plain": [
       "Index(['Semestre', 'Estado de la actividad', 'Nombres y Apellidos',\n",
       "       'Correo electrónico', 'Tipo de usuario (GENERAL)',\n",
       "       'Tipo de usuario (ESPECÍFICO)', 'Escuela/Facultad/Dependencia',\n",
       "       'Programa académico', 'Tipo de actividad (GENERAL)',\n",
       "       'Tipo de actividad (ESPECIFICA)', 'Area (Asignaturas Pregrado)',\n",
       "       'Asignatura (Pregrado/Posgrado)', 'Tipo de Asignatura',\n",
       "       'Grupo (Asignatura)', 'Nombre de la actividad', 'Nombre de Invitado',\n",
       "       'Modalidad de la actividad',\n",
       "       'Lugar donde se realizará (Virtual/Presencial)', 'Laboratorio',\n",
       "       'Recurso específico', 'Recurso general', 'Otro requerimiento',\n",
       "       '# Participantes', 'Fecha de la actividad', 'Horario de Inicio',\n",
       "       'Horario de Finalización', 'Cantidad de horas', 'Motivo cancelación'],\n",
       "      dtype='object')"
      ]
     },
     "execution_count": 6,
     "metadata": {},
     "output_type": "execute_result"
    }
   ],
   "source": [
    "df_uremprende.rename(columns={ 'Semetre': 'Semestre',\n",
    "                              'Horario de Finalizacion': 'Horario de Finalización'},\n",
    "                     inplace = True)\n",
    "\n",
    "df_uremprende.columns"
   ]
  },
  {
   "cell_type": "code",
   "execution_count": null,
   "metadata": {},
   "outputs": [],
   "source": [
    "#df_uremprende.drop(['Unnamed: 17'], axis=1, inplace=True)"
   ]
  },
  {
   "cell_type": "code",
   "execution_count": null,
   "metadata": {},
   "outputs": [],
   "source": [
    "#df_uremprende.columns"
   ]
  },
  {
   "cell_type": "code",
   "execution_count": null,
   "metadata": {},
   "outputs": [],
   "source": [
    "df_uremprende.shape"
   ]
  },
  {
   "cell_type": "markdown",
   "metadata": {},
   "source": [
    "# 5. Limpieza de Datos y Preparación de Datos\n",
    "\n",
    "* Concatenar URSteam y UREmprende\n",
    "* Borar Las Filas vacias\n",
    "* Eliminar index para generar un nuevo archivo excel\n",
    "* Rellenar con 00:00:00 las columnas de Horario de Finalización y Horario de Inicio\n",
    "* Rellenar los campos vacios con \"Sin Información\"\n",
    "* Colocar en minuscula todo la columna de Estado de la Actividad\n",
    "* Limpiar columna de Tipo de Ocupación\n",
    "* Limpiar columna de Laboratorios"
   ]
  },
  {
   "cell_type": "code",
   "execution_count": 13,
   "metadata": {
    "cell_id": "00002-b6ab8900-649c-43b5-83ad-91df84b9dfeb",
    "deepnote_cell_type": "code",
    "deepnote_to_be_reexecuted": false,
    "execution_millis": 319,
    "execution_start": 1630355372110,
    "source_hash": "a56e893d",
    "tags": []
   },
   "outputs": [],
   "source": [
    "Laboratorios_a = pd.concat([df_ursteam,df_uremprende])"
   ]
  },
  {
   "cell_type": "code",
   "execution_count": 14,
   "metadata": {},
   "outputs": [
    {
     "data": {
      "text/plain": [
       "(562, 32)"
      ]
     },
     "execution_count": 14,
     "metadata": {},
     "output_type": "execute_result"
    }
   ],
   "source": [
    "Laboratorios_a.shape"
   ]
  },
  {
   "cell_type": "code",
   "execution_count": 15,
   "metadata": {},
   "outputs": [
    {
     "data": {
      "text/plain": [
       "Index(['Semestre', 'Estado de la actividad', 'Nombres y Apellidos',\n",
       "       'Correo electrónico', 'Tipo de usuario (GENERAL)',\n",
       "       'Tipo de usuario (ESPECÍFICO)', 'Escuela/Facultad/Dependencia',\n",
       "       'Programa académico', 'Tipo de actividad (GENERAL)',\n",
       "       'Tipo de actividad (ESPECIFICA)', 'Area (Asignaturas Pregrado)',\n",
       "       'Asignatura (Pregrado/Posgrado)', 'Tipo de Asignatura',\n",
       "       'Grupo (Asignatura)', 'Nombre de la actividad', 'Nombre de Invitado',\n",
       "       'Modalidad de la actividad',\n",
       "       'Lugar donde se realizará (Virtual/Presencial)', 'GTE', 'Laboratorio',\n",
       "       'Recurso específico', 'Recurso general', '# Licencias (Bloomberg)',\n",
       "       'Grabar Sesión (Camara Gesell)', '# Participantes',\n",
       "       'Fecha de la actividad', 'Día', 'Horario de Inicio',\n",
       "       'Horario de Finalización', 'Cantidad de horas', 'Motivo cancelación',\n",
       "       'Otro requerimiento'],\n",
       "      dtype='object')"
      ]
     },
     "execution_count": 15,
     "metadata": {},
     "output_type": "execute_result"
    }
   ],
   "source": [
    "Laboratorios_a.columns"
   ]
  },
  {
   "cell_type": "code",
   "execution_count": null,
   "metadata": {},
   "outputs": [],
   "source": [
    "#Laboratorios.to_csv(\"../../../Data/Laboratorios/Temporal.xlsx\",index=False,sheet_name=\"CONSOLIDADO\")"
   ]
  },
  {
   "cell_type": "markdown",
   "metadata": {},
   "source": [
    "# Limpiar Columna Semestre"
   ]
  },
  {
   "cell_type": "code",
   "execution_count": 16,
   "metadata": {},
   "outputs": [
    {
     "data": {
      "text/plain": [
       "array(['2021-1', '2021-2', nan], dtype=object)"
      ]
     },
     "execution_count": 16,
     "metadata": {},
     "output_type": "execute_result"
    }
   ],
   "source": [
    "Laboratorios_a[\"Semestre\"].unique()"
   ]
  },
  {
   "cell_type": "code",
   "execution_count": null,
   "metadata": {},
   "outputs": [],
   "source": [
    "#Laboratorios[\"Semestre\"].replace({2.0:\"2021-2\"},inplace=True)\n",
    "#Laboratorios[\"Semestre\"].fillna(\"2021-2\",inplace=True)"
   ]
  },
  {
   "cell_type": "code",
   "execution_count": 17,
   "metadata": {},
   "outputs": [
    {
     "data": {
      "text/html": [
       "<div>\n",
       "<style scoped>\n",
       "    .dataframe tbody tr th:only-of-type {\n",
       "        vertical-align: middle;\n",
       "    }\n",
       "\n",
       "    .dataframe tbody tr th {\n",
       "        vertical-align: top;\n",
       "    }\n",
       "\n",
       "    .dataframe thead th {\n",
       "        text-align: right;\n",
       "    }\n",
       "</style>\n",
       "<table border=\"1\" class=\"dataframe\">\n",
       "  <thead>\n",
       "    <tr style=\"text-align: right;\">\n",
       "      <th></th>\n",
       "      <th>Semestre</th>\n",
       "      <th>Estado de la actividad</th>\n",
       "      <th>Nombres y Apellidos</th>\n",
       "      <th>Correo electrónico</th>\n",
       "      <th>Tipo de usuario (GENERAL)</th>\n",
       "      <th>Tipo de usuario (ESPECÍFICO)</th>\n",
       "      <th>Escuela/Facultad/Dependencia</th>\n",
       "      <th>Programa académico</th>\n",
       "      <th>Tipo de actividad (GENERAL)</th>\n",
       "      <th>Tipo de actividad (ESPECIFICA)</th>\n",
       "      <th>...</th>\n",
       "      <th># Licencias (Bloomberg)</th>\n",
       "      <th>Grabar Sesión (Camara Gesell)</th>\n",
       "      <th># Participantes</th>\n",
       "      <th>Fecha de la actividad</th>\n",
       "      <th>Día</th>\n",
       "      <th>Horario de Inicio</th>\n",
       "      <th>Horario de Finalización</th>\n",
       "      <th>Cantidad de horas</th>\n",
       "      <th>Motivo cancelación</th>\n",
       "      <th>Otro requerimiento</th>\n",
       "    </tr>\n",
       "  </thead>\n",
       "  <tbody>\n",
       "    <tr>\n",
       "      <th>186</th>\n",
       "      <td>NaN</td>\n",
       "      <td>NaN</td>\n",
       "      <td>NaN</td>\n",
       "      <td>NaN</td>\n",
       "      <td>NaN</td>\n",
       "      <td>NaN</td>\n",
       "      <td>NaN</td>\n",
       "      <td>NaN</td>\n",
       "      <td>NaN</td>\n",
       "      <td>NaN</td>\n",
       "      <td>...</td>\n",
       "      <td>NaN</td>\n",
       "      <td>NaN</td>\n",
       "      <td>NaN</td>\n",
       "      <td>NaN</td>\n",
       "      <td>NaN</td>\n",
       "      <td>NaN</td>\n",
       "      <td>NaN</td>\n",
       "      <td>0.0</td>\n",
       "      <td>NaN</td>\n",
       "      <td>NaN</td>\n",
       "    </tr>\n",
       "    <tr>\n",
       "      <th>187</th>\n",
       "      <td>NaN</td>\n",
       "      <td>NaN</td>\n",
       "      <td>NaN</td>\n",
       "      <td>NaN</td>\n",
       "      <td>NaN</td>\n",
       "      <td>NaN</td>\n",
       "      <td>NaN</td>\n",
       "      <td>NaN</td>\n",
       "      <td>NaN</td>\n",
       "      <td>NaN</td>\n",
       "      <td>...</td>\n",
       "      <td>NaN</td>\n",
       "      <td>NaN</td>\n",
       "      <td>NaN</td>\n",
       "      <td>NaN</td>\n",
       "      <td>NaN</td>\n",
       "      <td>NaN</td>\n",
       "      <td>NaN</td>\n",
       "      <td>0.0</td>\n",
       "      <td>NaN</td>\n",
       "      <td>NaN</td>\n",
       "    </tr>\n",
       "    <tr>\n",
       "      <th>188</th>\n",
       "      <td>NaN</td>\n",
       "      <td>NaN</td>\n",
       "      <td>NaN</td>\n",
       "      <td>NaN</td>\n",
       "      <td>NaN</td>\n",
       "      <td>NaN</td>\n",
       "      <td>NaN</td>\n",
       "      <td>NaN</td>\n",
       "      <td>NaN</td>\n",
       "      <td>NaN</td>\n",
       "      <td>...</td>\n",
       "      <td>NaN</td>\n",
       "      <td>NaN</td>\n",
       "      <td>NaN</td>\n",
       "      <td>NaN</td>\n",
       "      <td>NaN</td>\n",
       "      <td>NaN</td>\n",
       "      <td>NaN</td>\n",
       "      <td>0.0</td>\n",
       "      <td>NaN</td>\n",
       "      <td>NaN</td>\n",
       "    </tr>\n",
       "    <tr>\n",
       "      <th>189</th>\n",
       "      <td>NaN</td>\n",
       "      <td>NaN</td>\n",
       "      <td>NaN</td>\n",
       "      <td>NaN</td>\n",
       "      <td>NaN</td>\n",
       "      <td>NaN</td>\n",
       "      <td>NaN</td>\n",
       "      <td>NaN</td>\n",
       "      <td>NaN</td>\n",
       "      <td>NaN</td>\n",
       "      <td>...</td>\n",
       "      <td>NaN</td>\n",
       "      <td>NaN</td>\n",
       "      <td>NaN</td>\n",
       "      <td>NaN</td>\n",
       "      <td>NaN</td>\n",
       "      <td>NaN</td>\n",
       "      <td>NaN</td>\n",
       "      <td>0.0</td>\n",
       "      <td>NaN</td>\n",
       "      <td>NaN</td>\n",
       "    </tr>\n",
       "    <tr>\n",
       "      <th>190</th>\n",
       "      <td>NaN</td>\n",
       "      <td>NaN</td>\n",
       "      <td>NaN</td>\n",
       "      <td>NaN</td>\n",
       "      <td>NaN</td>\n",
       "      <td>NaN</td>\n",
       "      <td>NaN</td>\n",
       "      <td>NaN</td>\n",
       "      <td>NaN</td>\n",
       "      <td>NaN</td>\n",
       "      <td>...</td>\n",
       "      <td>NaN</td>\n",
       "      <td>NaN</td>\n",
       "      <td>NaN</td>\n",
       "      <td>NaN</td>\n",
       "      <td>NaN</td>\n",
       "      <td>NaN</td>\n",
       "      <td>NaN</td>\n",
       "      <td>0.0</td>\n",
       "      <td>NaN</td>\n",
       "      <td>NaN</td>\n",
       "    </tr>\n",
       "  </tbody>\n",
       "</table>\n",
       "<p>5 rows × 32 columns</p>\n",
       "</div>"
      ],
      "text/plain": [
       "    Semestre Estado de la actividad Nombres y Apellidos Correo electrónico  \\\n",
       "186      NaN                    NaN                 NaN                NaN   \n",
       "187      NaN                    NaN                 NaN                NaN   \n",
       "188      NaN                    NaN                 NaN                NaN   \n",
       "189      NaN                    NaN                 NaN                NaN   \n",
       "190      NaN                    NaN                 NaN                NaN   \n",
       "\n",
       "    Tipo de usuario (GENERAL) Tipo de usuario (ESPECÍFICO)  \\\n",
       "186                       NaN                          NaN   \n",
       "187                       NaN                          NaN   \n",
       "188                       NaN                          NaN   \n",
       "189                       NaN                          NaN   \n",
       "190                       NaN                          NaN   \n",
       "\n",
       "    Escuela/Facultad/Dependencia Programa académico  \\\n",
       "186                          NaN                NaN   \n",
       "187                          NaN                NaN   \n",
       "188                          NaN                NaN   \n",
       "189                          NaN                NaN   \n",
       "190                          NaN                NaN   \n",
       "\n",
       "    Tipo de actividad (GENERAL) Tipo de actividad (ESPECIFICA)  ...  \\\n",
       "186                         NaN                            NaN  ...   \n",
       "187                         NaN                            NaN  ...   \n",
       "188                         NaN                            NaN  ...   \n",
       "189                         NaN                            NaN  ...   \n",
       "190                         NaN                            NaN  ...   \n",
       "\n",
       "    # Licencias (Bloomberg) Grabar Sesión (Camara Gesell) # Participantes  \\\n",
       "186                     NaN                           NaN             NaN   \n",
       "187                     NaN                           NaN             NaN   \n",
       "188                     NaN                           NaN             NaN   \n",
       "189                     NaN                           NaN             NaN   \n",
       "190                     NaN                           NaN             NaN   \n",
       "\n",
       "    Fecha de la actividad  Día Horario de Inicio Horario de Finalización  \\\n",
       "186                   NaN  NaN               NaN                     NaN   \n",
       "187                   NaN  NaN               NaN                     NaN   \n",
       "188                   NaN  NaN               NaN                     NaN   \n",
       "189                   NaN  NaN               NaN                     NaN   \n",
       "190                   NaN  NaN               NaN                     NaN   \n",
       "\n",
       "    Cantidad de horas Motivo cancelación Otro requerimiento  \n",
       "186               0.0                NaN                NaN  \n",
       "187               0.0                NaN                NaN  \n",
       "188               0.0                NaN                NaN  \n",
       "189               0.0                NaN                NaN  \n",
       "190               0.0                NaN                NaN  \n",
       "\n",
       "[5 rows x 32 columns]"
      ]
     },
     "execution_count": 17,
     "metadata": {},
     "output_type": "execute_result"
    }
   ],
   "source": [
    "Laboratorios_a[Laboratorios_a['Semestre'].isnull()]"
   ]
  },
  {
   "cell_type": "code",
   "execution_count": 18,
   "metadata": {},
   "outputs": [],
   "source": [
    "Laboratorios = Laboratorios_a.drop(Laboratorios_a.index[[186,187,188,189,190]]).copy()"
   ]
  },
  {
   "cell_type": "code",
   "execution_count": 19,
   "metadata": {},
   "outputs": [
    {
     "data": {
      "text/html": [
       "<div>\n",
       "<style scoped>\n",
       "    .dataframe tbody tr th:only-of-type {\n",
       "        vertical-align: middle;\n",
       "    }\n",
       "\n",
       "    .dataframe tbody tr th {\n",
       "        vertical-align: top;\n",
       "    }\n",
       "\n",
       "    .dataframe thead th {\n",
       "        text-align: right;\n",
       "    }\n",
       "</style>\n",
       "<table border=\"1\" class=\"dataframe\">\n",
       "  <thead>\n",
       "    <tr style=\"text-align: right;\">\n",
       "      <th></th>\n",
       "      <th>Semestre</th>\n",
       "      <th>Estado de la actividad</th>\n",
       "      <th>Nombres y Apellidos</th>\n",
       "      <th>Correo electrónico</th>\n",
       "      <th>Tipo de usuario (GENERAL)</th>\n",
       "      <th>Tipo de usuario (ESPECÍFICO)</th>\n",
       "      <th>Escuela/Facultad/Dependencia</th>\n",
       "      <th>Programa académico</th>\n",
       "      <th>Tipo de actividad (GENERAL)</th>\n",
       "      <th>Tipo de actividad (ESPECIFICA)</th>\n",
       "      <th>...</th>\n",
       "      <th># Licencias (Bloomberg)</th>\n",
       "      <th>Grabar Sesión (Camara Gesell)</th>\n",
       "      <th># Participantes</th>\n",
       "      <th>Fecha de la actividad</th>\n",
       "      <th>Día</th>\n",
       "      <th>Horario de Inicio</th>\n",
       "      <th>Horario de Finalización</th>\n",
       "      <th>Cantidad de horas</th>\n",
       "      <th>Motivo cancelación</th>\n",
       "      <th>Otro requerimiento</th>\n",
       "    </tr>\n",
       "  </thead>\n",
       "  <tbody>\n",
       "  </tbody>\n",
       "</table>\n",
       "<p>0 rows × 32 columns</p>\n",
       "</div>"
      ],
      "text/plain": [
       "Empty DataFrame\n",
       "Columns: [Semestre, Estado de la actividad, Nombres y Apellidos, Correo electrónico, Tipo de usuario (GENERAL), Tipo de usuario (ESPECÍFICO), Escuela/Facultad/Dependencia, Programa académico, Tipo de actividad (GENERAL), Tipo de actividad (ESPECIFICA), Area (Asignaturas Pregrado), Asignatura (Pregrado/Posgrado), Tipo de Asignatura, Grupo (Asignatura), Nombre de la actividad, Nombre de Invitado, Modalidad de la actividad, Lugar donde se realizará (Virtual/Presencial), GTE, Laboratorio, Recurso específico, Recurso general, # Licencias (Bloomberg), Grabar Sesión (Camara Gesell), # Participantes, Fecha de la actividad, Día, Horario de Inicio, Horario de Finalización, Cantidad de horas, Motivo cancelación, Otro requerimiento]\n",
       "Index: []\n",
       "\n",
       "[0 rows x 32 columns]"
      ]
     },
     "execution_count": 19,
     "metadata": {},
     "output_type": "execute_result"
    }
   ],
   "source": [
    "Laboratorios[Laboratorios['Semestre'].isnull()]"
   ]
  },
  {
   "cell_type": "markdown",
   "metadata": {},
   "source": [
    "# Limpiar Columna Estado de la Actividad"
   ]
  },
  {
   "cell_type": "code",
   "execution_count": 20,
   "metadata": {},
   "outputs": [
    {
     "data": {
      "text/plain": [
       "array(['realizada', 'cancelada', 'no realizada', 'agendada', 'Realizada'],\n",
       "      dtype=object)"
      ]
     },
     "execution_count": 20,
     "metadata": {},
     "output_type": "execute_result"
    }
   ],
   "source": [
    "Laboratorios['Estado de la actividad'].unique()"
   ]
  },
  {
   "cell_type": "code",
   "execution_count": 22,
   "metadata": {},
   "outputs": [],
   "source": [
    "#Laboratorios[Laboratorios[\"Estado de la actividad\"].isnull()]"
   ]
  },
  {
   "cell_type": "code",
   "execution_count": null,
   "metadata": {},
   "outputs": [],
   "source": [
    "#Laboratorios_1 = Laboratorios.drop(Laboratorios.index[[92,93,94]]).copy()"
   ]
  },
  {
   "cell_type": "code",
   "execution_count": 23,
   "metadata": {},
   "outputs": [],
   "source": [
    "Laboratorios[\"Estado de la actividad\"] = Laboratorios[\"Estado de la actividad\"].str.capitalize()"
   ]
  },
  {
   "cell_type": "code",
   "execution_count": 24,
   "metadata": {},
   "outputs": [
    {
     "data": {
      "text/plain": [
       "array(['Realizada', 'Cancelada', 'No realizada', 'Agendada'], dtype=object)"
      ]
     },
     "execution_count": 24,
     "metadata": {},
     "output_type": "execute_result"
    }
   ],
   "source": [
    "Laboratorios['Estado de la actividad'].unique()"
   ]
  },
  {
   "cell_type": "code",
   "execution_count": 25,
   "metadata": {},
   "outputs": [],
   "source": [
    "Laboratorios_1 = Laboratorios.copy()"
   ]
  },
  {
   "cell_type": "markdown",
   "metadata": {},
   "source": [
    "# Limpiar Columna -> Tipo de Usuario General"
   ]
  },
  {
   "cell_type": "code",
   "execution_count": 26,
   "metadata": {},
   "outputs": [
    {
     "data": {
      "text/plain": [
       "array(['Docente', 'Funcionario', 'Estudiante', 'Estudiante ', 'Egresado ',\n",
       "       nan], dtype=object)"
      ]
     },
     "execution_count": 26,
     "metadata": {},
     "output_type": "execute_result"
    }
   ],
   "source": [
    "Laboratorios_1['Tipo de usuario (GENERAL)'].unique()"
   ]
  },
  {
   "cell_type": "code",
   "execution_count": 27,
   "metadata": {},
   "outputs": [],
   "source": [
    "Laboratorios_1['Tipo de usuario (GENERAL)'] = Laboratorios_1['Tipo de usuario (GENERAL)'].str.rstrip()"
   ]
  },
  {
   "cell_type": "code",
   "execution_count": 28,
   "metadata": {},
   "outputs": [
    {
     "data": {
      "text/plain": [
       "array(['Docente', 'Funcionario', 'Estudiante', 'Egresado', nan],\n",
       "      dtype=object)"
      ]
     },
     "execution_count": 28,
     "metadata": {},
     "output_type": "execute_result"
    }
   ],
   "source": [
    "Laboratorios_1['Tipo de usuario (GENERAL)'].unique()"
   ]
  },
  {
   "cell_type": "code",
   "execution_count": 29,
   "metadata": {},
   "outputs": [
    {
     "data": {
      "text/html": [
       "<div>\n",
       "<style scoped>\n",
       "    .dataframe tbody tr th:only-of-type {\n",
       "        vertical-align: middle;\n",
       "    }\n",
       "\n",
       "    .dataframe tbody tr th {\n",
       "        vertical-align: top;\n",
       "    }\n",
       "\n",
       "    .dataframe thead th {\n",
       "        text-align: right;\n",
       "    }\n",
       "</style>\n",
       "<table border=\"1\" class=\"dataframe\">\n",
       "  <thead>\n",
       "    <tr style=\"text-align: right;\">\n",
       "      <th></th>\n",
       "      <th>Semestre</th>\n",
       "      <th>Estado de la actividad</th>\n",
       "      <th>Nombres y Apellidos</th>\n",
       "      <th>Correo electrónico</th>\n",
       "      <th>Tipo de usuario (GENERAL)</th>\n",
       "      <th>Tipo de usuario (ESPECÍFICO)</th>\n",
       "      <th>Escuela/Facultad/Dependencia</th>\n",
       "      <th>Programa académico</th>\n",
       "      <th>Tipo de actividad (GENERAL)</th>\n",
       "      <th>Tipo de actividad (ESPECIFICA)</th>\n",
       "      <th>...</th>\n",
       "      <th># Licencias (Bloomberg)</th>\n",
       "      <th>Grabar Sesión (Camara Gesell)</th>\n",
       "      <th># Participantes</th>\n",
       "      <th>Fecha de la actividad</th>\n",
       "      <th>Día</th>\n",
       "      <th>Horario de Inicio</th>\n",
       "      <th>Horario de Finalización</th>\n",
       "      <th>Cantidad de horas</th>\n",
       "      <th>Motivo cancelación</th>\n",
       "      <th>Otro requerimiento</th>\n",
       "    </tr>\n",
       "  </thead>\n",
       "  <tbody>\n",
       "    <tr>\n",
       "      <th>185</th>\n",
       "      <td>2021-2</td>\n",
       "      <td>Realizada</td>\n",
       "      <td>NaN</td>\n",
       "      <td>NaN</td>\n",
       "      <td>NaN</td>\n",
       "      <td>NaN</td>\n",
       "      <td>NaN</td>\n",
       "      <td>NaN</td>\n",
       "      <td>NaN</td>\n",
       "      <td>NaN</td>\n",
       "      <td>...</td>\n",
       "      <td>NaN</td>\n",
       "      <td>NaN</td>\n",
       "      <td>NaN</td>\n",
       "      <td>NaN</td>\n",
       "      <td>NaN</td>\n",
       "      <td>NaN</td>\n",
       "      <td>NaN</td>\n",
       "      <td>0.0</td>\n",
       "      <td>NaN</td>\n",
       "      <td>NaN</td>\n",
       "    </tr>\n",
       "  </tbody>\n",
       "</table>\n",
       "<p>1 rows × 32 columns</p>\n",
       "</div>"
      ],
      "text/plain": [
       "    Semestre Estado de la actividad Nombres y Apellidos Correo electrónico  \\\n",
       "185   2021-2              Realizada                 NaN                NaN   \n",
       "\n",
       "    Tipo de usuario (GENERAL) Tipo de usuario (ESPECÍFICO)  \\\n",
       "185                       NaN                          NaN   \n",
       "\n",
       "    Escuela/Facultad/Dependencia Programa académico  \\\n",
       "185                          NaN                NaN   \n",
       "\n",
       "    Tipo de actividad (GENERAL) Tipo de actividad (ESPECIFICA)  ...  \\\n",
       "185                         NaN                            NaN  ...   \n",
       "\n",
       "    # Licencias (Bloomberg) Grabar Sesión (Camara Gesell) # Participantes  \\\n",
       "185                     NaN                           NaN             NaN   \n",
       "\n",
       "    Fecha de la actividad  Día Horario de Inicio Horario de Finalización  \\\n",
       "185                   NaN  NaN               NaN                     NaN   \n",
       "\n",
       "    Cantidad de horas Motivo cancelación Otro requerimiento  \n",
       "185               0.0                NaN                NaN  \n",
       "\n",
       "[1 rows x 32 columns]"
      ]
     },
     "execution_count": 29,
     "metadata": {},
     "output_type": "execute_result"
    }
   ],
   "source": [
    "Laboratorios_1[Laboratorios_1['Tipo de usuario (GENERAL)'].isnull()]"
   ]
  },
  {
   "cell_type": "code",
   "execution_count": 30,
   "metadata": {},
   "outputs": [],
   "source": [
    "Laboratorios_2 = Laboratorios_1.drop(Laboratorios.index[[185]]).copy()"
   ]
  },
  {
   "cell_type": "code",
   "execution_count": 31,
   "metadata": {},
   "outputs": [
    {
     "data": {
      "text/plain": [
       "array(['Docente', 'Funcionario', 'Estudiante', 'Egresado'], dtype=object)"
      ]
     },
     "execution_count": 31,
     "metadata": {},
     "output_type": "execute_result"
    }
   ],
   "source": [
    "Laboratorios_2['Tipo de usuario (GENERAL)'].unique()"
   ]
  },
  {
   "cell_type": "code",
   "execution_count": null,
   "metadata": {},
   "outputs": [],
   "source": [
    "#Laboratorios_2['Tipo de usuario (GENERAL)'].replace({'Funcionario UR':'Funcionario','Docente de Planta':\"Docente\",\n",
    "                                                  #'Docente H. Catedra':\"Docente\",'Docente UR':\"Docente\"},inplace=True)"
   ]
  },
  {
   "cell_type": "code",
   "execution_count": null,
   "metadata": {},
   "outputs": [],
   "source": [
    "#Laboratorios_2['Tipo de usuario (GENERAL)'].unique()"
   ]
  },
  {
   "cell_type": "markdown",
   "metadata": {},
   "source": [
    "# Limpiar Columna -> Tipo de actividad (GENERAL)"
   ]
  },
  {
   "cell_type": "code",
   "execution_count": 32,
   "metadata": {},
   "outputs": [
    {
     "data": {
      "text/plain": [
       "array(['Aprendizaje experiencial', 'Experiencia empresarios',\n",
       "       'Master Class B+LAB', 'Otras actividades', 'Experiencia internos',\n",
       "       'Investigación', 'Funcionarios', 'Experiencia internos ',\n",
       "       'Emprendedores ', 'Aprendizaje experiencial ', 'UR Emprende ', nan],\n",
       "      dtype=object)"
      ]
     },
     "execution_count": 32,
     "metadata": {},
     "output_type": "execute_result"
    }
   ],
   "source": [
    "Laboratorios_2['Tipo de actividad (GENERAL)'].unique()"
   ]
  },
  {
   "cell_type": "code",
   "execution_count": 33,
   "metadata": {},
   "outputs": [],
   "source": [
    "Laboratorios_2['Tipo de actividad (GENERAL)'] = Laboratorios_2['Tipo de actividad (GENERAL)'].str.rstrip()\n",
    "Laboratorios_2['Tipo de actividad (GENERAL)'] = Laboratorios_2['Tipo de actividad (GENERAL)'].str.capitalize()"
   ]
  },
  {
   "cell_type": "code",
   "execution_count": 34,
   "metadata": {},
   "outputs": [
    {
     "data": {
      "text/plain": [
       "array(['Aprendizaje experiencial', 'Experiencia empresarios',\n",
       "       'Master class b+lab', 'Otras actividades', 'Experiencia internos',\n",
       "       'Investigación', 'Funcionarios', 'Emprendedores', 'Ur emprende',\n",
       "       nan], dtype=object)"
      ]
     },
     "execution_count": 34,
     "metadata": {},
     "output_type": "execute_result"
    }
   ],
   "source": [
    "Laboratorios_2['Tipo de actividad (GENERAL)'].unique()"
   ]
  },
  {
   "cell_type": "code",
   "execution_count": 35,
   "metadata": {},
   "outputs": [
    {
     "data": {
      "text/html": [
       "<div>\n",
       "<style scoped>\n",
       "    .dataframe tbody tr th:only-of-type {\n",
       "        vertical-align: middle;\n",
       "    }\n",
       "\n",
       "    .dataframe tbody tr th {\n",
       "        vertical-align: top;\n",
       "    }\n",
       "\n",
       "    .dataframe thead th {\n",
       "        text-align: right;\n",
       "    }\n",
       "</style>\n",
       "<table border=\"1\" class=\"dataframe\">\n",
       "  <thead>\n",
       "    <tr style=\"text-align: right;\">\n",
       "      <th></th>\n",
       "      <th>Semestre</th>\n",
       "      <th>Estado de la actividad</th>\n",
       "      <th>Nombres y Apellidos</th>\n",
       "      <th>Correo electrónico</th>\n",
       "      <th>Tipo de usuario (GENERAL)</th>\n",
       "      <th>Tipo de usuario (ESPECÍFICO)</th>\n",
       "      <th>Escuela/Facultad/Dependencia</th>\n",
       "      <th>Programa académico</th>\n",
       "      <th>Tipo de actividad (GENERAL)</th>\n",
       "      <th>Tipo de actividad (ESPECIFICA)</th>\n",
       "      <th>...</th>\n",
       "      <th># Licencias (Bloomberg)</th>\n",
       "      <th>Grabar Sesión (Camara Gesell)</th>\n",
       "      <th># Participantes</th>\n",
       "      <th>Fecha de la actividad</th>\n",
       "      <th>Día</th>\n",
       "      <th>Horario de Inicio</th>\n",
       "      <th>Horario de Finalización</th>\n",
       "      <th>Cantidad de horas</th>\n",
       "      <th>Motivo cancelación</th>\n",
       "      <th>Otro requerimiento</th>\n",
       "    </tr>\n",
       "  </thead>\n",
       "  <tbody>\n",
       "    <tr>\n",
       "      <th>180</th>\n",
       "      <td>2021-2</td>\n",
       "      <td>Realizada</td>\n",
       "      <td>Diego Alejandro Rodriguez</td>\n",
       "      <td>diegoalejan.rodrig07@urosario.edu.co</td>\n",
       "      <td>Docente</td>\n",
       "      <td>Docente Hora Cátedra</td>\n",
       "      <td>Escuela de Administración</td>\n",
       "      <td>Administración de Negocios Internacionales</td>\n",
       "      <td>NaN</td>\n",
       "      <td>NaN</td>\n",
       "      <td>...</td>\n",
       "      <td>NaN</td>\n",
       "      <td>NaN</td>\n",
       "      <td>10.0</td>\n",
       "      <td>2021-09-07 00:00:00</td>\n",
       "      <td>NaN</td>\n",
       "      <td>12:00:00</td>\n",
       "      <td>14:00:00</td>\n",
       "      <td>2.0</td>\n",
       "      <td>NaN</td>\n",
       "      <td>NO APLICA</td>\n",
       "    </tr>\n",
       "  </tbody>\n",
       "</table>\n",
       "<p>1 rows × 32 columns</p>\n",
       "</div>"
      ],
      "text/plain": [
       "    Semestre Estado de la actividad         Nombres y Apellidos  \\\n",
       "180   2021-2              Realizada  Diego Alejandro Rodriguez    \n",
       "\n",
       "                       Correo electrónico Tipo de usuario (GENERAL)  \\\n",
       "180  diegoalejan.rodrig07@urosario.edu.co                   Docente   \n",
       "\n",
       "    Tipo de usuario (ESPECÍFICO) Escuela/Facultad/Dependencia  \\\n",
       "180        Docente Hora Cátedra    Escuela de Administración    \n",
       "\n",
       "                             Programa académico Tipo de actividad (GENERAL)  \\\n",
       "180  Administración de Negocios Internacionales                         NaN   \n",
       "\n",
       "    Tipo de actividad (ESPECIFICA)  ... # Licencias (Bloomberg)  \\\n",
       "180                            NaN  ...                     NaN   \n",
       "\n",
       "    Grabar Sesión (Camara Gesell) # Participantes Fecha de la actividad  Día  \\\n",
       "180                           NaN            10.0   2021-09-07 00:00:00  NaN   \n",
       "\n",
       "    Horario de Inicio Horario de Finalización Cantidad de horas  \\\n",
       "180          12:00:00                14:00:00               2.0   \n",
       "\n",
       "    Motivo cancelación Otro requerimiento  \n",
       "180                NaN          NO APLICA  \n",
       "\n",
       "[1 rows x 32 columns]"
      ]
     },
     "execution_count": 35,
     "metadata": {},
     "output_type": "execute_result"
    }
   ],
   "source": [
    "Laboratorios_2[Laboratorios_2['Tipo de actividad (GENERAL)'].isnull()]"
   ]
  },
  {
   "cell_type": "code",
   "execution_count": 36,
   "metadata": {},
   "outputs": [],
   "source": [
    "Laboratorios_3 = Laboratorios_2.copy()"
   ]
  },
  {
   "cell_type": "code",
   "execution_count": null,
   "metadata": {},
   "outputs": [],
   "source": [
    "#Laboratorios_Limpio3 = Laboratorios_Limpio.drop(Laboratorios_Limpio.index[[63]]).copy()"
   ]
  },
  {
   "cell_type": "code",
   "execution_count": null,
   "metadata": {},
   "outputs": [],
   "source": [
    "#Laboratorios_3['Tipo de actividad (GENERAL)'].replace({'Recorridos b+lab':\"Recorridos\",\n",
    "                                                       #'Recorridos ur steam ':\"Recorridos\"},inplace=True)"
   ]
  },
  {
   "cell_type": "code",
   "execution_count": null,
   "metadata": {},
   "outputs": [],
   "source": [
    "#Laboratorios_3['Tipo de actividad (GENERAL)'].unique()"
   ]
  },
  {
   "cell_type": "markdown",
   "metadata": {},
   "source": [
    "# Limpiar Columna -> Tipo de actividad (ESPECIFICA)"
   ]
  },
  {
   "cell_type": "code",
   "execution_count": 37,
   "metadata": {},
   "outputs": [
    {
     "data": {
      "text/plain": [
       "array(['Asesoría/Capacitación', 'POSG - Classroom LAB', 'Open lab',\n",
       "       'PREG - Classroom LAB', 'B+lab- Virtual idea b+lab',\n",
       "       'Recorrido lab', 'Reunión', 'Experience lab',\n",
       "       'PREG - aprendizaje autónomo', 'UR B+lab Business Week',\n",
       "       'Investigación- Actividad investigación', 'Otras actividades',\n",
       "       'Living lab', 'Funcionarios- Actividad LAB', 'Living Lab',\n",
       "       'Open Lab', 'Experience Lab', 'PREG - Aprendizaje autónomo',\n",
       "       'Asesorias/Capacitación Herramientas', 'Incubadora UR ', 'Sofá ',\n",
       "       'Talleres Labs UR Emprende', 'Prototipado ', nan], dtype=object)"
      ]
     },
     "execution_count": 37,
     "metadata": {},
     "output_type": "execute_result"
    }
   ],
   "source": [
    "Laboratorios_3[\"Tipo de actividad (ESPECIFICA)\"].unique()"
   ]
  },
  {
   "cell_type": "code",
   "execution_count": 38,
   "metadata": {},
   "outputs": [],
   "source": [
    "Laboratorios_3[\"Tipo de actividad (ESPECIFICA)\"] = Laboratorios_3[\"Tipo de actividad (ESPECIFICA)\"].str.rstrip()\n",
    "Laboratorios_3[\"Tipo de actividad (ESPECIFICA)\"] = Laboratorios_3[\"Tipo de actividad (ESPECIFICA)\"].str.capitalize()"
   ]
  },
  {
   "cell_type": "code",
   "execution_count": 39,
   "metadata": {},
   "outputs": [
    {
     "data": {
      "text/plain": [
       "array(['Asesoría/capacitación', 'Posg - classroom lab', 'Open lab',\n",
       "       'Preg - classroom lab', 'B+lab- virtual idea b+lab',\n",
       "       'Recorrido lab', 'Reunión', 'Experience lab',\n",
       "       'Preg - aprendizaje autónomo', 'Ur b+lab business week',\n",
       "       'Investigación- actividad investigación', 'Otras actividades',\n",
       "       'Living lab', 'Funcionarios- actividad lab',\n",
       "       'Asesorias/capacitación herramientas', 'Incubadora ur', 'Sofá',\n",
       "       'Talleres labs ur emprende', 'Prototipado', nan], dtype=object)"
      ]
     },
     "execution_count": 39,
     "metadata": {},
     "output_type": "execute_result"
    }
   ],
   "source": [
    "Laboratorios_3[\"Tipo de actividad (ESPECIFICA)\"].unique()"
   ]
  },
  {
   "cell_type": "code",
   "execution_count": 40,
   "metadata": {},
   "outputs": [],
   "source": [
    "Laboratorios_3[\"Tipo de actividad (ESPECIFICA)\"].replace({'Asesorias/capacitación herramientas':'Asesoría/capacitación'},\n",
    "                                          #'EMPRESARIAL ':\"Empresarial\",'OTRO ':\"Otro\"},\n",
    "                                                          inplace=True)"
   ]
  },
  {
   "cell_type": "code",
   "execution_count": 41,
   "metadata": {},
   "outputs": [
    {
     "data": {
      "text/plain": [
       "array(['Asesoría/capacitación', 'Posg - classroom lab', 'Open lab',\n",
       "       'Preg - classroom lab', 'B+lab- virtual idea b+lab',\n",
       "       'Recorrido lab', 'Reunión', 'Experience lab',\n",
       "       'Preg - aprendizaje autónomo', 'Ur b+lab business week',\n",
       "       'Investigación- actividad investigación', 'Otras actividades',\n",
       "       'Living lab', 'Funcionarios- actividad lab', 'Incubadora ur',\n",
       "       'Sofá', 'Talleres labs ur emprende', 'Prototipado', nan],\n",
       "      dtype=object)"
      ]
     },
     "execution_count": 41,
     "metadata": {},
     "output_type": "execute_result"
    }
   ],
   "source": [
    "Laboratorios_3[\"Tipo de actividad (ESPECIFICA)\"].unique()"
   ]
  },
  {
   "cell_type": "code",
   "execution_count": 42,
   "metadata": {},
   "outputs": [
    {
     "data": {
      "text/html": [
       "<div>\n",
       "<style scoped>\n",
       "    .dataframe tbody tr th:only-of-type {\n",
       "        vertical-align: middle;\n",
       "    }\n",
       "\n",
       "    .dataframe tbody tr th {\n",
       "        vertical-align: top;\n",
       "    }\n",
       "\n",
       "    .dataframe thead th {\n",
       "        text-align: right;\n",
       "    }\n",
       "</style>\n",
       "<table border=\"1\" class=\"dataframe\">\n",
       "  <thead>\n",
       "    <tr style=\"text-align: right;\">\n",
       "      <th></th>\n",
       "      <th>Semestre</th>\n",
       "      <th>Estado de la actividad</th>\n",
       "      <th>Nombres y Apellidos</th>\n",
       "      <th>Correo electrónico</th>\n",
       "      <th>Tipo de usuario (GENERAL)</th>\n",
       "      <th>Tipo de usuario (ESPECÍFICO)</th>\n",
       "      <th>Escuela/Facultad/Dependencia</th>\n",
       "      <th>Programa académico</th>\n",
       "      <th>Tipo de actividad (GENERAL)</th>\n",
       "      <th>Tipo de actividad (ESPECIFICA)</th>\n",
       "      <th>...</th>\n",
       "      <th># Licencias (Bloomberg)</th>\n",
       "      <th>Grabar Sesión (Camara Gesell)</th>\n",
       "      <th># Participantes</th>\n",
       "      <th>Fecha de la actividad</th>\n",
       "      <th>Día</th>\n",
       "      <th>Horario de Inicio</th>\n",
       "      <th>Horario de Finalización</th>\n",
       "      <th>Cantidad de horas</th>\n",
       "      <th>Motivo cancelación</th>\n",
       "      <th>Otro requerimiento</th>\n",
       "    </tr>\n",
       "  </thead>\n",
       "  <tbody>\n",
       "    <tr>\n",
       "      <th>180</th>\n",
       "      <td>2021-2</td>\n",
       "      <td>Realizada</td>\n",
       "      <td>Diego Alejandro Rodriguez</td>\n",
       "      <td>diegoalejan.rodrig07@urosario.edu.co</td>\n",
       "      <td>Docente</td>\n",
       "      <td>Docente Hora Cátedra</td>\n",
       "      <td>Escuela de Administración</td>\n",
       "      <td>Administración de Negocios Internacionales</td>\n",
       "      <td>NaN</td>\n",
       "      <td>NaN</td>\n",
       "      <td>...</td>\n",
       "      <td>NaN</td>\n",
       "      <td>NaN</td>\n",
       "      <td>10.0</td>\n",
       "      <td>2021-09-07 00:00:00</td>\n",
       "      <td>NaN</td>\n",
       "      <td>12:00:00</td>\n",
       "      <td>14:00:00</td>\n",
       "      <td>2.0</td>\n",
       "      <td>NaN</td>\n",
       "      <td>NO APLICA</td>\n",
       "    </tr>\n",
       "  </tbody>\n",
       "</table>\n",
       "<p>1 rows × 32 columns</p>\n",
       "</div>"
      ],
      "text/plain": [
       "    Semestre Estado de la actividad         Nombres y Apellidos  \\\n",
       "180   2021-2              Realizada  Diego Alejandro Rodriguez    \n",
       "\n",
       "                       Correo electrónico Tipo de usuario (GENERAL)  \\\n",
       "180  diegoalejan.rodrig07@urosario.edu.co                   Docente   \n",
       "\n",
       "    Tipo de usuario (ESPECÍFICO) Escuela/Facultad/Dependencia  \\\n",
       "180        Docente Hora Cátedra    Escuela de Administración    \n",
       "\n",
       "                             Programa académico Tipo de actividad (GENERAL)  \\\n",
       "180  Administración de Negocios Internacionales                         NaN   \n",
       "\n",
       "    Tipo de actividad (ESPECIFICA)  ... # Licencias (Bloomberg)  \\\n",
       "180                            NaN  ...                     NaN   \n",
       "\n",
       "    Grabar Sesión (Camara Gesell) # Participantes Fecha de la actividad  Día  \\\n",
       "180                           NaN            10.0   2021-09-07 00:00:00  NaN   \n",
       "\n",
       "    Horario de Inicio Horario de Finalización Cantidad de horas  \\\n",
       "180          12:00:00                14:00:00               2.0   \n",
       "\n",
       "    Motivo cancelación Otro requerimiento  \n",
       "180                NaN          NO APLICA  \n",
       "\n",
       "[1 rows x 32 columns]"
      ]
     },
     "execution_count": 42,
     "metadata": {},
     "output_type": "execute_result"
    }
   ],
   "source": [
    "Laboratorios_3[Laboratorios_3[\"Tipo de actividad (ESPECIFICA)\"].isnull()]"
   ]
  },
  {
   "cell_type": "markdown",
   "metadata": {},
   "source": [
    "# Limpieza Columna -> Tipo de Ocupación"
   ]
  },
  {
   "cell_type": "code",
   "execution_count": null,
   "metadata": {},
   "outputs": [],
   "source": [
    "#Laboratorios_3['Tipo de ocupación'].replace({\"ACADÉMICA\":\"Academico\",\"EMPRESARIAL\":\"Empresarial\",\"OTRO\":\"Otro\",\n",
    "                                          #'EMPRESARIAL ':\"Empresarial\",'OTRO ':\"Otro\"},inplace=True)"
   ]
  },
  {
   "cell_type": "code",
   "execution_count": null,
   "metadata": {},
   "outputs": [],
   "source": [
    "#Laboratorios_3['Tipo de ocupación'].unique()"
   ]
  },
  {
   "cell_type": "markdown",
   "metadata": {},
   "source": [
    "# Limpieza Columna -> Nombre del Invitado"
   ]
  },
  {
   "cell_type": "code",
   "execution_count": 43,
   "metadata": {},
   "outputs": [
    {
     "data": {
      "text/plain": [
       "array(['Universidad del Rosario', 'Informese', 'Super Ricas',\n",
       "       'Universidad San Francisco de Quito', 'Cámara de Comercio Huila',\n",
       "       'Universidad de Ibagué', 'Blu 4.0, Fedesoft', 'ASOCAPITALES',\n",
       "       'Corporación Universitaria Empresarial CUE- Alexander Von Humboldt',\n",
       "       'Cámara de Comercio de Bogotá', 'MINCIENCIAS', 'MINISO',\n",
       "       'COLSUBSIDIO', 'TELEPERFORMANCE',\n",
       "       'Universidad San Francisco de Quito ', 'Cámara de Comercio Huila ',\n",
       "       'Universidad de Ibague', 'Blu Radio',\n",
       "       'City University of New York', 'Asocapitales',\n",
       "       'CUE- Alexander Von Humboldt', 'Equipo Diego Camargo ',\n",
       "       'Estudiantes de clase ', 'INDUCCION ESCUELA DOCTORAL ', 'DPEI',\n",
       "       'Camara de Comercio Bogota', 'Egresados (Especializaciones)',\n",
       "       'FACREA', 'Estudiantes pregrado',\n",
       "       'Investigación e Innovación de la UR', 'Directivos medicina ',\n",
       "       'DMU ', 'Dirección de Egresados ',\n",
       "       'EQUIPO PRODUCTIVIDAD COLSUBSIDIO ', 'Thomas Rojas ', 'Fabrilab',\n",
       "       'Teleperformance ', 'Estudiantes UR', nan], dtype=object)"
      ]
     },
     "execution_count": 43,
     "metadata": {},
     "output_type": "execute_result"
    }
   ],
   "source": [
    "Laboratorios_3['Nombre de Invitado'].unique()"
   ]
  },
  {
   "cell_type": "code",
   "execution_count": 44,
   "metadata": {},
   "outputs": [
    {
     "data": {
      "text/plain": [
       "array(['Universidad del Rosario', 'Informese', 'Super Ricas',\n",
       "       'Universidad San Francisco de Quito', 'Cámara de Comercio Huila',\n",
       "       'Universidad de Ibagué', 'Blu 4.0, Fedesoft', 'ASOCAPITALES',\n",
       "       'Corporación Universitaria Empresarial CUE- Alexander Von Humboldt',\n",
       "       'Cámara de Comercio de Bogotá', 'MINCIENCIAS', 'MINISO',\n",
       "       'COLSUBSIDIO', 'TELEPERFORMANCE', 'Universidad de Ibague',\n",
       "       'Blu Radio', 'City University of New York', 'Asocapitales',\n",
       "       'CUE- Alexander Von Humboldt', 'Equipo Diego Camargo',\n",
       "       'Estudiantes de clase', 'INDUCCION ESCUELA DOCTORAL', 'DPEI',\n",
       "       'Camara de Comercio Bogota', 'Egresados (Especializaciones)',\n",
       "       'FACREA', 'Estudiantes pregrado',\n",
       "       'Investigación e Innovación de la UR', 'Directivos medicina',\n",
       "       'DMU', 'Dirección de Egresados',\n",
       "       'EQUIPO PRODUCTIVIDAD COLSUBSIDIO', 'Thomas Rojas', 'Fabrilab',\n",
       "       'Teleperformance', 'Estudiantes UR', nan], dtype=object)"
      ]
     },
     "execution_count": 44,
     "metadata": {},
     "output_type": "execute_result"
    }
   ],
   "source": [
    "Laboratorios_3['Nombre de Invitado'] = Laboratorios_3['Nombre de Invitado'].str.rstrip()\n",
    "Laboratorios_3['Nombre de Invitado'].unique()"
   ]
  },
  {
   "cell_type": "code",
   "execution_count": 45,
   "metadata": {},
   "outputs": [],
   "source": [
    "Laboratorios_3['Nombre de Invitado'].replace({'Corporación Universitaria Empresarial CUE- Alexander Von Humboldt':\"CUE - Alexander Von Humboldt\",\n",
    "                                             'CUE- Alexander Von Humboldt':\"CUE - Alexander Von Humboldt\",\n",
    "                                             'Camara de Comercio Bogota':'Cámara de Comercio de Bogotá',},inplace=True)"
   ]
  },
  {
   "cell_type": "code",
   "execution_count": 46,
   "metadata": {},
   "outputs": [
    {
     "data": {
      "text/html": [
       "<div>\n",
       "<style scoped>\n",
       "    .dataframe tbody tr th:only-of-type {\n",
       "        vertical-align: middle;\n",
       "    }\n",
       "\n",
       "    .dataframe tbody tr th {\n",
       "        vertical-align: top;\n",
       "    }\n",
       "\n",
       "    .dataframe thead th {\n",
       "        text-align: right;\n",
       "    }\n",
       "</style>\n",
       "<table border=\"1\" class=\"dataframe\">\n",
       "  <thead>\n",
       "    <tr style=\"text-align: right;\">\n",
       "      <th></th>\n",
       "      <th>Semestre</th>\n",
       "      <th>Estado de la actividad</th>\n",
       "      <th>Nombres y Apellidos</th>\n",
       "      <th>Correo electrónico</th>\n",
       "      <th>Tipo de usuario (GENERAL)</th>\n",
       "      <th>Tipo de usuario (ESPECÍFICO)</th>\n",
       "      <th>Escuela/Facultad/Dependencia</th>\n",
       "      <th>Programa académico</th>\n",
       "      <th>Tipo de actividad (GENERAL)</th>\n",
       "      <th>Tipo de actividad (ESPECIFICA)</th>\n",
       "      <th>...</th>\n",
       "      <th># Licencias (Bloomberg)</th>\n",
       "      <th>Grabar Sesión (Camara Gesell)</th>\n",
       "      <th># Participantes</th>\n",
       "      <th>Fecha de la actividad</th>\n",
       "      <th>Día</th>\n",
       "      <th>Horario de Inicio</th>\n",
       "      <th>Horario de Finalización</th>\n",
       "      <th>Cantidad de horas</th>\n",
       "      <th>Motivo cancelación</th>\n",
       "      <th>Otro requerimiento</th>\n",
       "    </tr>\n",
       "  </thead>\n",
       "  <tbody>\n",
       "    <tr>\n",
       "      <th>179</th>\n",
       "      <td>2021-2</td>\n",
       "      <td>Realizada</td>\n",
       "      <td>Andrea Carolina Hurtado</td>\n",
       "      <td>andrea.hurtado@urosario.edu.co</td>\n",
       "      <td>Funcionario</td>\n",
       "      <td>Funcionario UR</td>\n",
       "      <td>UR STEAM</td>\n",
       "      <td>NO APLICA</td>\n",
       "      <td>Otras actividades</td>\n",
       "      <td>Reunión</td>\n",
       "      <td>...</td>\n",
       "      <td>NaN</td>\n",
       "      <td>NaN</td>\n",
       "      <td>NaN</td>\n",
       "      <td>NaN</td>\n",
       "      <td>NaN</td>\n",
       "      <td>NaN</td>\n",
       "      <td>NaN</td>\n",
       "      <td>0.0</td>\n",
       "      <td>NaN</td>\n",
       "      <td>NaN</td>\n",
       "    </tr>\n",
       "  </tbody>\n",
       "</table>\n",
       "<p>1 rows × 32 columns</p>\n",
       "</div>"
      ],
      "text/plain": [
       "    Semestre Estado de la actividad       Nombres y Apellidos  \\\n",
       "179   2021-2              Realizada  Andrea Carolina Hurtado    \n",
       "\n",
       "                 Correo electrónico Tipo de usuario (GENERAL)  \\\n",
       "179  andrea.hurtado@urosario.edu.co               Funcionario   \n",
       "\n",
       "    Tipo de usuario (ESPECÍFICO) Escuela/Facultad/Dependencia  \\\n",
       "179              Funcionario UR                     UR STEAM    \n",
       "\n",
       "    Programa académico Tipo de actividad (GENERAL)  \\\n",
       "179         NO APLICA            Otras actividades   \n",
       "\n",
       "    Tipo de actividad (ESPECIFICA)  ... # Licencias (Bloomberg)  \\\n",
       "179                        Reunión  ...                     NaN   \n",
       "\n",
       "    Grabar Sesión (Camara Gesell) # Participantes Fecha de la actividad  Día  \\\n",
       "179                           NaN             NaN                   NaN  NaN   \n",
       "\n",
       "    Horario de Inicio Horario de Finalización Cantidad de horas  \\\n",
       "179               NaN                     NaN               0.0   \n",
       "\n",
       "    Motivo cancelación Otro requerimiento  \n",
       "179                NaN                NaN  \n",
       "\n",
       "[1 rows x 32 columns]"
      ]
     },
     "execution_count": 46,
     "metadata": {},
     "output_type": "execute_result"
    }
   ],
   "source": [
    "Laboratorios_3[Laboratorios_3['Nombre de Invitado'].isnull()]"
   ]
  },
  {
   "cell_type": "markdown",
   "metadata": {},
   "source": [
    "## Limpieza Columna -> Laboratorios"
   ]
  },
  {
   "cell_type": "code",
   "execution_count": 47,
   "metadata": {},
   "outputs": [],
   "source": [
    "Laboratorios_3['Laboratorio'] = Laboratorios_3['Laboratorio'].str.rstrip()\n",
    "Laboratorios_3['Laboratorio'] = Laboratorios_3['Laboratorio'].str.capitalize()"
   ]
  },
  {
   "cell_type": "code",
   "execution_count": 48,
   "metadata": {},
   "outputs": [
    {
     "data": {
      "text/plain": [
       "array(['Neuromarketing & comportamiento organizacional',\n",
       "       'Smart logistics', 'Planeación & toma de decisiones',\n",
       "       'Genius space', 'Maker space', 'Team space', nan], dtype=object)"
      ]
     },
     "execution_count": 48,
     "metadata": {},
     "output_type": "execute_result"
    }
   ],
   "source": [
    "Laboratorios_3['Laboratorio'].unique()"
   ]
  },
  {
   "cell_type": "code",
   "execution_count": 49,
   "metadata": {},
   "outputs": [
    {
     "data": {
      "text/html": [
       "<div>\n",
       "<style scoped>\n",
       "    .dataframe tbody tr th:only-of-type {\n",
       "        vertical-align: middle;\n",
       "    }\n",
       "\n",
       "    .dataframe tbody tr th {\n",
       "        vertical-align: top;\n",
       "    }\n",
       "\n",
       "    .dataframe thead th {\n",
       "        text-align: right;\n",
       "    }\n",
       "</style>\n",
       "<table border=\"1\" class=\"dataframe\">\n",
       "  <thead>\n",
       "    <tr style=\"text-align: right;\">\n",
       "      <th></th>\n",
       "      <th>Semestre</th>\n",
       "      <th>Estado de la actividad</th>\n",
       "      <th>Nombres y Apellidos</th>\n",
       "      <th>Correo electrónico</th>\n",
       "      <th>Tipo de usuario (GENERAL)</th>\n",
       "      <th>Tipo de usuario (ESPECÍFICO)</th>\n",
       "      <th>Escuela/Facultad/Dependencia</th>\n",
       "      <th>Programa académico</th>\n",
       "      <th>Tipo de actividad (GENERAL)</th>\n",
       "      <th>Tipo de actividad (ESPECIFICA)</th>\n",
       "      <th>...</th>\n",
       "      <th># Licencias (Bloomberg)</th>\n",
       "      <th>Grabar Sesión (Camara Gesell)</th>\n",
       "      <th># Participantes</th>\n",
       "      <th>Fecha de la actividad</th>\n",
       "      <th>Día</th>\n",
       "      <th>Horario de Inicio</th>\n",
       "      <th>Horario de Finalización</th>\n",
       "      <th>Cantidad de horas</th>\n",
       "      <th>Motivo cancelación</th>\n",
       "      <th>Otro requerimiento</th>\n",
       "    </tr>\n",
       "  </thead>\n",
       "  <tbody>\n",
       "    <tr>\n",
       "      <th>179</th>\n",
       "      <td>2021-2</td>\n",
       "      <td>Realizada</td>\n",
       "      <td>Andrea Carolina Hurtado</td>\n",
       "      <td>andrea.hurtado@urosario.edu.co</td>\n",
       "      <td>Funcionario</td>\n",
       "      <td>Funcionario UR</td>\n",
       "      <td>UR STEAM</td>\n",
       "      <td>NO APLICA</td>\n",
       "      <td>Otras actividades</td>\n",
       "      <td>Reunión</td>\n",
       "      <td>...</td>\n",
       "      <td>NaN</td>\n",
       "      <td>NaN</td>\n",
       "      <td>NaN</td>\n",
       "      <td>NaN</td>\n",
       "      <td>NaN</td>\n",
       "      <td>NaN</td>\n",
       "      <td>NaN</td>\n",
       "      <td>0.0</td>\n",
       "      <td>NaN</td>\n",
       "      <td>NaN</td>\n",
       "    </tr>\n",
       "    <tr>\n",
       "      <th>191</th>\n",
       "      <td>2021-2</td>\n",
       "      <td>Realizada</td>\n",
       "      <td>Samuel Espinal</td>\n",
       "      <td>samuel.espinal@urosario.edu.co</td>\n",
       "      <td>Funcionario</td>\n",
       "      <td>Funcionario UR</td>\n",
       "      <td>Escuela de Administración</td>\n",
       "      <td>GSB</td>\n",
       "      <td>Otras actividades</td>\n",
       "      <td>Reunión</td>\n",
       "      <td>...</td>\n",
       "      <td>NaN</td>\n",
       "      <td>NaN</td>\n",
       "      <td>NaN</td>\n",
       "      <td>NaN</td>\n",
       "      <td>NaN</td>\n",
       "      <td>NaN</td>\n",
       "      <td>NaN</td>\n",
       "      <td>NaN</td>\n",
       "      <td>NaN</td>\n",
       "      <td>NaN</td>\n",
       "    </tr>\n",
       "  </tbody>\n",
       "</table>\n",
       "<p>2 rows × 32 columns</p>\n",
       "</div>"
      ],
      "text/plain": [
       "    Semestre Estado de la actividad       Nombres y Apellidos  \\\n",
       "179   2021-2              Realizada  Andrea Carolina Hurtado    \n",
       "191   2021-2              Realizada            Samuel Espinal   \n",
       "\n",
       "                 Correo electrónico Tipo de usuario (GENERAL)  \\\n",
       "179  andrea.hurtado@urosario.edu.co               Funcionario   \n",
       "191  samuel.espinal@urosario.edu.co               Funcionario   \n",
       "\n",
       "    Tipo de usuario (ESPECÍFICO) Escuela/Facultad/Dependencia  \\\n",
       "179              Funcionario UR                     UR STEAM    \n",
       "191              Funcionario UR    Escuela de Administración    \n",
       "\n",
       "    Programa académico Tipo de actividad (GENERAL)  \\\n",
       "179         NO APLICA            Otras actividades   \n",
       "191                GSB           Otras actividades   \n",
       "\n",
       "    Tipo de actividad (ESPECIFICA)  ... # Licencias (Bloomberg)  \\\n",
       "179                        Reunión  ...                     NaN   \n",
       "191                        Reunión  ...                     NaN   \n",
       "\n",
       "    Grabar Sesión (Camara Gesell) # Participantes Fecha de la actividad  Día  \\\n",
       "179                           NaN             NaN                   NaN  NaN   \n",
       "191                           NaN             NaN                   NaN  NaN   \n",
       "\n",
       "    Horario de Inicio Horario de Finalización Cantidad de horas  \\\n",
       "179               NaN                     NaN               0.0   \n",
       "191               NaN                     NaN               NaN   \n",
       "\n",
       "    Motivo cancelación Otro requerimiento  \n",
       "179                NaN                NaN  \n",
       "191                NaN                NaN  \n",
       "\n",
       "[2 rows x 32 columns]"
      ]
     },
     "execution_count": 49,
     "metadata": {},
     "output_type": "execute_result"
    }
   ],
   "source": [
    "Laboratorios_3[Laboratorios_3['Laboratorio'].isnull()]"
   ]
  },
  {
   "cell_type": "markdown",
   "metadata": {},
   "source": [
    "# Limpieza general"
   ]
  },
  {
   "cell_type": "code",
   "execution_count": 50,
   "metadata": {},
   "outputs": [
    {
     "data": {
      "text/plain": [
       "Index(['Semestre', 'Estado de la actividad', 'Nombres y Apellidos',\n",
       "       'Correo electrónico', 'Tipo de usuario (GENERAL)',\n",
       "       'Tipo de usuario (ESPECÍFICO)', 'Escuela/Facultad/Dependencia',\n",
       "       'Programa académico', 'Tipo de actividad (GENERAL)',\n",
       "       'Tipo de actividad (ESPECIFICA)', 'Area (Asignaturas Pregrado)',\n",
       "       'Asignatura (Pregrado/Posgrado)', 'Tipo de Asignatura',\n",
       "       'Grupo (Asignatura)', 'Nombre de la actividad', 'Nombre de Invitado',\n",
       "       'Modalidad de la actividad',\n",
       "       'Lugar donde se realizará (Virtual/Presencial)', 'GTE', 'Laboratorio',\n",
       "       'Recurso específico', 'Recurso general', '# Licencias (Bloomberg)',\n",
       "       'Grabar Sesión (Camara Gesell)', '# Participantes',\n",
       "       'Fecha de la actividad', 'Día', 'Horario de Inicio',\n",
       "       'Horario de Finalización', 'Cantidad de horas', 'Motivo cancelación',\n",
       "       'Otro requerimiento'],\n",
       "      dtype='object')"
      ]
     },
     "execution_count": 50,
     "metadata": {},
     "output_type": "execute_result"
    }
   ],
   "source": [
    "Laboratorios_3.columns"
   ]
  },
  {
   "cell_type": "code",
   "execution_count": 51,
   "metadata": {},
   "outputs": [],
   "source": [
    "#Laboratorios_3 = Laboratorios_3.dropna(how=\"all\")\n",
    "Laboratorios_3 = Laboratorios_3.reset_index(drop=True)\n",
    "#Laboratorios_3[\"Horario de Finalización\"].fillna(\"00:00:00\",inplace=True)\n",
    "#Laboratorios_3[\"Horario de Inicio\"].fillna(\"00:00:00\",inplace=True)\n",
    "Laboratorios_3 = Laboratorios_3.fillna(\"Sin Información\")"
   ]
  },
  {
   "cell_type": "code",
   "execution_count": null,
   "metadata": {},
   "outputs": [],
   "source": []
  },
  {
   "cell_type": "markdown",
   "metadata": {},
   "source": [
    "## Cambio de Horas a Formato 24"
   ]
  },
  {
   "cell_type": "code",
   "execution_count": null,
   "metadata": {},
   "outputs": [],
   "source": [
    "#dato = Laboratorios[\"Horario de Finalizacion\"].astype(str)\n",
    "#dato = pd.to_datetime(dato)\n",
    "#dato = dato.dt\n",
    "#dato = dato.to_pydatetime()\n",
    "#Laboratorios[\"Horario de Finalizacion\"]=pd.to_datetime(dato)"
   ]
  },
  {
   "cell_type": "code",
   "execution_count": null,
   "metadata": {},
   "outputs": [],
   "source": [
    "#dato = Laboratorios[\"Horario de Inicio\"].astype(str)\n",
    "#dato = pd.to_datetime(dato)\n",
    "#dato = dato.dt\n",
    "#dato = dato.to_pydatetime()\n",
    "#Laboratorios[\"Horario de Inicio\"]=pd.to_datetime(dato)#"
   ]
  },
  {
   "cell_type": "code",
   "execution_count": null,
   "metadata": {},
   "outputs": [],
   "source": [
    "#Horas = []\n",
    "#for i in range(len(Laboratorios)):\n",
    "#    valor = Laboratorios[\"Horario de Finalizacion\"][i] - Laboratorios[\"Horario de Inicio\"][i]\n",
    "#    valor = valor.seconds//60\n",
    "#    valor = valor / 60\n",
    "#    Horas.append(valor)\n",
    "#Laboratorios[\"Cantidad \\nde hrs\"] = Horas\n",
    "Laboratorios.head(2)"
   ]
  },
  {
   "cell_type": "code",
   "execution_count": 52,
   "metadata": {},
   "outputs": [
    {
     "data": {
      "text/plain": [
       "(550, 32)"
      ]
     },
     "execution_count": 52,
     "metadata": {},
     "output_type": "execute_result"
    }
   ],
   "source": [
    "Laboratorios_3.shape"
   ]
  },
  {
   "cell_type": "code",
   "execution_count": 53,
   "metadata": {},
   "outputs": [
    {
     "data": {
      "text/html": [
       "<div>\n",
       "<style scoped>\n",
       "    .dataframe tbody tr th:only-of-type {\n",
       "        vertical-align: middle;\n",
       "    }\n",
       "\n",
       "    .dataframe tbody tr th {\n",
       "        vertical-align: top;\n",
       "    }\n",
       "\n",
       "    .dataframe thead th {\n",
       "        text-align: right;\n",
       "    }\n",
       "</style>\n",
       "<table border=\"1\" class=\"dataframe\">\n",
       "  <thead>\n",
       "    <tr style=\"text-align: right;\">\n",
       "      <th></th>\n",
       "      <th>Semestre</th>\n",
       "      <th>Estado de la actividad</th>\n",
       "      <th>Nombres y Apellidos</th>\n",
       "      <th>Correo electrónico</th>\n",
       "      <th>Tipo de usuario (GENERAL)</th>\n",
       "      <th>Tipo de usuario (ESPECÍFICO)</th>\n",
       "      <th>Escuela/Facultad/Dependencia</th>\n",
       "      <th>Programa académico</th>\n",
       "      <th>Tipo de actividad (GENERAL)</th>\n",
       "      <th>Tipo de actividad (ESPECIFICA)</th>\n",
       "      <th>...</th>\n",
       "      <th># Licencias (Bloomberg)</th>\n",
       "      <th>Grabar Sesión (Camara Gesell)</th>\n",
       "      <th># Participantes</th>\n",
       "      <th>Fecha de la actividad</th>\n",
       "      <th>Día</th>\n",
       "      <th>Horario de Inicio</th>\n",
       "      <th>Horario de Finalización</th>\n",
       "      <th>Cantidad de horas</th>\n",
       "      <th>Motivo cancelación</th>\n",
       "      <th>Otro requerimiento</th>\n",
       "    </tr>\n",
       "  </thead>\n",
       "  <tbody>\n",
       "    <tr>\n",
       "      <th>0</th>\n",
       "      <td>2021-1</td>\n",
       "      <td>Realizada</td>\n",
       "      <td>Andres Fernando Montaña Fernandez</td>\n",
       "      <td>andresfe.montana@urosario.edu.co</td>\n",
       "      <td>Docente</td>\n",
       "      <td>Docente de Planta</td>\n",
       "      <td>Escuela de Administración</td>\n",
       "      <td>NO APLICA</td>\n",
       "      <td>Aprendizaje experiencial</td>\n",
       "      <td>Asesoría/capacitación</td>\n",
       "      <td>...</td>\n",
       "      <td>NO APLICA</td>\n",
       "      <td>NO</td>\n",
       "      <td>1.0</td>\n",
       "      <td>2021-01-20 00:00:00</td>\n",
       "      <td>miércoles</td>\n",
       "      <td>14:00:00</td>\n",
       "      <td>14:30:00</td>\n",
       "      <td>0.5</td>\n",
       "      <td>Sin Información</td>\n",
       "      <td>Sin Información</td>\n",
       "    </tr>\n",
       "    <tr>\n",
       "      <th>1</th>\n",
       "      <td>2021-1</td>\n",
       "      <td>Realizada</td>\n",
       "      <td>Andres Fernando Montaña Fernandez</td>\n",
       "      <td>andresfe.montana@urosario.edu.co</td>\n",
       "      <td>Docente</td>\n",
       "      <td>Docente de Planta</td>\n",
       "      <td>Escuela de Administración</td>\n",
       "      <td>NO APLICA</td>\n",
       "      <td>Aprendizaje experiencial</td>\n",
       "      <td>Asesoría/capacitación</td>\n",
       "      <td>...</td>\n",
       "      <td>NO APLICA</td>\n",
       "      <td>NO</td>\n",
       "      <td>1.0</td>\n",
       "      <td>2021-01-20 00:00:00</td>\n",
       "      <td>miércoles</td>\n",
       "      <td>10:00:00</td>\n",
       "      <td>11:00:00</td>\n",
       "      <td>1.0</td>\n",
       "      <td>Sin Información</td>\n",
       "      <td>Sin Información</td>\n",
       "    </tr>\n",
       "    <tr>\n",
       "      <th>2</th>\n",
       "      <td>2021-1</td>\n",
       "      <td>Realizada</td>\n",
       "      <td>Andres Fernando Montaña Fernandez</td>\n",
       "      <td>andresfe.montana@urosario.edu.co</td>\n",
       "      <td>Docente</td>\n",
       "      <td>Docente de Planta</td>\n",
       "      <td>Escuela de Administración</td>\n",
       "      <td>NO APLICA</td>\n",
       "      <td>Aprendizaje experiencial</td>\n",
       "      <td>Asesoría/capacitación</td>\n",
       "      <td>...</td>\n",
       "      <td>NO APLICA</td>\n",
       "      <td>NO</td>\n",
       "      <td>1.0</td>\n",
       "      <td>2021-01-21 00:00:00</td>\n",
       "      <td>jueves</td>\n",
       "      <td>17:00:00</td>\n",
       "      <td>17:30:00</td>\n",
       "      <td>0.5</td>\n",
       "      <td>Sin Información</td>\n",
       "      <td>Sin Información</td>\n",
       "    </tr>\n",
       "    <tr>\n",
       "      <th>3</th>\n",
       "      <td>2021-1</td>\n",
       "      <td>Realizada</td>\n",
       "      <td>Andres Fernando Montaña Fernandez</td>\n",
       "      <td>andresfe.montana@urosario.edu.co</td>\n",
       "      <td>Docente</td>\n",
       "      <td>Docente de Planta</td>\n",
       "      <td>Escuela de Administración</td>\n",
       "      <td>NO APLICA</td>\n",
       "      <td>Aprendizaje experiencial</td>\n",
       "      <td>Asesoría/capacitación</td>\n",
       "      <td>...</td>\n",
       "      <td>NO APLICA</td>\n",
       "      <td>NO</td>\n",
       "      <td>1.0</td>\n",
       "      <td>2021-01-21 00:00:00</td>\n",
       "      <td>jueves</td>\n",
       "      <td>14:00:00</td>\n",
       "      <td>14:30:00</td>\n",
       "      <td>0.5</td>\n",
       "      <td>Sin Información</td>\n",
       "      <td>Sin Información</td>\n",
       "    </tr>\n",
       "    <tr>\n",
       "      <th>4</th>\n",
       "      <td>2021-1</td>\n",
       "      <td>Realizada</td>\n",
       "      <td>Andres Fernando Montaña Fernandez</td>\n",
       "      <td>andresfe.montana@urosario.edu.co</td>\n",
       "      <td>Docente</td>\n",
       "      <td>Docente de Planta</td>\n",
       "      <td>Escuela de Administración</td>\n",
       "      <td>NO APLICA</td>\n",
       "      <td>Aprendizaje experiencial</td>\n",
       "      <td>Asesoría/capacitación</td>\n",
       "      <td>...</td>\n",
       "      <td>NO APLICA</td>\n",
       "      <td>NO</td>\n",
       "      <td>1.0</td>\n",
       "      <td>2021-01-21 00:00:00</td>\n",
       "      <td>jueves</td>\n",
       "      <td>12:00:00</td>\n",
       "      <td>13:00:00</td>\n",
       "      <td>1.0</td>\n",
       "      <td>Sin Información</td>\n",
       "      <td>Sin Información</td>\n",
       "    </tr>\n",
       "    <tr>\n",
       "      <th>...</th>\n",
       "      <td>...</td>\n",
       "      <td>...</td>\n",
       "      <td>...</td>\n",
       "      <td>...</td>\n",
       "      <td>...</td>\n",
       "      <td>...</td>\n",
       "      <td>...</td>\n",
       "      <td>...</td>\n",
       "      <td>...</td>\n",
       "      <td>...</td>\n",
       "      <td>...</td>\n",
       "      <td>...</td>\n",
       "      <td>...</td>\n",
       "      <td>...</td>\n",
       "      <td>...</td>\n",
       "      <td>...</td>\n",
       "      <td>...</td>\n",
       "      <td>...</td>\n",
       "      <td>...</td>\n",
       "      <td>...</td>\n",
       "      <td>...</td>\n",
       "    </tr>\n",
       "    <tr>\n",
       "      <th>545</th>\n",
       "      <td>2021-2</td>\n",
       "      <td>Realizada</td>\n",
       "      <td>Angélica Duque</td>\n",
       "      <td>angelical.duque@urosario.edu.co</td>\n",
       "      <td>Docente</td>\n",
       "      <td>Docente Hora Cátedra</td>\n",
       "      <td>Escuela de Administración</td>\n",
       "      <td>Administración de Negocios Internacionales</td>\n",
       "      <td>Aprendizaje experiencial</td>\n",
       "      <td>Preg - classroom lab</td>\n",
       "      <td>...</td>\n",
       "      <td>Sin Información</td>\n",
       "      <td>Sin Información</td>\n",
       "      <td>16.0</td>\n",
       "      <td>2021-09-08 00:00:00</td>\n",
       "      <td>Sin Información</td>\n",
       "      <td>07:00:00</td>\n",
       "      <td>09:00:00</td>\n",
       "      <td>2.0</td>\n",
       "      <td>Sin Información</td>\n",
       "      <td>NO APLICA</td>\n",
       "    </tr>\n",
       "    <tr>\n",
       "      <th>546</th>\n",
       "      <td>2021-2</td>\n",
       "      <td>Realizada</td>\n",
       "      <td>Samuel Espinal</td>\n",
       "      <td>samuel.espinal@urosario.edu.co</td>\n",
       "      <td>Funcionario</td>\n",
       "      <td>Funcionario UR</td>\n",
       "      <td>Escuela de Administración</td>\n",
       "      <td>GSB</td>\n",
       "      <td>Otras actividades</td>\n",
       "      <td>Reunión</td>\n",
       "      <td>...</td>\n",
       "      <td>Sin Información</td>\n",
       "      <td>Sin Información</td>\n",
       "      <td>1.0</td>\n",
       "      <td>2021-09-08 00:00:00</td>\n",
       "      <td>Sin Información</td>\n",
       "      <td>08:00:00</td>\n",
       "      <td>11:00:00</td>\n",
       "      <td>3.0</td>\n",
       "      <td>Sin Información</td>\n",
       "      <td>NO APLICA</td>\n",
       "    </tr>\n",
       "    <tr>\n",
       "      <th>547</th>\n",
       "      <td>2021-2</td>\n",
       "      <td>Realizada</td>\n",
       "      <td>Samuel Espinal</td>\n",
       "      <td>samuel.espinal@urosario.edu.co</td>\n",
       "      <td>Funcionario</td>\n",
       "      <td>Funcionario UR</td>\n",
       "      <td>Escuela de Administración</td>\n",
       "      <td>GSB</td>\n",
       "      <td>Otras actividades</td>\n",
       "      <td>Reunión</td>\n",
       "      <td>...</td>\n",
       "      <td>Sin Información</td>\n",
       "      <td>Sin Información</td>\n",
       "      <td>Sin Información</td>\n",
       "      <td>Sin Información</td>\n",
       "      <td>Sin Información</td>\n",
       "      <td>Sin Información</td>\n",
       "      <td>Sin Información</td>\n",
       "      <td>Sin Información</td>\n",
       "      <td>Sin Información</td>\n",
       "      <td>Sin Información</td>\n",
       "    </tr>\n",
       "    <tr>\n",
       "      <th>548</th>\n",
       "      <td>2021-2</td>\n",
       "      <td>Realizada</td>\n",
       "      <td>Maria Tamayo</td>\n",
       "      <td>maira.tamayo@urosario.edu.co</td>\n",
       "      <td>Funcionario</td>\n",
       "      <td>Funcionario UR</td>\n",
       "      <td>Escuela de Administración</td>\n",
       "      <td>NO APLICA</td>\n",
       "      <td>Experiencia internos</td>\n",
       "      <td>Open lab</td>\n",
       "      <td>...</td>\n",
       "      <td>Sin Información</td>\n",
       "      <td>Sin Información</td>\n",
       "      <td>3.0</td>\n",
       "      <td>lunes, 23 de agosto de 2021</td>\n",
       "      <td>Sin Información</td>\n",
       "      <td>08:00:00</td>\n",
       "      <td>09:00:00</td>\n",
       "      <td>1.0</td>\n",
       "      <td>Sin Información</td>\n",
       "      <td>NO APLICA</td>\n",
       "    </tr>\n",
       "    <tr>\n",
       "      <th>549</th>\n",
       "      <td>2021-2</td>\n",
       "      <td>Realizada</td>\n",
       "      <td>Julian Gutierrez</td>\n",
       "      <td>julian.jegr@gmail.com</td>\n",
       "      <td>Docente</td>\n",
       "      <td>Docente Hora Cátedra</td>\n",
       "      <td>UR Emprende</td>\n",
       "      <td>NO APLICA</td>\n",
       "      <td>Aprendizaje experiencial</td>\n",
       "      <td>Preg - classroom lab</td>\n",
       "      <td>...</td>\n",
       "      <td>Sin Información</td>\n",
       "      <td>Sin Información</td>\n",
       "      <td>25.0</td>\n",
       "      <td>viernes, 27 de agosto de 2021</td>\n",
       "      <td>Sin Información</td>\n",
       "      <td>12:00:00</td>\n",
       "      <td>14:00:00</td>\n",
       "      <td>2.0</td>\n",
       "      <td>Sin Información</td>\n",
       "      <td>NO APLICA</td>\n",
       "    </tr>\n",
       "  </tbody>\n",
       "</table>\n",
       "<p>550 rows × 32 columns</p>\n",
       "</div>"
      ],
      "text/plain": [
       "    Semestre Estado de la actividad                Nombres y Apellidos  \\\n",
       "0     2021-1              Realizada  Andres Fernando Montaña Fernandez   \n",
       "1     2021-1              Realizada  Andres Fernando Montaña Fernandez   \n",
       "2     2021-1              Realizada  Andres Fernando Montaña Fernandez   \n",
       "3     2021-1              Realizada  Andres Fernando Montaña Fernandez   \n",
       "4     2021-1              Realizada  Andres Fernando Montaña Fernandez   \n",
       "..       ...                    ...                                ...   \n",
       "545   2021-2              Realizada                    Angélica Duque    \n",
       "546   2021-2              Realizada                     Samuel Espinal   \n",
       "547   2021-2              Realizada                     Samuel Espinal   \n",
       "548   2021-2              Realizada                      Maria Tamayo    \n",
       "549   2021-2              Realizada                   Julian Gutierrez   \n",
       "\n",
       "                   Correo electrónico Tipo de usuario (GENERAL)  \\\n",
       "0    andresfe.montana@urosario.edu.co                   Docente   \n",
       "1    andresfe.montana@urosario.edu.co                   Docente   \n",
       "2    andresfe.montana@urosario.edu.co                   Docente   \n",
       "3    andresfe.montana@urosario.edu.co                   Docente   \n",
       "4    andresfe.montana@urosario.edu.co                   Docente   \n",
       "..                                ...                       ...   \n",
       "545   angelical.duque@urosario.edu.co                   Docente   \n",
       "546    samuel.espinal@urosario.edu.co               Funcionario   \n",
       "547    samuel.espinal@urosario.edu.co               Funcionario   \n",
       "548     maira.tamayo@urosario.edu.co                Funcionario   \n",
       "549             julian.jegr@gmail.com                   Docente   \n",
       "\n",
       "    Tipo de usuario (ESPECÍFICO) Escuela/Facultad/Dependencia  \\\n",
       "0              Docente de Planta    Escuela de Administración   \n",
       "1              Docente de Planta    Escuela de Administración   \n",
       "2              Docente de Planta    Escuela de Administración   \n",
       "3              Docente de Planta    Escuela de Administración   \n",
       "4              Docente de Planta    Escuela de Administración   \n",
       "..                           ...                          ...   \n",
       "545        Docente Hora Cátedra    Escuela de Administración    \n",
       "546              Funcionario UR    Escuela de Administración    \n",
       "547              Funcionario UR    Escuela de Administración    \n",
       "548              Funcionario UR     Escuela de Administración   \n",
       "549        Docente Hora Cátedra                   UR Emprende   \n",
       "\n",
       "                             Programa académico Tipo de actividad (GENERAL)  \\\n",
       "0                                     NO APLICA    Aprendizaje experiencial   \n",
       "1                                     NO APLICA    Aprendizaje experiencial   \n",
       "2                                     NO APLICA    Aprendizaje experiencial   \n",
       "3                                     NO APLICA    Aprendizaje experiencial   \n",
       "4                                     NO APLICA    Aprendizaje experiencial   \n",
       "..                                          ...                         ...   \n",
       "545  Administración de Negocios Internacionales    Aprendizaje experiencial   \n",
       "546                                         GSB           Otras actividades   \n",
       "547                                         GSB           Otras actividades   \n",
       "548                                  NO APLICA         Experiencia internos   \n",
       "549                                  NO APLICA     Aprendizaje experiencial   \n",
       "\n",
       "    Tipo de actividad (ESPECIFICA)  ... # Licencias (Bloomberg)  \\\n",
       "0            Asesoría/capacitación  ...               NO APLICA   \n",
       "1            Asesoría/capacitación  ...               NO APLICA   \n",
       "2            Asesoría/capacitación  ...               NO APLICA   \n",
       "3            Asesoría/capacitación  ...               NO APLICA   \n",
       "4            Asesoría/capacitación  ...               NO APLICA   \n",
       "..                             ...  ...                     ...   \n",
       "545           Preg - classroom lab  ...         Sin Información   \n",
       "546                        Reunión  ...         Sin Información   \n",
       "547                        Reunión  ...         Sin Información   \n",
       "548                       Open lab  ...         Sin Información   \n",
       "549           Preg - classroom lab  ...         Sin Información   \n",
       "\n",
       "    Grabar Sesión (Camara Gesell)  # Participantes  \\\n",
       "0                              NO              1.0   \n",
       "1                              NO              1.0   \n",
       "2                              NO              1.0   \n",
       "3                              NO              1.0   \n",
       "4                              NO              1.0   \n",
       "..                            ...              ...   \n",
       "545               Sin Información             16.0   \n",
       "546               Sin Información              1.0   \n",
       "547               Sin Información  Sin Información   \n",
       "548               Sin Información              3.0   \n",
       "549               Sin Información             25.0   \n",
       "\n",
       "             Fecha de la actividad              Día Horario de Inicio  \\\n",
       "0              2021-01-20 00:00:00        miércoles          14:00:00   \n",
       "1              2021-01-20 00:00:00        miércoles          10:00:00   \n",
       "2              2021-01-21 00:00:00           jueves          17:00:00   \n",
       "3              2021-01-21 00:00:00           jueves          14:00:00   \n",
       "4              2021-01-21 00:00:00           jueves          12:00:00   \n",
       "..                             ...              ...               ...   \n",
       "545            2021-09-08 00:00:00  Sin Información          07:00:00   \n",
       "546            2021-09-08 00:00:00  Sin Información          08:00:00   \n",
       "547                Sin Información  Sin Información   Sin Información   \n",
       "548    lunes, 23 de agosto de 2021  Sin Información          08:00:00   \n",
       "549  viernes, 27 de agosto de 2021  Sin Información          12:00:00   \n",
       "\n",
       "    Horario de Finalización Cantidad de horas Motivo cancelación  \\\n",
       "0                  14:30:00               0.5    Sin Información   \n",
       "1                  11:00:00               1.0    Sin Información   \n",
       "2                  17:30:00               0.5    Sin Información   \n",
       "3                  14:30:00               0.5    Sin Información   \n",
       "4                  13:00:00               1.0    Sin Información   \n",
       "..                      ...               ...                ...   \n",
       "545                09:00:00               2.0    Sin Información   \n",
       "546                11:00:00               3.0    Sin Información   \n",
       "547         Sin Información   Sin Información    Sin Información   \n",
       "548                09:00:00               1.0    Sin Información   \n",
       "549                14:00:00               2.0    Sin Información   \n",
       "\n",
       "    Otro requerimiento  \n",
       "0      Sin Información  \n",
       "1      Sin Información  \n",
       "2      Sin Información  \n",
       "3      Sin Información  \n",
       "4      Sin Información  \n",
       "..                 ...  \n",
       "545          NO APLICA  \n",
       "546          NO APLICA  \n",
       "547    Sin Información  \n",
       "548          NO APLICA  \n",
       "549          NO APLICA  \n",
       "\n",
       "[550 rows x 32 columns]"
      ]
     },
     "execution_count": 53,
     "metadata": {},
     "output_type": "execute_result"
    }
   ],
   "source": [
    "Laboratorios_3"
   ]
  },
  {
   "cell_type": "markdown",
   "metadata": {},
   "source": [
    "# 5. Generar nuestra nueva Base de Datos"
   ]
  },
  {
   "cell_type": "code",
   "execution_count": 54,
   "metadata": {},
   "outputs": [],
   "source": [
    "Laboratorios_3.to_excel(\"../../../Data/Laboratorios/Laboratorios.xlsx\",index=False,sheet_name=\"CONSOLIDADO\")"
   ]
  }
 ],
 "metadata": {
  "deepnote": {
   "is_reactive": false
  },
  "deepnote_execution_queue": [],
  "deepnote_notebook_id": "35bfd3de-b264-4aae-b545-3c95a07eb79a",
  "kernelspec": {
   "display_name": "Python 3",
   "language": "python",
   "name": "python3"
  },
  "language_info": {
   "codemirror_mode": {
    "name": "ipython",
    "version": 3
   },
   "file_extension": ".py",
   "mimetype": "text/x-python",
   "name": "python",
   "nbconvert_exporter": "python",
   "pygments_lexer": "ipython3",
   "version": "3.8.8"
  }
 },
 "nbformat": 4,
 "nbformat_minor": 2
}
