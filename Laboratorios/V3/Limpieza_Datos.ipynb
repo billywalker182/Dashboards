{
 "cells": [
  {
   "cell_type": "markdown",
   "metadata": {},
   "source": [
    "# 1. Instalación Librerias"
   ]
  },
  {
   "cell_type": "code",
   "execution_count": 1,
   "metadata": {
    "cell_id": "00000-41d9d54d-9eae-4c94-a207-5852ee6fd930",
    "deepnote_cell_type": "code",
    "deepnote_to_be_reexecuted": false,
    "execution_millis": 5648,
    "execution_start": 1630344612330,
    "source_hash": "186ac3c0",
    "tags": []
   },
   "outputs": [],
   "source": [
    "#!pip install xlrd\n",
    "#!pip install openpyxl"
   ]
  },
  {
   "cell_type": "markdown",
   "metadata": {},
   "source": [
    "# 2. Importar Librerias"
   ]
  },
  {
   "cell_type": "code",
   "execution_count": 2,
   "metadata": {},
   "outputs": [],
   "source": [
    "import pandas as pd\n",
    "from datetime import date, time, datetime\n",
    "import numpy as np"
   ]
  },
  {
   "cell_type": "markdown",
   "metadata": {},
   "source": [
    "## 2.1 Funciones"
   ]
  },
  {
   "cell_type": "code",
   "execution_count": 3,
   "metadata": {},
   "outputs": [],
   "source": [
    "# agregar actualizaciones a los dataframe\n",
    "def actualizacion(longitud):\n",
    "    now = str(datetime.now()).split(\".\")\n",
    "    now = now[0]\n",
    "    #now = now.replace(\":\",\"_\")\n",
    "    return [now]*longitud"
   ]
  },
  {
   "cell_type": "markdown",
   "metadata": {},
   "source": [
    "# 3. Cargar Registro Actividades URSTeam"
   ]
  },
  {
   "cell_type": "code",
   "execution_count": 4,
   "metadata": {},
   "outputs": [],
   "source": [
    "Ruta_pc_ursteam = \"C:/Users/jhone.cruz/Universidad del rosario/Cristian David Martinez Cuervo - idea blab/Gestión Laboratorios/Registros de Actividades/\"\n",
    "Ruta_cris_ursteam = \"//ntf91746/Users/cristianda.martinez/OneDrive - Universidad del rosario/idea blab/Gestión Laboratorios/Registros de Actividades/\"\n",
    "Ruta_casa_ursteam = \"../../../Data/Laboratorios/\""
   ]
  },
  {
   "cell_type": "code",
   "execution_count": 5,
   "metadata": {
    "cell_id": "00001-e4799119-7c66-402a-9870-4d1c353aed16",
    "deepnote_cell_type": "code",
    "deepnote_to_be_reexecuted": false,
    "execution_millis": 1094,
    "execution_start": 1630344617985,
    "source_hash": "57a0cbb",
    "tags": []
   },
   "outputs": [
    {
     "name": "stderr",
     "output_type": "stream",
     "text": [
      "C:\\Users\\jhone.cruz\\Anaconda3\\lib\\site-packages\\openpyxl\\worksheet\\_reader.py:312: UserWarning: Data Validation extension is not supported and will be removed\n",
      "  warn(msg)\n"
     ]
    },
    {
     "data": {
      "text/plain": [
       "(722, 31)"
      ]
     },
     "execution_count": 5,
     "metadata": {},
     "output_type": "execute_result"
    }
   ],
   "source": [
    "# Desde La Casa\n",
    "#df_ursteam = pd.read_excel(Ruta_casa_ursteam+\"Registro de Actividades BLAB 2021.xlsx\")\n",
    "\n",
    "# Desde la Universidad - Cristian\n",
    "df_ursteam = pd.read_excel(Ruta_cris_ursteam+\"Registro de Actividades BLAB 2021.xlsx\")\n",
    "\n",
    "# Desde La universidad - Pc\n",
    "#df_ursteam = pd.read_excel(Ruta_pc_ursteam+\"Registro de Actividades BLAB 2021.xlsx\")\n",
    "\n",
    "df_ursteam.shape"
   ]
  },
  {
   "cell_type": "code",
   "execution_count": 6,
   "metadata": {},
   "outputs": [
    {
     "data": {
      "text/plain": [
       "['Semestre', 'Estado de la actividad', 'Nombres y Apellidos']"
      ]
     },
     "execution_count": 6,
     "metadata": {},
     "output_type": "execute_result"
    }
   ],
   "source": [
    "df_ursteam.columns.tolist()[:3]"
   ]
  },
  {
   "cell_type": "markdown",
   "metadata": {},
   "source": [
    "# 4. Cargar Registro Actividades UREmprende"
   ]
  },
  {
   "cell_type": "code",
   "execution_count": 7,
   "metadata": {},
   "outputs": [],
   "source": [
    "Ruta_pc_uremprende = \"C:/Users/jhone.cruz/Universidad del rosario/Maria Camila Alvarez Celis - LABS/\"\n",
    "Ruta_casa_uremprende = \"../../../Data/Laboratorios/\""
   ]
  },
  {
   "cell_type": "code",
   "execution_count": 8,
   "metadata": {
    "cell_id": "00002-25606bdc-1a71-41b8-a839-61bbd658925f",
    "deepnote_cell_type": "code",
    "deepnote_to_be_reexecuted": false,
    "execution_millis": 783,
    "execution_start": 1630344619073,
    "source_hash": "7b2c0db5",
    "tags": []
   },
   "outputs": [
    {
     "data": {
      "text/plain": [
       "(414, 28)"
      ]
     },
     "execution_count": 8,
     "metadata": {},
     "output_type": "execute_result"
    }
   ],
   "source": [
    "df_uremprende = pd.read_excel(Ruta_pc_uremprende+\"Registro de Actividades UR EMPRENDE FIN.xlsx\")\n",
    "#df_uremprende = pd.read_excel(Ruta_casa_uremprende+\"Registro de Actividades UR EMPRENDE FIN.xlsx\")\n",
    "df_uremprende.shape"
   ]
  },
  {
   "cell_type": "code",
   "execution_count": 9,
   "metadata": {},
   "outputs": [
    {
     "data": {
      "text/plain": [
       "['Semetre', 'Estado de la actividad', 'Nombres y Apellidos']"
      ]
     },
     "execution_count": 9,
     "metadata": {},
     "output_type": "execute_result"
    }
   ],
   "source": [
    "df_uremprende.columns.tolist()[:3]"
   ]
  },
  {
   "cell_type": "code",
   "execution_count": 10,
   "metadata": {},
   "outputs": [
    {
     "data": {
      "text/plain": [
       "['Semestre', 'Estado de la actividad', 'Nombres y Apellidos']"
      ]
     },
     "execution_count": 10,
     "metadata": {},
     "output_type": "execute_result"
    }
   ],
   "source": [
    "df_uremprende.rename(columns={ 'Semetre': 'Semestre',\n",
    "                              'Horario de Finalizacion': 'Horario de Finalización'},\n",
    "                     inplace = True)\n",
    "\n",
    "df_uremprende.columns.tolist()[:3]"
   ]
  },
  {
   "cell_type": "code",
   "execution_count": 11,
   "metadata": {},
   "outputs": [
    {
     "data": {
      "text/plain": [
       "(414, 28)"
      ]
     },
     "execution_count": 11,
     "metadata": {},
     "output_type": "execute_result"
    }
   ],
   "source": [
    "df_uremprende.shape"
   ]
  },
  {
   "cell_type": "markdown",
   "metadata": {},
   "source": [
    "# 5. Limpieza de Datos y Preparación de Datos\n",
    "\n",
    "* Concatenar URSteam y UREmprende\n",
    "* Borar Las Filas vacias\n",
    "* Eliminar index para generar un nuevo archivo excel\n",
    "* Rellenar con 00:00:00 las columnas de Horario de Finalización y Horario de Inicio\n",
    "* Rellenar los campos vacios con \"Sin Información\"\n",
    "* Colocar en minuscula todo la columna de Estado de la Actividad\n",
    "* Limpiar columna de Tipo de Ocupación\n",
    "* Limpiar columna de Laboratorios"
   ]
  },
  {
   "cell_type": "code",
   "execution_count": 12,
   "metadata": {
    "cell_id": "00002-b6ab8900-649c-43b5-83ad-91df84b9dfeb",
    "deepnote_cell_type": "code",
    "deepnote_to_be_reexecuted": false,
    "execution_millis": 319,
    "execution_start": 1630355372110,
    "source_hash": "a56e893d",
    "tags": []
   },
   "outputs": [],
   "source": [
    "Laboratorios_a = pd.concat([df_ursteam,df_uremprende])"
   ]
  },
  {
   "cell_type": "code",
   "execution_count": 13,
   "metadata": {},
   "outputs": [
    {
     "data": {
      "text/plain": [
       "(1136, 32)"
      ]
     },
     "execution_count": 13,
     "metadata": {},
     "output_type": "execute_result"
    }
   ],
   "source": [
    "Laboratorios_a.shape"
   ]
  },
  {
   "cell_type": "code",
   "execution_count": 14,
   "metadata": {},
   "outputs": [
    {
     "data": {
      "text/plain": [
       "['Semestre', 'Estado de la actividad', 'Nombres y Apellidos']"
      ]
     },
     "execution_count": 14,
     "metadata": {},
     "output_type": "execute_result"
    }
   ],
   "source": [
    "Laboratorios_a.columns.tolist()[:3]"
   ]
  },
  {
   "cell_type": "markdown",
   "metadata": {},
   "source": [
    "# Limpiar Columna Semestre"
   ]
  },
  {
   "cell_type": "code",
   "execution_count": 15,
   "metadata": {},
   "outputs": [
    {
     "data": {
      "text/plain": [
       "array(['2021-1', '2021-2'], dtype=object)"
      ]
     },
     "execution_count": 15,
     "metadata": {},
     "output_type": "execute_result"
    }
   ],
   "source": [
    "Laboratorios_a[\"Semestre\"].unique()"
   ]
  },
  {
   "cell_type": "code",
   "execution_count": 16,
   "metadata": {},
   "outputs": [],
   "source": [
    "Laboratorios = Laboratorios_a.copy()"
   ]
  },
  {
   "cell_type": "code",
   "execution_count": 17,
   "metadata": {},
   "outputs": [],
   "source": [
    "#Laboratorios_a[Laboratorios_a['Semestre'].isnull()]"
   ]
  },
  {
   "cell_type": "code",
   "execution_count": 18,
   "metadata": {},
   "outputs": [],
   "source": [
    "#Laboratorios = Laboratorios_a.drop(Laboratorios_a.index[[310]]).copy()"
   ]
  },
  {
   "cell_type": "code",
   "execution_count": 19,
   "metadata": {},
   "outputs": [],
   "source": [
    "#Laboratorios[\"Semestre\"].replace({2.0:\"2021-2\"},inplace=True)\n",
    "#Laboratorios[\"Semestre\"].fillna(\"2021-2\",inplace=True)"
   ]
  },
  {
   "cell_type": "code",
   "execution_count": 20,
   "metadata": {},
   "outputs": [],
   "source": [
    "#Laboratorios[Laboratorios['Semestre'].isnull()]"
   ]
  },
  {
   "cell_type": "code",
   "execution_count": 21,
   "metadata": {},
   "outputs": [],
   "source": [
    "#Laboratorios = Laboratorios_a.copy()"
   ]
  },
  {
   "cell_type": "markdown",
   "metadata": {},
   "source": [
    "# Limpiar Columna Estado de la Actividad"
   ]
  },
  {
   "cell_type": "code",
   "execution_count": 22,
   "metadata": {},
   "outputs": [
    {
     "data": {
      "text/plain": [
       "array(['realizada', 'cancelada', 'no realizada', 'agendada', 'Realizada'],\n",
       "      dtype=object)"
      ]
     },
     "execution_count": 22,
     "metadata": {},
     "output_type": "execute_result"
    }
   ],
   "source": [
    "Laboratorios['Estado de la actividad'].unique()"
   ]
  },
  {
   "cell_type": "code",
   "execution_count": 23,
   "metadata": {},
   "outputs": [],
   "source": [
    "Laboratorios[\"Estado de la actividad\"] = Laboratorios[\"Estado de la actividad\"].str.capitalize()"
   ]
  },
  {
   "cell_type": "code",
   "execution_count": 24,
   "metadata": {},
   "outputs": [
    {
     "data": {
      "text/plain": [
       "array(['Realizada', 'Cancelada', 'No realizada', 'Agendada'], dtype=object)"
      ]
     },
     "execution_count": 24,
     "metadata": {},
     "output_type": "execute_result"
    }
   ],
   "source": [
    "Laboratorios['Estado de la actividad'].unique()"
   ]
  },
  {
   "cell_type": "code",
   "execution_count": 25,
   "metadata": {},
   "outputs": [],
   "source": [
    "Laboratorios_1 = Laboratorios.copy()"
   ]
  },
  {
   "cell_type": "code",
   "execution_count": 26,
   "metadata": {},
   "outputs": [],
   "source": [
    "#Laboratorios[Laboratorios[\"Estado de la actividad\"].isnull()]"
   ]
  },
  {
   "cell_type": "code",
   "execution_count": 27,
   "metadata": {},
   "outputs": [],
   "source": [
    "#Laboratorios_1 = Laboratorios.drop(Laboratorios.index[[92,93,94]]).copy()"
   ]
  },
  {
   "cell_type": "markdown",
   "metadata": {},
   "source": [
    "# Limpiar Columna -> Tipo de Usuario General"
   ]
  },
  {
   "cell_type": "code",
   "execution_count": 28,
   "metadata": {},
   "outputs": [
    {
     "data": {
      "text/plain": [
       "array(['Docente', 'Funcionario', 'Estudiante', 'Estudiante ', 'Egresado '],\n",
       "      dtype=object)"
      ]
     },
     "execution_count": 28,
     "metadata": {},
     "output_type": "execute_result"
    }
   ],
   "source": [
    "Laboratorios_1['Tipo de usuario (GENERAL)'].unique()"
   ]
  },
  {
   "cell_type": "code",
   "execution_count": 29,
   "metadata": {},
   "outputs": [],
   "source": [
    "Laboratorios_1['Tipo de usuario (GENERAL)'] = Laboratorios_1['Tipo de usuario (GENERAL)'].str.rstrip()"
   ]
  },
  {
   "cell_type": "code",
   "execution_count": 30,
   "metadata": {},
   "outputs": [
    {
     "data": {
      "text/plain": [
       "array(['Docente', 'Funcionario', 'Estudiante', 'Egresado'], dtype=object)"
      ]
     },
     "execution_count": 30,
     "metadata": {},
     "output_type": "execute_result"
    }
   ],
   "source": [
    "Laboratorios_1['Tipo de usuario (GENERAL)'].unique()"
   ]
  },
  {
   "cell_type": "code",
   "execution_count": 31,
   "metadata": {},
   "outputs": [],
   "source": [
    "Laboratorios_2 = Laboratorios_1.copy()"
   ]
  },
  {
   "cell_type": "code",
   "execution_count": 32,
   "metadata": {},
   "outputs": [],
   "source": [
    "#Laboratorios_1[Laboratorios_1['Tipo de usuario (GENERAL)'].isnull()]"
   ]
  },
  {
   "cell_type": "code",
   "execution_count": 33,
   "metadata": {},
   "outputs": [],
   "source": [
    "#Laboratorios_2 = Laboratorios_1.drop(Laboratorios.index[[221]]).copy()"
   ]
  },
  {
   "cell_type": "code",
   "execution_count": 34,
   "metadata": {},
   "outputs": [],
   "source": [
    "#Laboratorios_2['Tipo de usuario (GENERAL)'].unique()"
   ]
  },
  {
   "cell_type": "code",
   "execution_count": 35,
   "metadata": {},
   "outputs": [],
   "source": [
    "#Laboratorios_2['Tipo de usuario (GENERAL)'].replace({'Funcionario UR':'Funcionario','Docente de Planta':\"Docente\",\n",
    "                                                  #'Docente H. Catedra':\"Docente\",'Docente UR':\"Docente\"},inplace=True)"
   ]
  },
  {
   "cell_type": "code",
   "execution_count": 36,
   "metadata": {},
   "outputs": [],
   "source": [
    "#Laboratorios_2['Tipo de usuario (GENERAL)'].unique()"
   ]
  },
  {
   "cell_type": "markdown",
   "metadata": {},
   "source": [
    "# Limpiar Columna -> Tipo de actividad (GENERAL)"
   ]
  },
  {
   "cell_type": "code",
   "execution_count": 37,
   "metadata": {},
   "outputs": [
    {
     "data": {
      "text/plain": [
       "array(['Aprendizaje experiencial', 'Experiencia empresarios',\n",
       "       'Master Class B+LAB', 'Otras actividades', 'Experiencia internos',\n",
       "       'Investigación', 'Experiencia internos ',\n",
       "       'Aprendizaje experiencial ', 'Emprendedores ', 'UR Emprende '],\n",
       "      dtype=object)"
      ]
     },
     "execution_count": 37,
     "metadata": {},
     "output_type": "execute_result"
    }
   ],
   "source": [
    "Laboratorios_2['Tipo de actividad (GENERAL)'].unique()"
   ]
  },
  {
   "cell_type": "code",
   "execution_count": 38,
   "metadata": {},
   "outputs": [],
   "source": [
    "Laboratorios_2['Tipo de actividad (GENERAL)'] = Laboratorios_2['Tipo de actividad (GENERAL)'].str.rstrip()\n",
    "Laboratorios_2['Tipo de actividad (GENERAL)'] = Laboratorios_2['Tipo de actividad (GENERAL)'].str.capitalize()"
   ]
  },
  {
   "cell_type": "code",
   "execution_count": 39,
   "metadata": {},
   "outputs": [
    {
     "data": {
      "text/plain": [
       "array(['Aprendizaje experiencial', 'Experiencia empresarios',\n",
       "       'Master class b+lab', 'Otras actividades', 'Experiencia internos',\n",
       "       'Investigación', 'Emprendedores', 'Ur emprende'], dtype=object)"
      ]
     },
     "execution_count": 39,
     "metadata": {},
     "output_type": "execute_result"
    }
   ],
   "source": [
    "Laboratorios_2['Tipo de actividad (GENERAL)'].unique()"
   ]
  },
  {
   "cell_type": "code",
   "execution_count": 40,
   "metadata": {},
   "outputs": [],
   "source": [
    "Laboratorios_3 = Laboratorios_2.copy()"
   ]
  },
  {
   "cell_type": "code",
   "execution_count": 41,
   "metadata": {},
   "outputs": [],
   "source": [
    "#Laboratorios_2[Laboratorios_2['Tipo de actividad (GENERAL)'].isnull()]"
   ]
  },
  {
   "cell_type": "code",
   "execution_count": 42,
   "metadata": {},
   "outputs": [],
   "source": [
    "#Laboratorios_Limpio3 = Laboratorios_Limpio.drop(Laboratorios_Limpio.index[[63]]).copy()"
   ]
  },
  {
   "cell_type": "code",
   "execution_count": 43,
   "metadata": {},
   "outputs": [],
   "source": [
    "#Laboratorios_3['Tipo de actividad (GENERAL)'].replace({'Recorridos b+lab':\"Recorridos\",\n",
    "                                                       #'Recorridos ur steam ':\"Recorridos\"},inplace=True)"
   ]
  },
  {
   "cell_type": "code",
   "execution_count": 44,
   "metadata": {},
   "outputs": [],
   "source": [
    "#Laboratorios_3['Tipo de actividad (GENERAL)'].unique()"
   ]
  },
  {
   "cell_type": "markdown",
   "metadata": {},
   "source": [
    "# Limpiar Columna -> Tipo de actividad (ESPECIFICA)"
   ]
  },
  {
   "cell_type": "code",
   "execution_count": 45,
   "metadata": {},
   "outputs": [
    {
     "data": {
      "text/plain": [
       "array(['Asesoría/Capacitación', 'POSG - Classroom LAB', 'Open lab',\n",
       "       'PREG - Classroom LAB', 'B+lab- Virtual idea b+lab',\n",
       "       'Recorrido lab', 'Reunión', 'Experience lab',\n",
       "       'PREG - aprendizaje autónomo', 'UR B+lab Business Week',\n",
       "       'Investigación- Actividad investigación', 'Otras actividades',\n",
       "       'Living lab', 'Admisiones UR', 'Living Lab', 'Open Lab',\n",
       "       'Experience Lab', 'PREG - Aprendizaje autónomo',\n",
       "       'Asesorias/Capacitación Herramientas', 'Incubadora UR ', 'Sofá ',\n",
       "       'Talleres Labs UR Emprende', 'Prototipado ', 'Planeación ',\n",
       "       'Experiencial'], dtype=object)"
      ]
     },
     "execution_count": 45,
     "metadata": {},
     "output_type": "execute_result"
    }
   ],
   "source": [
    "Laboratorios_3[\"Tipo de actividad (ESPECIFICA)\"].unique()"
   ]
  },
  {
   "cell_type": "code",
   "execution_count": 46,
   "metadata": {},
   "outputs": [],
   "source": [
    "Laboratorios_3[\"Tipo de actividad (ESPECIFICA)\"] = Laboratorios_3[\"Tipo de actividad (ESPECIFICA)\"].str.rstrip()\n",
    "Laboratorios_3[\"Tipo de actividad (ESPECIFICA)\"] = Laboratorios_3[\"Tipo de actividad (ESPECIFICA)\"].str.capitalize()"
   ]
  },
  {
   "cell_type": "code",
   "execution_count": 47,
   "metadata": {},
   "outputs": [
    {
     "data": {
      "text/plain": [
       "array(['Asesoría/capacitación', 'Posg - classroom lab', 'Open lab',\n",
       "       'Preg - classroom lab', 'B+lab- virtual idea b+lab',\n",
       "       'Recorrido lab', 'Reunión', 'Experience lab',\n",
       "       'Preg - aprendizaje autónomo', 'Ur b+lab business week',\n",
       "       'Investigación- actividad investigación', 'Otras actividades',\n",
       "       'Living lab', 'Admisiones ur',\n",
       "       'Asesorias/capacitación herramientas', 'Incubadora ur', 'Sofá',\n",
       "       'Talleres labs ur emprende', 'Prototipado', 'Planeación',\n",
       "       'Experiencial'], dtype=object)"
      ]
     },
     "execution_count": 47,
     "metadata": {},
     "output_type": "execute_result"
    }
   ],
   "source": [
    "Laboratorios_3[\"Tipo de actividad (ESPECIFICA)\"].unique()"
   ]
  },
  {
   "cell_type": "code",
   "execution_count": 48,
   "metadata": {},
   "outputs": [],
   "source": [
    "Laboratorios_3[\"Tipo de actividad (ESPECIFICA)\"].replace({'Asesorias/capacitación herramientas':'Asesoría/capacitación'},\n",
    "                                          #'EMPRESARIAL ':\"Empresarial\",'OTRO ':\"Otro\"},\n",
    "                                                          inplace=True)"
   ]
  },
  {
   "cell_type": "code",
   "execution_count": 49,
   "metadata": {},
   "outputs": [
    {
     "data": {
      "text/plain": [
       "array(['Asesoría/capacitación', 'Posg - classroom lab', 'Open lab',\n",
       "       'Preg - classroom lab', 'B+lab- virtual idea b+lab',\n",
       "       'Recorrido lab', 'Reunión', 'Experience lab',\n",
       "       'Preg - aprendizaje autónomo', 'Ur b+lab business week',\n",
       "       'Investigación- actividad investigación', 'Otras actividades',\n",
       "       'Living lab', 'Admisiones ur', 'Incubadora ur', 'Sofá',\n",
       "       'Talleres labs ur emprende', 'Prototipado', 'Planeación',\n",
       "       'Experiencial'], dtype=object)"
      ]
     },
     "execution_count": 49,
     "metadata": {},
     "output_type": "execute_result"
    }
   ],
   "source": [
    "Laboratorios_3[\"Tipo de actividad (ESPECIFICA)\"].unique()"
   ]
  },
  {
   "cell_type": "code",
   "execution_count": 50,
   "metadata": {},
   "outputs": [],
   "source": [
    "#Laboratorios_3[Laboratorios_3[\"Tipo de actividad (ESPECIFICA)\"].isnull()]"
   ]
  },
  {
   "cell_type": "markdown",
   "metadata": {},
   "source": [
    "# Limpieza Columna -> Tipo de Ocupación"
   ]
  },
  {
   "cell_type": "code",
   "execution_count": 51,
   "metadata": {},
   "outputs": [],
   "source": [
    "#Laboratorios_3['Tipo de ocupación'].replace({\"ACADÉMICA\":\"Academico\",\"EMPRESARIAL\":\"Empresarial\",\"OTRO\":\"Otro\",\n",
    "                                          #'EMPRESARIAL ':\"Empresarial\",'OTRO ':\"Otro\"},inplace=True)"
   ]
  },
  {
   "cell_type": "code",
   "execution_count": 52,
   "metadata": {},
   "outputs": [],
   "source": [
    "#Laboratorios_3['Tipo de ocupación'].unique()"
   ]
  },
  {
   "cell_type": "markdown",
   "metadata": {},
   "source": [
    "# Limpieza Columna -> Nombre del Invitado"
   ]
  },
  {
   "cell_type": "code",
   "execution_count": 53,
   "metadata": {},
   "outputs": [
    {
     "data": {
      "text/plain": [
       "array(['Universidad del Rosario', 'Informese', 'Super Ricas',\n",
       "       'Universidad San Francisco de Quito', 'Cámara de Comercio Huila',\n",
       "       'Universidad de Ibagué', 'Blu 4.0, Fedesoft', 'ASOCAPITALES',\n",
       "       'Corporación Universitaria Empresarial CUE- Alexander Von Humboldt',\n",
       "       'Cámara de Comercio de Bogotá', 'MINCIENCIAS', 'MINISO',\n",
       "       'COLSUBSIDIO', 'TELEPERFORMANCE', 'ANDI', 'A su Mesa',\n",
       "       'CES Medellín', 'FUNDACIÓN TEXMODAS', 'UNAB', 'EMBAJADA DE COREA',\n",
       "       'ICONTEC', 'ESCUELA DE GUERRA Y FUERZAS MILITARES', 'SAP',\n",
       "       'Universidad San Francisco de Quito ', 'Cámara de Comercio Huila ',\n",
       "       'Universidad de Ibague', 'Blu Radio',\n",
       "       'City University of New York', 'Asocapitales',\n",
       "       'CUE- Alexander Von Humboldt', 'Equipo Diego Camargo ',\n",
       "       'Estudiantes de clase ', 'INDUCCION ESCUELA DOCTORAL ', 'DPEI',\n",
       "       'Camara de Comercio Bogota', 'Egresados (Especializaciones)',\n",
       "       'FACREA', 'Estudiantes pregrado',\n",
       "       'Investigación e Innovación de la UR', 'Directivos medicina ',\n",
       "       'DMU ', 'Dirección de Egresados ',\n",
       "       'EQUIPO PRODUCTIVIDAD COLSUBSIDIO ', 'Thomas Rojas ', 'Fabrilab',\n",
       "       'Teleperformance ', 'Estudiantes UR', 'Colegiales ',\n",
       "       'Gestión humana ', 'Colsubsidio', 'Consejo Superior ', 'ANDI ',\n",
       "       'RESTAURANTE A SU MESA', 'CES ', 'UR Marketing', 'Texmodas',\n",
       "       'Regionalización ', 'Coorinación pregrado', 'Docentes ', 'GSB',\n",
       "       'UR STEAM', 'Colegios', 'Consejos ', 'Dirección académica', 'CCB',\n",
       "       'EMBAJADA DE KOREA', 'Aspirantes', 'CRAI'], dtype=object)"
      ]
     },
     "execution_count": 53,
     "metadata": {},
     "output_type": "execute_result"
    }
   ],
   "source": [
    "Laboratorios_3['Nombre de Invitado'].unique()"
   ]
  },
  {
   "cell_type": "code",
   "execution_count": 54,
   "metadata": {},
   "outputs": [
    {
     "data": {
      "text/plain": [
       "array(['Universidad del Rosario', 'Informese', 'Super Ricas',\n",
       "       'Universidad San Francisco de Quito', 'Cámara de Comercio Huila',\n",
       "       'Universidad de Ibagué', 'Blu 4.0, Fedesoft', 'ASOCAPITALES',\n",
       "       'Corporación Universitaria Empresarial CUE- Alexander Von Humboldt',\n",
       "       'Cámara de Comercio de Bogotá', 'MINCIENCIAS', 'MINISO',\n",
       "       'COLSUBSIDIO', 'TELEPERFORMANCE', 'ANDI', 'A su Mesa',\n",
       "       'CES Medellín', 'FUNDACIÓN TEXMODAS', 'UNAB', 'EMBAJADA DE COREA',\n",
       "       'ICONTEC', 'ESCUELA DE GUERRA Y FUERZAS MILITARES', 'SAP',\n",
       "       'Universidad de Ibague', 'Blu Radio',\n",
       "       'City University of New York', 'Asocapitales',\n",
       "       'CUE- Alexander Von Humboldt', 'Equipo Diego Camargo',\n",
       "       'Estudiantes de clase', 'INDUCCION ESCUELA DOCTORAL', 'DPEI',\n",
       "       'Camara de Comercio Bogota', 'Egresados (Especializaciones)',\n",
       "       'FACREA', 'Estudiantes pregrado',\n",
       "       'Investigación e Innovación de la UR', 'Directivos medicina',\n",
       "       'DMU', 'Dirección de Egresados',\n",
       "       'EQUIPO PRODUCTIVIDAD COLSUBSIDIO', 'Thomas Rojas', 'Fabrilab',\n",
       "       'Teleperformance', 'Estudiantes UR', 'Colegiales',\n",
       "       'Gestión humana', 'Colsubsidio', 'Consejo Superior',\n",
       "       'RESTAURANTE A SU MESA', 'CES', 'UR Marketing', 'Texmodas',\n",
       "       'Regionalización', 'Coorinación pregrado', 'Docentes', 'GSB',\n",
       "       'UR STEAM', 'Colegios', 'Consejos', 'Dirección académica', 'CCB',\n",
       "       'EMBAJADA DE KOREA', 'Aspirantes', 'CRAI'], dtype=object)"
      ]
     },
     "execution_count": 54,
     "metadata": {},
     "output_type": "execute_result"
    }
   ],
   "source": [
    "Laboratorios_3['Nombre de Invitado'] = Laboratorios_3['Nombre de Invitado'].str.rstrip()\n",
    "Laboratorios_3['Nombre de Invitado'].unique()"
   ]
  },
  {
   "cell_type": "code",
   "execution_count": 55,
   "metadata": {},
   "outputs": [],
   "source": [
    "Laboratorios_3['Nombre de Invitado'].replace({'Corporación Universitaria Empresarial CUE- Alexander Von Humboldt':\"CUE - Alexander Von Humboldt\",\n",
    "                                             'CUE- Alexander Von Humboldt':\"CUE - Alexander Von Humboldt\",\n",
    "                                             'Camara de Comercio Bogota':'Cámara de Comercio de Bogotá',},inplace=True)"
   ]
  },
  {
   "cell_type": "code",
   "execution_count": 56,
   "metadata": {},
   "outputs": [],
   "source": [
    "#Laboratorios_3[Laboratorios_3['Nombre de Invitado'].isnull()]"
   ]
  },
  {
   "cell_type": "markdown",
   "metadata": {},
   "source": [
    "## Limpieza Columna -> Laboratorios"
   ]
  },
  {
   "cell_type": "code",
   "execution_count": 57,
   "metadata": {},
   "outputs": [],
   "source": [
    "Laboratorios_3['Laboratorio'] = Laboratorios_3['Laboratorio'].str.rstrip()\n",
    "Laboratorios_3['Laboratorio'] = Laboratorios_3['Laboratorio'].str.capitalize()"
   ]
  },
  {
   "cell_type": "code",
   "execution_count": 58,
   "metadata": {},
   "outputs": [
    {
     "data": {
      "text/plain": [
       "array(['Neuromarketing & comportamiento organizacional',\n",
       "       'Smart logistics', 'Genius space', 'Maker space', 'Team space'],\n",
       "      dtype=object)"
      ]
     },
     "execution_count": 58,
     "metadata": {},
     "output_type": "execute_result"
    }
   ],
   "source": [
    "Laboratorios_3['Laboratorio'].unique()"
   ]
  },
  {
   "cell_type": "code",
   "execution_count": 59,
   "metadata": {},
   "outputs": [],
   "source": [
    "#Laboratorios_3[Laboratorios_3['Laboratorio'].isnull()]"
   ]
  },
  {
   "cell_type": "markdown",
   "metadata": {},
   "source": [
    "# Limpieza general"
   ]
  },
  {
   "cell_type": "code",
   "execution_count": 60,
   "metadata": {},
   "outputs": [
    {
     "data": {
      "text/plain": [
       "['Semestre', 'Estado de la actividad', 'Nombres y Apellidos']"
      ]
     },
     "execution_count": 60,
     "metadata": {},
     "output_type": "execute_result"
    }
   ],
   "source": [
    "Laboratorios_3.columns.tolist()[:3]"
   ]
  },
  {
   "cell_type": "code",
   "execution_count": 61,
   "metadata": {},
   "outputs": [],
   "source": [
    "#Laboratorios_3 = Laboratorios_3.dropna(how=\"all\")\n",
    "#Laboratorios_3[\"Horario de Finalización\"].fillna(\"00:00:00\",inplace=True)\n",
    "#Laboratorios_3[\"Horario de Inicio\"].fillna(\"00:00:00\",inplace=True)\n",
    "Laboratorios_3 = Laboratorios_3.reset_index(drop=True)\n",
    "Laboratorios_3 = Laboratorios_3.fillna(\"Sin Información\")"
   ]
  },
  {
   "cell_type": "markdown",
   "metadata": {},
   "source": [
    "## Cambio de Horas a Formato 24"
   ]
  },
  {
   "cell_type": "code",
   "execution_count": 62,
   "metadata": {},
   "outputs": [],
   "source": [
    "#dato = Laboratorios[\"Horario de Finalizacion\"].astype(str)\n",
    "#dato = pd.to_datetime(dato)\n",
    "#dato = dato.dt\n",
    "#dato = dato.to_pydatetime()\n",
    "#Laboratorios[\"Horario de Finalizacion\"]=pd.to_datetime(dato)"
   ]
  },
  {
   "cell_type": "code",
   "execution_count": 63,
   "metadata": {},
   "outputs": [],
   "source": [
    "#dato = Laboratorios[\"Horario de Inicio\"].astype(str)\n",
    "#dato = pd.to_datetime(dato)\n",
    "#dato = dato.dt\n",
    "#dato = dato.to_pydatetime()\n",
    "#Laboratorios[\"Horario de Inicio\"]=pd.to_datetime(dato)#"
   ]
  },
  {
   "cell_type": "code",
   "execution_count": 64,
   "metadata": {},
   "outputs": [
    {
     "data": {
      "text/html": [
       "<div>\n",
       "<style scoped>\n",
       "    .dataframe tbody tr th:only-of-type {\n",
       "        vertical-align: middle;\n",
       "    }\n",
       "\n",
       "    .dataframe tbody tr th {\n",
       "        vertical-align: top;\n",
       "    }\n",
       "\n",
       "    .dataframe thead th {\n",
       "        text-align: right;\n",
       "    }\n",
       "</style>\n",
       "<table border=\"1\" class=\"dataframe\">\n",
       "  <thead>\n",
       "    <tr style=\"text-align: right;\">\n",
       "      <th></th>\n",
       "      <th>Semestre</th>\n",
       "      <th>Estado de la actividad</th>\n",
       "      <th>Nombres y Apellidos</th>\n",
       "      <th>Correo electrónico</th>\n",
       "      <th>Tipo de usuario (GENERAL)</th>\n",
       "      <th>Tipo de usuario (ESPECÍFICO)</th>\n",
       "      <th>Escuela/Facultad/Dependencia</th>\n",
       "      <th>Programa académico</th>\n",
       "      <th>Tipo de actividad (GENERAL)</th>\n",
       "      <th>Tipo de actividad (ESPECIFICA)</th>\n",
       "      <th>...</th>\n",
       "      <th>Grabar Sesión (Camara Gesell)</th>\n",
       "      <th># Participantes</th>\n",
       "      <th>Fecha de la actividad</th>\n",
       "      <th>Día</th>\n",
       "      <th>Horario de Inicio</th>\n",
       "      <th>Horario de Finalización</th>\n",
       "      <th>Cantidad de horas</th>\n",
       "      <th>Motivo cancelación</th>\n",
       "      <th>Otro requerimiento</th>\n",
       "      <th>TimeUpdate</th>\n",
       "    </tr>\n",
       "  </thead>\n",
       "  <tbody>\n",
       "    <tr>\n",
       "      <th>0</th>\n",
       "      <td>2021-1</td>\n",
       "      <td>Realizada</td>\n",
       "      <td>Andres Fernando Montaña Fernandez</td>\n",
       "      <td>andresfe.montana@urosario.edu.co</td>\n",
       "      <td>Docente</td>\n",
       "      <td>Docente de Planta</td>\n",
       "      <td>Escuela de Administración</td>\n",
       "      <td>NO APLICA</td>\n",
       "      <td>Aprendizaje experiencial</td>\n",
       "      <td>Asesoría/capacitación</td>\n",
       "      <td>...</td>\n",
       "      <td>NO</td>\n",
       "      <td>1</td>\n",
       "      <td>2021-01-20 00:00:00</td>\n",
       "      <td>miércoles</td>\n",
       "      <td>14:00:00</td>\n",
       "      <td>14:30:00</td>\n",
       "      <td>0.5</td>\n",
       "      <td>Sin Información</td>\n",
       "      <td>Sin Información</td>\n",
       "      <td>2021-10-29 08:51:36</td>\n",
       "    </tr>\n",
       "    <tr>\n",
       "      <th>1</th>\n",
       "      <td>2021-1</td>\n",
       "      <td>Realizada</td>\n",
       "      <td>Andres Fernando Montaña Fernandez</td>\n",
       "      <td>andresfe.montana@urosario.edu.co</td>\n",
       "      <td>Docente</td>\n",
       "      <td>Docente de Planta</td>\n",
       "      <td>Escuela de Administración</td>\n",
       "      <td>NO APLICA</td>\n",
       "      <td>Aprendizaje experiencial</td>\n",
       "      <td>Asesoría/capacitación</td>\n",
       "      <td>...</td>\n",
       "      <td>NO</td>\n",
       "      <td>1</td>\n",
       "      <td>2021-01-20 00:00:00</td>\n",
       "      <td>miércoles</td>\n",
       "      <td>10:00:00</td>\n",
       "      <td>11:00:00</td>\n",
       "      <td>1.0</td>\n",
       "      <td>Sin Información</td>\n",
       "      <td>Sin Información</td>\n",
       "      <td>2021-10-29 08:51:36</td>\n",
       "    </tr>\n",
       "    <tr>\n",
       "      <th>2</th>\n",
       "      <td>2021-1</td>\n",
       "      <td>Realizada</td>\n",
       "      <td>Andres Fernando Montaña Fernandez</td>\n",
       "      <td>andresfe.montana@urosario.edu.co</td>\n",
       "      <td>Docente</td>\n",
       "      <td>Docente de Planta</td>\n",
       "      <td>Escuela de Administración</td>\n",
       "      <td>NO APLICA</td>\n",
       "      <td>Aprendizaje experiencial</td>\n",
       "      <td>Asesoría/capacitación</td>\n",
       "      <td>...</td>\n",
       "      <td>NO</td>\n",
       "      <td>1</td>\n",
       "      <td>2021-01-21 00:00:00</td>\n",
       "      <td>jueves</td>\n",
       "      <td>17:00:00</td>\n",
       "      <td>17:30:00</td>\n",
       "      <td>0.5</td>\n",
       "      <td>Sin Información</td>\n",
       "      <td>Sin Información</td>\n",
       "      <td>2021-10-29 08:51:36</td>\n",
       "    </tr>\n",
       "  </tbody>\n",
       "</table>\n",
       "<p>3 rows × 33 columns</p>\n",
       "</div>"
      ],
      "text/plain": [
       "  Semestre Estado de la actividad                Nombres y Apellidos  \\\n",
       "0   2021-1              Realizada  Andres Fernando Montaña Fernandez   \n",
       "1   2021-1              Realizada  Andres Fernando Montaña Fernandez   \n",
       "2   2021-1              Realizada  Andres Fernando Montaña Fernandez   \n",
       "\n",
       "                 Correo electrónico Tipo de usuario (GENERAL)  \\\n",
       "0  andresfe.montana@urosario.edu.co                   Docente   \n",
       "1  andresfe.montana@urosario.edu.co                   Docente   \n",
       "2  andresfe.montana@urosario.edu.co                   Docente   \n",
       "\n",
       "  Tipo de usuario (ESPECÍFICO) Escuela/Facultad/Dependencia  \\\n",
       "0            Docente de Planta    Escuela de Administración   \n",
       "1            Docente de Planta    Escuela de Administración   \n",
       "2            Docente de Planta    Escuela de Administración   \n",
       "\n",
       "  Programa académico Tipo de actividad (GENERAL)  \\\n",
       "0          NO APLICA    Aprendizaje experiencial   \n",
       "1          NO APLICA    Aprendizaje experiencial   \n",
       "2          NO APLICA    Aprendizaje experiencial   \n",
       "\n",
       "  Tipo de actividad (ESPECIFICA)  ... Grabar Sesión (Camara Gesell)  \\\n",
       "0          Asesoría/capacitación  ...                            NO   \n",
       "1          Asesoría/capacitación  ...                            NO   \n",
       "2          Asesoría/capacitación  ...                            NO   \n",
       "\n",
       "  # Participantes Fecha de la actividad        Día Horario de Inicio  \\\n",
       "0               1   2021-01-20 00:00:00  miércoles          14:00:00   \n",
       "1               1   2021-01-20 00:00:00  miércoles          10:00:00   \n",
       "2               1   2021-01-21 00:00:00     jueves          17:00:00   \n",
       "\n",
       "  Horario de Finalización Cantidad de horas Motivo cancelación  \\\n",
       "0                14:30:00               0.5    Sin Información   \n",
       "1                11:00:00               1.0    Sin Información   \n",
       "2                17:30:00               0.5    Sin Información   \n",
       "\n",
       "  Otro requerimiento           TimeUpdate  \n",
       "0    Sin Información  2021-10-29 08:51:36  \n",
       "1    Sin Información  2021-10-29 08:51:36  \n",
       "2    Sin Información  2021-10-29 08:51:36  \n",
       "\n",
       "[3 rows x 33 columns]"
      ]
     },
     "execution_count": 64,
     "metadata": {},
     "output_type": "execute_result"
    }
   ],
   "source": [
    "#Horas = []\n",
    "#for i in range(len(Laboratorios)):\n",
    "#    valor = Laboratorios[\"Horario de Finalizacion\"][i] - Laboratorios[\"Horario de Inicio\"][i]\n",
    "#    valor = valor.seconds//60\n",
    "#    valor = valor / 60\n",
    "#    Horas.append(valor)\n",
    "#Laboratorios[\"Cantidad \\nde hrs\"] = Horas\n",
    "#Agregar Columna de actualización\n",
    "Laboratorios_3[\"TimeUpdate\"] = actualizacion(len(Laboratorios_3))\n",
    "Laboratorios_3\n",
    "Laboratorios_3.head(3)"
   ]
  },
  {
   "cell_type": "markdown",
   "metadata": {},
   "source": [
    "# 5. Generar nuestra nueva Base de Datos"
   ]
  },
  {
   "cell_type": "code",
   "execution_count": 65,
   "metadata": {},
   "outputs": [],
   "source": [
    "Laboratorios_3.to_excel(\"../../../Data/Laboratorios/Data.xlsx\",index=False,sheet_name=\"CONSOLIDADO\")"
   ]
  }
 ],
 "metadata": {
  "deepnote": {
   "is_reactive": false
  },
  "deepnote_execution_queue": [],
  "deepnote_notebook_id": "35bfd3de-b264-4aae-b545-3c95a07eb79a",
  "kernelspec": {
   "display_name": "Python 3",
   "language": "python",
   "name": "python3"
  },
  "language_info": {
   "codemirror_mode": {
    "name": "ipython",
    "version": 3
   },
   "file_extension": ".py",
   "mimetype": "text/x-python",
   "name": "python",
   "nbconvert_exporter": "python",
   "pygments_lexer": "ipython3",
   "version": "3.8.8"
  }
 },
 "nbformat": 4,
 "nbformat_minor": 2
}
