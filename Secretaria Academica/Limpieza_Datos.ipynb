{
 "cells": [
  {
   "cell_type": "markdown",
   "metadata": {},
   "source": [
    "# 1. Instalación Librerias"
   ]
  },
  {
   "cell_type": "code",
   "execution_count": null,
   "metadata": {
    "cell_id": "00000-41d9d54d-9eae-4c94-a207-5852ee6fd930",
    "deepnote_cell_type": "code",
    "deepnote_to_be_reexecuted": false,
    "execution_millis": 5648,
    "execution_start": 1630344612330,
    "source_hash": "186ac3c0",
    "tags": []
   },
   "outputs": [],
   "source": [
    "#!pip install xlrd\n",
    "#!pip install openpyxl"
   ]
  },
  {
   "cell_type": "markdown",
   "metadata": {},
   "source": [
    "# 2. Importar Librerias"
   ]
  },
  {
   "cell_type": "code",
   "execution_count": 2,
   "metadata": {},
   "outputs": [],
   "source": [
    "import pandas as pd\n",
    "from datetime import date, time, datetime\n",
    "import numpy as np"
   ]
  },
  {
   "cell_type": "markdown",
   "metadata": {},
   "source": [
    "# 3. Cargar Registro Actividades URSTeam"
   ]
  },
  {
   "cell_type": "code",
   "execution_count": 1,
   "metadata": {},
   "outputs": [],
   "source": [
    "Ruta = \"C:/Users/jhone.cruz/OneDrive - Universidad del rosario/Documentos/Data/Secretaria Academica/\""
   ]
  },
  {
   "cell_type": "code",
   "execution_count": 3,
   "metadata": {
    "cell_id": "00001-e4799119-7c66-402a-9870-4d1c353aed16",
    "deepnote_cell_type": "code",
    "deepnote_to_be_reexecuted": false,
    "execution_millis": 1094,
    "execution_start": 1630344617985,
    "source_hash": "57a0cbb",
    "tags": []
   },
   "outputs": [
    {
     "data": {
      "text/plain": [
       "(932, 32)"
      ]
     },
     "execution_count": 3,
     "metadata": {},
     "output_type": "execute_result"
    }
   ],
   "source": [
    "\n",
    "df_pos = pd.read_excel(Ruta+\"Matriculados 2021-1 POSGRADOS.xlsx\")\n",
    "\n",
    "df_pos.shape"
   ]
  },
  {
   "cell_type": "code",
   "execution_count": 4,
   "metadata": {},
   "outputs": [
    {
     "data": {
      "text/plain": [
       "['Facultad',\n",
       " 'Programa',\n",
       " 'Nombre Programa',\n",
       " 'Tipo Documento',\n",
       " 'Documento',\n",
       " 'Código',\n",
       " 'Apellidos',\n",
       " 'Nombres',\n",
       " 'Fecha Nacimiento',\n",
       " 'Edad',\n",
       " 'Semestre',\n",
       " 'Cohorte',\n",
       " 'Cred. Mat',\n",
       " 'Sexo',\n",
       " 'Teléfono',\n",
       " 'Celular',\n",
       " 'Correo institucional',\n",
       " 'Cen.Ben',\n",
       " 'Acceso',\n",
       " 'Subacceso',\n",
       " 'Eps',\n",
       " 'Fecha Actualización Eps',\n",
       " 'Nombre Acudiente',\n",
       " 'Correo Acudiente',\n",
       " 'Tel. Residencia Acudiente',\n",
       " 'Tel. Tabajo Acudiente',\n",
       " 'Dirección Familiar',\n",
       " 'Ciudad Familiar',\n",
       " 'Departamento Familiar',\n",
       " 'Dirección Curso',\n",
       " 'Ciuidad Curso',\n",
       " 'Departamento Curso']"
      ]
     },
     "execution_count": 4,
     "metadata": {},
     "output_type": "execute_result"
    }
   ],
   "source": [
    "df_pos.columns.tolist()"
   ]
  },
  {
   "cell_type": "markdown",
   "metadata": {},
   "source": [
    "# 5. Limpieza de Datos y Preparación de Datos\n",
    "\n",
    "### Columna Sexo"
   ]
  },
  {
   "cell_type": "code",
   "execution_count": 38,
   "metadata": {},
   "outputs": [],
   "source": [
    "df_pos['Nombre Programa'].replace({'ESPECIALIZACIÓN GERENCIA PROYECTOS CONSTRUCCIÓN E INFRAESTRUCTURA -IBAGUE':'ESPECIALIZACIÓN GERENCIA PROYECTOS  CONSTRUCCIÓN E INFRAESTRUCTURA -IBAGUE'},\n",
    "                                inplace = True)"
   ]
  },
  {
   "cell_type": "code",
   "execution_count": 39,
   "metadata": {},
   "outputs": [
    {
     "data": {
      "text/plain": [
       "array(['ESPECIALIZACIÓN EN GERENCIA INTEGRAL DE SERVICIOS DE SALUD',\n",
       "       'ESPECIALIZACIÓN EN GERENCIA DE EMPRESAS',\n",
       "       'ESPECIALIZACIÓN EN GERENCIA DE MARKETING PARA ENTORNOS DIGITALES',\n",
       "       'ESPECIALIZACIÓN EN AUDITORÍA EN SALUD-CONVENIO CON UNIVERSIDAD CES-MEDELLÍN',\n",
       "       'ESP.EN GER/CIA DE LA SEGURIDAD Y SALUD EN EL TRABAJO-CONV UNIV CES-MEDELLÍN',\n",
       "       'ESPECIALIZACIÓN EN GESTIÓN HUMANA',\n",
       "       'ESPECIALIZACIÓN EN GESTIÓN HUMANA - IBAGUE',\n",
       "       'ASISTENTE POSTGRADO', 'VISITANTE POSGRADO',\n",
       "       'ESPECIALIZACIÓN GERENCIA PROYECTOS CONSTRUCCIÓN E INFRAESTRUCTURA -PEREIRA',\n",
       "       'ESPECIALIZACIÓN GERENCIA PROYECTOS DE CONSTRUCCIÓN E INFRAESTRUCTURA -NEIVA',\n",
       "       'ESPECIALIZACIÓN GERENCIA PROYECTOS  CONSTRUCCIÓN E INFRAESTRUCTURA -IBAGUE',\n",
       "       'ESPECIALIZACIÓN GERENCIA PROYECTOS CONSTRUCCIÓN/INFRAESTRUCTURA-V/CENCIO',\n",
       "       'ESPECIALIZACIÓN EN GERENCIA DE PROYECTOS DE SERVICIOS CON TIC',\n",
       "       'ESPECIALIZACIÓN EN GERENCIA DE PROYECTOS DE CONSTRUCCIÓN E INFRAESTRUCTURA',\n",
       "       'MAESTRÍA EN DIRECCIÓN',\n",
       "       'MAESTRÍA EN ADMINISTRACIÓN - MBA PART TIME',\n",
       "       'MAESTRÍA EN ADMINISTRACIÓN - MBA FULL TIME',\n",
       "       'MAESTRÍA EN MARKETING', 'MAESTRÍA EN EMPRENDIMIENTO E INNOVACIÓN',\n",
       "       'MAESTRÍA EN ADMINISTRACIÓN EN SALUD',\n",
       "       'DOCTORADO EN CIENCIAS DE LA DIRECCIÓN',\n",
       "       'ESPECIALIZACIÓN EN GERENCIA DE EMPRESAS - MEDELLÍN',\n",
       "       'ESPECIALIZACIÓN EN GERENCIA DE MERCADEO - MEDELLÍN'], dtype=object)"
      ]
     },
     "execution_count": 39,
     "metadata": {},
     "output_type": "execute_result"
    }
   ],
   "source": [
    "df_pos['Nombre Programa'].unique()"
   ]
  },
  {
   "cell_type": "code",
   "execution_count": 40,
   "metadata": {},
   "outputs": [
    {
     "data": {
      "text/plain": [
       "array(['Femenino', 'Masculino', 'Sin Información'], dtype=object)"
      ]
     },
     "execution_count": 40,
     "metadata": {},
     "output_type": "execute_result"
    }
   ],
   "source": [
    "df_pos['Sexo'].unique()"
   ]
  },
  {
   "cell_type": "code",
   "execution_count": 41,
   "metadata": {},
   "outputs": [
    {
     "data": {
      "text/plain": [
       "(0, 32)"
      ]
     },
     "execution_count": 41,
     "metadata": {},
     "output_type": "execute_result"
    }
   ],
   "source": [
    "df_pos[df_pos['Sexo'].isnull()].shape"
   ]
  },
  {
   "cell_type": "code",
   "execution_count": 42,
   "metadata": {},
   "outputs": [],
   "source": [
    "df_pos['Sexo'] = df_pos[\"Sexo\"].fillna(\"Sin Información\")"
   ]
  },
  {
   "cell_type": "markdown",
   "metadata": {},
   "source": [
    "### Columna Acceso"
   ]
  },
  {
   "cell_type": "code",
   "execution_count": 43,
   "metadata": {},
   "outputs": [
    {
     "data": {
      "text/plain": [
       "array(['Pruebas de acceso a Especializaciones',\n",
       "       'Pruebas de acceso a Maestrías', 'Pruebas de Acceso a Doctorado',\n",
       "       'Sin Información'], dtype=object)"
      ]
     },
     "execution_count": 43,
     "metadata": {},
     "output_type": "execute_result"
    }
   ],
   "source": [
    "df_pos['Acceso'].unique()"
   ]
  },
  {
   "cell_type": "code",
   "execution_count": 48,
   "metadata": {},
   "outputs": [
    {
     "data": {
      "text/plain": [
       "(0, 32)"
      ]
     },
     "execution_count": 48,
     "metadata": {},
     "output_type": "execute_result"
    }
   ],
   "source": [
    "df_pos[df_pos['Acceso'].isnull()].shape"
   ]
  },
  {
   "cell_type": "code",
   "execution_count": 51,
   "metadata": {},
   "outputs": [],
   "source": [
    "!winver"
   ]
  },
  {
   "cell_type": "code",
   "execution_count": 46,
   "metadata": {},
   "outputs": [],
   "source": [
    "df_pos['Acceso'] = df_pos['Acceso'].fillna(\"Sin Información\")"
   ]
  },
  {
   "cell_type": "code",
   "execution_count": 47,
   "metadata": {},
   "outputs": [],
   "source": [
    "df_pos.to_excel(\"../../../Documentos/Data/Secretaria Academica/Matriculados_Posgrado_2021I.xlsx\",index=False,sheet_name=\"Sheet1\")"
   ]
  }
 ],
 "metadata": {
  "deepnote": {
   "is_reactive": false
  },
  "deepnote_execution_queue": [],
  "deepnote_notebook_id": "35bfd3de-b264-4aae-b545-3c95a07eb79a",
  "kernelspec": {
   "display_name": "Python 3",
   "language": "python",
   "name": "python3"
  },
  "language_info": {
   "codemirror_mode": {
    "name": "ipython",
    "version": 3
   },
   "file_extension": ".py",
   "mimetype": "text/x-python",
   "name": "python",
   "nbconvert_exporter": "python",
   "pygments_lexer": "ipython3",
   "version": "3.8.8"
  }
 },
 "nbformat": 4,
 "nbformat_minor": 2
}
